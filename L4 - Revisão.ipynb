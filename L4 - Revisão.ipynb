{
 "cells": [
  {
   "cell_type": "markdown",
   "id": "ac207226",
   "metadata": {},
   "source": [
    "## Exercícios de consolidação de conteúdo"
   ]
  },
  {
   "cell_type": "code",
   "execution_count": 2,
   "id": "18031be7",
   "metadata": {
    "tags": []
   },
   "outputs": [],
   "source": [
    "import pandas as pd\n",
    "from sklearn.linear_model import LinearRegression\n",
    "import seaborn as sns\n",
    "import statsmodels.api as sm\n",
    "import numpy as np\n",
    "import matplotlib.pyplot as plt"
   ]
  },
  {
   "cell_type": "code",
   "execution_count": 9,
   "id": "1155228b",
   "metadata": {
    "tags": []
   },
   "outputs": [],
   "source": [
    "from scipy.stats import norm\n",
    "from scipy.stats import t\n",
    "import numpy as np\n",
    "import matplotlib.pyplot as plt"
   ]
  },
  {
   "cell_type": "markdown",
   "id": "55f9a04c",
   "metadata": {},
   "source": [
    "1) Uma companhia multinacional tem três fábricas que produzem o\n",
    "mesmo tipo de produto. A fábrica I é responsável por 30% do total\n",
    "produzido, a fábrica II produz 45% do total, e o restante vem da\n",
    "fábrica III. Cada uma das fábricas, no entanto, produz uma\n",
    "proporção de produtos que não atendem aos padrões estabelecidos\n",
    "pelas normas internacionais. Tais produtos são considerados\n",
    "“defeituosos” e correspondem a 1%, 2% e 1,5%, respectivamente,\n",
    "dos totais produzidos por fábrica.\n",
    "No centro de distribuição é feito o controle de qualidade da\n",
    "produção combinada das fábricas.\n",
    "\n",
    "- a) Qual é a probabilidade de se encontrar um produto defeituoso durante uma inspeção?\n",
    "\n",
    "- b) Se durante a inspeção encontrarmos um produto defeituoso, qual é a probabilidade que ele tenha sido produzido pela fábrica II? E da I? E da III?\n"
   ]
  },
  {
   "cell_type": "code",
   "execution_count": 4,
   "id": "1d859884",
   "metadata": {
    "tags": []
   },
   "outputs": [
    {
     "name": "stdout",
     "output_type": "stream",
     "text": [
      " A probabilidade de encontrar um produto defeituoso durante uma inspeção é de: 1.575%\n"
     ]
    }
   ],
   "source": [
    "# fabrica1 = produz 30% / prod_defeituoso = 1%\n",
    "# fabrica2 = produz 45% / prod_defeituoso = 2%\n",
    "# fabrica3 = produz 25% / prod_defeituoso = 1.5%\n",
    "\n",
    "\n",
    "# Produção em % nas fábricas\n",
    "fab1, fab2, fab3 = 0.3, 0.45, 0.25\n",
    "\n",
    "# Porcentagem de produtos defeituosos em cada fabrica.\n",
    "\n",
    "def_fab1, def_fab2, def_fab3 = 0.01, 0.02, 0.015\n",
    "\n",
    "# a) Qual é a probabilidade de se encontrar um produto defeituoso durante uma inspeção?\n",
    "\n",
    "pro_prodDef = (fab1 * def_fab1) + (fab2 * def_fab2) + (fab3 * def_fab3)\n",
    "#Prob_prod_defeituso = (0.3*0.01) + (0.45 * 0.02) + (0.25 * 0.015)\n",
    "\n",
    "print(f' A probabilidade de encontrar um produto defeituoso durante uma inspeção é de: {pro_prodDef*100}%')"
   ]
  },
  {
   "cell_type": "markdown",
   "id": "d8c78b8e-489c-453f-89ed-9df1c23c257e",
   "metadata": {},
   "source": [
    "### b) Se durante a inspeção encontrarmos um produto defeituoso, qual é a probabilidade que ele tenha sido produzido pela fábrica II? E da I? E da III?\n",
    "\n",
    "- Relembrando teorema de bayes:\n",
    "P(A|B) = P(B|A)*P(A) / P(B)\n",
    "\n",
    "\n",
    "$$ P(A|B) = \\frac{P(B|A) \\times P(A)}{P(B)} $$"
   ]
  },
  {
   "cell_type": "code",
   "execution_count": 5,
   "id": "2ef28995-aeaa-4f75-974b-d3e482c9d370",
   "metadata": {
    "tags": []
   },
   "outputs": [
    {
     "name": "stdout",
     "output_type": "stream",
     "text": [
      "Caso encontremos um produto defeituoso, ele tem a probabilidade de:\n",
      "\n",
      "\n",
      "Ter vindo da fabrica_I de: 19.05 %\n",
      "Ter vindo da fabrica_II de: 57.14 %\n",
      "Ter vindo da fabrica_III de: 23.81 %\n"
     ]
    }
   ],
   "source": [
    "# Fabrica I\n",
    "P_fab1_dadoDefeito = (def_fab1 * fab1) / pro_prodDef\n",
    "\n",
    "# Fabrica II\n",
    "P_fab2_dadoDefeito =  (def_fab2 * fab2) / pro_prodDef\n",
    "\n",
    "# Fabrica III\n",
    "P_fab3_dadoDefeito = (def_fab3 * fab3)  / pro_prodDef\n",
    "\n",
    "print(f'Caso encontremos um produto defeituoso, ele tem a probabilidade de:\\n\\n')\n",
    "print(f'Ter vindo da fabrica_I de: {round(P_fab1_dadoDefeito*100, 2)} %\\nTer vindo da fabrica_II de: {round(P_fab2_dadoDefeito*100, 2)} %\\nTer vindo da fabrica_III de: {round(P_fab3_dadoDefeito*100, 2)} %')"
   ]
  },
  {
   "cell_type": "markdown",
   "id": "654dc9fc",
   "metadata": {},
   "source": [
    "2) Um centro de pesquisa afirma que mais de 55% dos\n",
    "adultos americanos acham que é essencial que os Estados\n",
    "Unidos continuem a ser um líder mundial na\n",
    "exploração espacial. Em uma amostra aleatória de 25\n",
    "adultos americanos, 64% acham que é essencial que\n",
    "os Estados Unidos continuem a ser um líder mundial\n",
    "na exploração espacial. Para o nível de significância\n",
    "$\\alpha = 0,05$, há evidência suficiente para concordar com a\n",
    "afirmação do centro de pesquisa? "
   ]
  },
  {
   "cell_type": "code",
   "execution_count": 11,
   "id": "6606dbbf-a821-436f-8cf5-1bd5e6298985",
   "metadata": {
    "tags": []
   },
   "outputs": [],
   "source": [
    "import scipy.stats as stats\n",
    "# H1, hipotese alternativa -> Proporção é > 55%\n",
    "proporcao_amostral = 0.64\n",
    "\n",
    "# H0, hipotese nula -> Proporção é == 55%\n",
    "proporcao_nula = 0.55\n",
    "\n",
    "# tamanho da amostra\n",
    "n = 25\n",
    "\n"
   ]
  },
  {
   "cell_type": "markdown",
   "id": "1375c388-b460-46a2-8130-6d3c0e10ca6d",
   "metadata": {},
   "source": [
    "Estatistica do teste: Fórmula\n",
    "z = (H1 - H0)/((H0*(1-H0)/n)**0.5)"
   ]
  },
  {
   "cell_type": "code",
   "execution_count": 12,
   "id": "271f0858-dcf3-4e34-bf36-51a91241df97",
   "metadata": {
    "tags": []
   },
   "outputs": [
    {
     "name": "stdout",
     "output_type": "stream",
     "text": [
      "Não há evidência suficiente para concordar com a afirmação do centro de pesquisa.\n"
     ]
    }
   ],
   "source": [
    "# Estatistica do teste\n",
    "z = (proporcao_amostral-proporcao_nula)/((proporcao_nula * (1-proporcao_nula) / n)**0.5)\n",
    "\n",
    "# Calculando o valor p\n",
    "valor_p = 1 - stats.norm.cdf(z)\n",
    "\n",
    "# Nível de significância\n",
    "alfa = 0.05\n",
    "\n",
    "# Verificando se há evidência suficiente para concordar com a afirmação do centro de pesquisa\n",
    "if valor_p < alfa:\n",
    "    print(\"Há evidência suficiente para concordar com a afirmação do centro de pesquisa.\")\n",
    "else:\n",
    "    print(\"Não há evidência suficiente para concordar com a afirmação do centro de pesquisa.\")\n"
   ]
  },
  {
   "cell_type": "markdown",
   "id": "cc9a719c-bd0d-4e85-9c98-bdc83924600d",
   "metadata": {},
   "source": [
    "Note que, da forma como foi definida, a variância é um valor **quadrático** nos dados. Para evitar isso, é comum tirar a raiz quadrada da variância, o que define o **desvio padrão**:\n",
    "$$ \\sigma = \\sqrt{\\sum_{i=1}^{n}\\frac{(x_i-\\mu)^{2}}{n}}$$\n",
    "\n",
    "Obs.: Quando falarmos em amostra, usaremos a seguinte expressão:\n",
    "$$ s = \\sqrt{\\sum_{i=1}^{n}\\frac{(x_i-\\overline{x})^{2}}{n-1}}$$"
   ]
  },
  {
   "cell_type": "code",
   "execution_count": null,
   "id": "acc7017d-f3b1-4dd5-89cd-c937006ef998",
   "metadata": {},
   "outputs": [],
   "source": []
  },
  {
   "cell_type": "code",
   "execution_count": null,
   "id": "3c52ce35-57e2-47df-8b5f-a9c56bbf4abc",
   "metadata": {},
   "outputs": [],
   "source": []
  },
  {
   "cell_type": "code",
   "execution_count": null,
   "id": "4c82dc96-44d0-4cea-8576-9322956b8830",
   "metadata": {},
   "outputs": [],
   "source": []
  },
  {
   "cell_type": "code",
   "execution_count": null,
   "id": "634b1ee7-9e49-4ad5-a909-9655d0e1d9c5",
   "metadata": {},
   "outputs": [],
   "source": []
  },
  {
   "cell_type": "code",
   "execution_count": null,
   "id": "3ed5bc68-1de4-4b47-8c0a-14a57896f152",
   "metadata": {},
   "outputs": [],
   "source": []
  },
  {
   "cell_type": "code",
   "execution_count": null,
   "id": "3134d37f-7e6e-4620-add4-7345202647f0",
   "metadata": {},
   "outputs": [],
   "source": []
  },
  {
   "cell_type": "code",
   "execution_count": null,
   "id": "6347ca67-337a-48f2-930b-e4eeed08f15a",
   "metadata": {},
   "outputs": [],
   "source": []
  },
  {
   "cell_type": "code",
   "execution_count": null,
   "id": "ec1a17e4-eab6-4f09-a10e-f3a649285807",
   "metadata": {},
   "outputs": [],
   "source": []
  },
  {
   "cell_type": "code",
   "execution_count": null,
   "id": "5952790a-1554-46d1-85e0-4869dd8ee213",
   "metadata": {},
   "outputs": [],
   "source": []
  },
  {
   "cell_type": "code",
   "execution_count": null,
   "id": "4ea399a2-2f7e-4d18-a5ae-47b325835593",
   "metadata": {},
   "outputs": [],
   "source": []
  },
  {
   "cell_type": "code",
   "execution_count": null,
   "id": "39856405-5ad1-40b0-9466-d0a0b3c3978c",
   "metadata": {},
   "outputs": [],
   "source": []
  },
  {
   "cell_type": "code",
   "execution_count": null,
   "id": "730646d8-0a79-47fa-a2eb-ff5f6968de39",
   "metadata": {},
   "outputs": [],
   "source": []
  },
  {
   "cell_type": "code",
   "execution_count": null,
   "id": "9a4004b2-c35e-4a02-92a6-361cd103c669",
   "metadata": {},
   "outputs": [],
   "source": []
  },
  {
   "cell_type": "code",
   "execution_count": 16,
   "id": "e55228de-7edf-4185-a6cd-48a96bd60b93",
   "metadata": {
    "tags": []
   },
   "outputs": [
    {
     "name": "stdout",
     "output_type": "stream",
     "text": [
      "Não há evidência suficiente para concordar com a afirmação do centro de pesquisa.\n"
     ]
    }
   ],
   "source": [
    "import scipy.stats as stats\n",
    "\n",
    "# Proporção na amostra\n",
    "proporcao_amostral = 0.64\n",
    "\n",
    "# Proporção sob a hipótese nula\n",
    "proporcao_nula = 0.55\n",
    "\n",
    "# Tamanho da amostra\n",
    "n = 25\n",
    "\n",
    "# Calculando a estatística de teste z\n",
    "z = (proporcao_amostral - proporcao_nula) / ( (proporcao_nula * (1 - proporcao_nula)) / n )**0.5\n",
    "\n",
    "# Calculando o valor p\n",
    "valor_p = 1 - stats.norm.cdf(z)\n",
    "\n",
    "# Nível de significância\n",
    "alfa = 0.05\n",
    "\n",
    "# Verificando se há evidência suficiente para concordar com a afirmação do centro de pesquisa\n",
    "if valor_p < alfa:\n",
    "    print(\"Há evidência suficiente para concordar com a afirmação do centro de pesquisa.\")\n",
    "else:\n",
    "    print(\"Não há evidência suficiente para concordar com a afirmação do centro de pesquisa.\")\n"
   ]
  },
  {
   "cell_type": "code",
   "execution_count": 15,
   "id": "7347e0ac-acdf-4e2b-a918-296c8d7bd25d",
   "metadata": {
    "tags": []
   },
   "outputs": [
    {
     "name": "stdout",
     "output_type": "stream",
     "text": [
      "Desvio Padrão: 0.096\n"
     ]
    }
   ],
   "source": [
    "# H0 = A proporção da pop que acha... == 55%\n",
    "# H1 = A proporção da pop que acha... > 55%\n",
    "# Nivel de significancia = 0,05 (5%)\n",
    "\n",
    "# Me falta o desvio padrão. Vamos calcular:\n",
    "# Proporção estimada na amostra\n",
    "p = 0.64\n",
    "\n",
    "# Tamanho da amostra\n",
    "n = 25\n",
    "\n",
    "# Calculando o desvio padrão\n",
    "desvio_padrao = np.sqrt((p * (1 - p)) / n)\n",
    "\n",
    "print(\"Desvio Padrão:\", desvio_padrao)"
   ]
  },
  {
   "cell_type": "markdown",
   "id": "844897f2-ecab-440f-ab95-b68a24827b86",
   "metadata": {},
   "source": [
    "##### Dado o Z  --> encontrando a área:\n",
    "norm.cdf(Z) --> do menos infinito até  Z  \n",
    "norm.sf(Z) --> do Z até mais infinito  \n",
    "\n",
    "##### Dado a área --> encontro o z:  \n",
    "norm.ppf(área) --> Z (área do menos infinito até Z)  \n",
    "norm.isf(área) --> Z (área de Z até mais infinito)  \n"
   ]
  },
  {
   "cell_type": "code",
   "execution_count": 14,
   "id": "d7664001",
   "metadata": {
    "tags": []
   },
   "outputs": [
    {
     "data": {
      "text/plain": [
       "(-1.9599639845400545, 1.9599639845400545)"
      ]
     },
     "execution_count": 14,
     "metadata": {},
     "output_type": "execute_result"
    }
   ],
   "source": [
    "# H0 = A proporção da pop que acha... == 55%\n",
    "# H1 = A proporção da pop que acha... > 55%\n",
    "# Nivel de significancia = 0,05 (5%)\n",
    "# Usaremos a distribuição T\n",
    "\n",
    "\n",
    "n_significancia = 0.05\n",
    "confianca = 1 - n_significancia\n",
    "\n",
    "# Achando o Z Critico.\n",
    "norm.ppf(n_significancia/2), norm.isf(n_significancia/2) #Zc = 1.9599639845400545\n",
    "\n",
    "\n"
   ]
  },
  {
   "cell_type": "markdown",
   "id": "8d0e3a4d",
   "metadata": {},
   "source": [
    "3) Quais são as características de uma série temporal estacionária? "
   ]
  },
  {
   "cell_type": "markdown",
   "id": "6ac1abd0-e48d-4179-bee1-2237db7e0555",
   "metadata": {},
   "source": [
    "A média e a variancia se mantem constantes ao longo do tempo"
   ]
  }
 ],
 "metadata": {
  "kernelspec": {
   "display_name": "Python 3 (ipykernel)",
   "language": "python",
   "name": "python3"
  },
  "language_info": {
   "codemirror_mode": {
    "name": "ipython",
    "version": 3
   },
   "file_extension": ".py",
   "mimetype": "text/x-python",
   "name": "python",
   "nbconvert_exporter": "python",
   "pygments_lexer": "ipython3",
   "version": "3.11.5"
  }
 },
 "nbformat": 4,
 "nbformat_minor": 5
}
