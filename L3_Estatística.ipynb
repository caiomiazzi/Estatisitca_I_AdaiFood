{
 "cells": [
  {
   "cell_type": "markdown",
   "id": "615f2026",
   "metadata": {
    "id": "615f2026"
   },
   "source": [
    "# Exercícios - Estatística"
   ]
  },
  {
   "cell_type": "markdown",
   "id": "b3fd867e",
   "metadata": {
    "id": "b3fd867e"
   },
   "source": [
    "### Questão 1"
   ]
  },
  {
   "cell_type": "markdown",
   "id": "1a47d0ed",
   "metadata": {
    "id": "1a47d0ed"
   },
   "source": [
    "Uma relação bem importante entre uma população e uma amostra, é que uma amostra pode ser significativa daquela população (ou seja, podemos inferir que a média e variância da amostra será bem próximo do valor real da população), isto quando essa amostra for grande o suficiente para isso. Vamos fazer algumas simulações utilizando o _Python_ para testar esses conceitos, resolvendo os itens a seguir:\n",
    "\n",
    "__A)__ Crie uma lista com número aleatórios entre 20 e 50 e que essa lista contenha 1 milhão de elementos;\n",
    "\n",
    "__B)__ Calcule a média e a variância para essa lista;\n",
    "\n",
    "__C)__ Faça amostra aleatórias de diversos tamanhos (10, 100, 1.000 e 10.000 elementos) e calcule as mesmas métricas que o item anterior, para avaliar o conceito proposto no enunciado"
   ]
  },
  {
   "cell_type": "code",
   "execution_count": 2,
   "id": "0e93f872",
   "metadata": {
    "id": "0e93f872"
   },
   "outputs": [
    {
     "name": "stdout",
     "output_type": "stream",
     "text": [
      "Média da lista grande: 34.99338534085874\n",
      "Variância da lista grande: 74.92616728026596\n",
      "Tamanho da amostra: 10, Média: 34.448076629739894, Variância: 53.672483595120994\n",
      "Tamanho da amostra: 100, Média: 34.338742726417976, Variância: 77.18418697767216\n",
      "Tamanho da amostra: 1000, Média: 35.25568285308192, Variância: 77.28193014890412\n",
      "Tamanho da amostra: 10000, Média: 34.98961955691644, Variância: 74.64728797809543\n"
     ]
    }
   ],
   "source": [
    "import random\n",
    "import numpy as np\n",
    "import statistics\n",
    "\n",
    "\n",
    "# (A)\n",
    "# Criando a lista\n",
    "lista_grande = [random.uniform(20, 50) for _ in range(1000000)]\n",
    "\n",
    "\n",
    "# (B)\n",
    "# média e a variância \n",
    "media_grande = statistics.mean(lista_grande)\n",
    "variancia_grande = statistics.variance(lista_grande)\n",
    "\n",
    "print(\"Média da lista grande:\", media_grande)\n",
    "print(\"Variância da lista grande:\", variancia_grande)\n",
    "\n",
    "\n",
    "# (C)\n",
    "tamanhos_amostra = [10, 100, 1000, 10000]\n",
    "\n",
    "for tamanho in tamanhos_amostra:\n",
    "    amostra = random.sample(lista_grande, tamanho)\n",
    "    media_amostra = statistics.mean(amostra)\n",
    "    variancia_amostra = statistics.variance(amostra)\n",
    "    print(f\"Tamanho da amostra: {tamanho}, Média: {media_amostra}, Variância: {variancia_amostra}\")\n"
   ]
  },
  {
   "cell_type": "markdown",
   "id": "3502aea3",
   "metadata": {
    "id": "3502aea3"
   },
   "source": [
    "### Questão 2"
   ]
  },
  {
   "cell_type": "markdown",
   "id": "97416ea6",
   "metadata": {
    "id": "97416ea6"
   },
   "source": [
    "Neste exercício vamos demonstrar a importância de uma amostragem estratificada quando temos grupos significantes dentro da população. Faça os seguintes itens:\n",
    "\n",
    "__A)__ Crie 3 listas de números aleatórios sendo elas:\n",
    "    - uma lista com números aleatórios entre 40 e 50 contendo 10.000 elementos;\n",
    "    - uma lista com números aleatórios entre 10 e 20 contendo 6.000 elementos;\n",
    "    - uma lista com números aleatórios entre 80 e 90 contendo 4.000 elementos.\n",
    "    \n",
    "__B)__ Calcule a média e a variância para cada uma das 3 listas;\n",
    "\n",
    "__C)__ Calcule a média e a variância para a população, onde a população seja as 3 listas juntas;\n",
    "\n",
    "__Dica.:__ Neste caso, temos que trabalhar com média e variância ponderada!\n",
    "\n",
    "__D)__ Una as 3 listas em uma só e retire uma amostra de 1% da lista resultante. Calcule a média e a variância para esta amostra;\n",
    "\n",
    "__E)__ Por fim, faça uma amostra estratificada da seguinte forma: faça uma amostra aleatória de 1% de cada uma das 3 listas e em seguida calcule a média e a variância para a amostra estratificada (será necessário utilizar a média e variância ponderada!).\n",
    "\n",
    "__F)__ Compare o resultado das métricas para a amostra e a amostra estratificada com o valor das métricas da população."
   ]
  },
  {
   "cell_type": "code",
   "execution_count": 8,
   "id": "119245b9",
   "metadata": {
    "id": "119245b9"
   },
   "outputs": [
    {
     "name": "stdout",
     "output_type": "stream",
     "text": [
      "Lista 1 - Média: 44.98286998149683 Variância: 8.304986483825068\n",
      "Lista 2 - Média: 14.965970965596938 Variância: 8.412262186898372\n",
      "Lista 3 - Média: 85.04427525064216 Variância: 8.541256691179969\n",
      "Métricas da População: \n",
      "Amostra com 20000 elementos\n",
      "Média Ponderada:      43.99008133055593\n",
      "Variância Ponderada:  25.25850536190341\n"
     ]
    }
   ],
   "source": [
    "# (A)\n",
    "\n",
    "# tamanho das listas\n",
    "n1 = 10000\n",
    "n2 = 6000\n",
    "n3 = 4000\n",
    "\n",
    "\n",
    "\n",
    "lista1 = [random.uniform(40, 50) for _ in range(10000)]\n",
    "lista2 = [random.uniform(10, 20) for _ in range(6000)]\n",
    "lista3 = [random.uniform(80, 90) for _ in range(4000)]\n",
    "\n",
    "#(B)\n",
    "media_lista1 = statistics.mean(lista1)\n",
    "variancia_lista1 = statistics.variance(lista1)\n",
    "\n",
    "media_lista2 = statistics.mean(lista2)\n",
    "variancia_lista2 = statistics.variance(lista2)\n",
    "\n",
    "media_lista3 = statistics.mean(lista3)\n",
    "variancia_lista3 = statistics.variance(lista3)\n",
    "\n",
    "print(\"Lista 1 - Média:\", media_lista1, \"Variância:\", variancia_lista1)\n",
    "print(\"Lista 2 - Média:\", media_lista2, \"Variância:\", variancia_lista2)\n",
    "print(\"Lista 3 - Média:\", media_lista3, \"Variância:\", variancia_lista3)\n",
    "\n",
    "#(C)\n",
    "# Total da população\n",
    "N = n1 + n2 + n3\n",
    "\n",
    "# peso 1\n",
    "p1 = n1/N\n",
    "\n",
    "# peso 2\n",
    "p2 = n2/N\n",
    "\n",
    "# peso 3\n",
    "p3 = n3/N\n",
    "\n",
    "# Média Ponderada das listas\n",
    "mean_N = p1*media_lista1 + p2*media_lista2 + p3*media_lista3\n",
    "\n",
    "# Variância Ponderada das listas\n",
    "var_N = variancia_lista1 + variancia_lista2 + variancia_lista3\n",
    "\n",
    "# Print das métricas da população\n",
    "print('Métricas da População: ')\n",
    "print('Amostra com {} elementos'.format(N))\n",
    "print('Média Ponderada:     ', mean_N)\n",
    "print('Variância Ponderada: ', var_N)\n"
   ]
  },
  {
   "cell_type": "markdown",
   "id": "2e3a7b3a",
   "metadata": {
    "id": "2e3a7b3a"
   },
   "source": [
    "### Questão 3"
   ]
  },
  {
   "cell_type": "markdown",
   "id": "8d8b9db9",
   "metadata": {
    "id": "8d8b9db9"
   },
   "source": [
    " Uma máquina de sorvete está regulada de modo a servir uma média de 120g por casquinha. Se a quantidade servida por casquinha seguir uma distribuição normal com desvio padrão de 18g, determine a porcentagem de casquinhas que conterão mais de 150g de sorvete."
   ]
  },
  {
   "cell_type": "code",
   "execution_count": 9,
   "id": "3b3ff14e",
   "metadata": {
    "id": "3b3ff14e"
   },
   "outputs": [
    {
     "name": "stdout",
     "output_type": "stream",
     "text": [
      "Porcentagem de casquinhas com mais de 150g de sorvete: 4.7790352272814705\n"
     ]
    }
   ],
   "source": [
    "from scipy.stats import norm\n",
    "\n",
    "\n",
    "media = 120 \n",
    "desvio_padrao = 18 \n",
    "\n",
    "valor = 150\n",
    "\n",
    "# Calculando a pontuação z\n",
    "z = (valor - media) / desvio_padrao\n",
    "\n",
    "# Encontrando a porcentagem de casquinhas que conterão mais de 150g de sorvete\n",
    "porcentagem_mais_de_150g = 100 * (norm.sf(z))\n",
    "print(\"Porcentagem de casquinhas com mais de 150g de sorvete:\", porcentagem_mais_de_150g)\n",
    "\n"
   ]
  },
  {
   "cell_type": "markdown",
   "id": "18951732",
   "metadata": {
    "id": "18951732"
   },
   "source": [
    "### Questão 4"
   ]
  },
  {
   "cell_type": "markdown",
   "id": "91d33a4a",
   "metadata": {
    "id": "91d33a4a"
   },
   "source": [
    "O peso médio de 500 estudantes do sexo masculino de uma determinada universidade é 71 Kg e o desvio padrão é 5,3 Kg. Admitindo que os pesos são normalmente distribuídos, determine a porcentagem de estudantes que pesam entre 65 e 72,5 kg"
   ]
  },
  {
   "cell_type": "code",
   "execution_count": 10,
   "id": "9dcf53ee",
   "metadata": {
    "id": "9dcf53ee"
   },
   "outputs": [
    {
     "name": "stdout",
     "output_type": "stream",
     "text": [
      "Porcentagem de estudantes com peso entre 65 kg e 72,5 kg: 48.261746020784706\n"
     ]
    }
   ],
   "source": [
    "# % entre 65 72,5\n",
    "\n",
    "from scipy.stats import norm\n",
    "\n",
    "\n",
    "media = 71  \n",
    "desvio_padrao = 5.3 \n",
    "\n",
    "\n",
    "peso_inferior = 65 \n",
    "peso_superior = 72.5  \n",
    "\n",
    "# Calculando  z\n",
    "z_inferior = (peso_inferior - media) / desvio_padrao\n",
    "z_superior = (peso_superior - media) / desvio_padrao\n",
    "\n",
    "# Usando a função de distribuição acumulada para encontrar a área entre os valores de z\n",
    "area_entre_pesos = norm.cdf(z_superior) - norm.cdf(z_inferior)\n",
    "\n",
    "# Convertendo a área para porcentagem\n",
    "porcentagem_entre_pesos = area_entre_pesos * 100\n",
    "\n",
    "print(\"Porcentagem de estudantes com peso entre 65 kg e 72,5 kg:\", porcentagem_entre_pesos)\n",
    "\n",
    "\n",
    "\n"
   ]
  },
  {
   "cell_type": "markdown",
   "id": "49a54c36",
   "metadata": {
    "id": "49a54c36"
   },
   "source": [
    "### Questão 5"
   ]
  },
  {
   "cell_type": "markdown",
   "id": "ad7af421",
   "metadata": {
    "id": "ad7af421"
   },
   "source": [
    "Uma fábrica anuncia que o índice de cafeína em um refrigerante de uma dada marca é igual a 20 mg por lata. Um laboratório realiza 20 análises do índice obtendo: 22, 19, 21, 22, 20, 18, 27, 20, 21, 19, 20, 22, 17, 20, 21,18, 25, 16, 20, 21. Sabe-se que o índice de cafeína do refrigerante dessa marca se distribui normalmente com variância 4 mg$^2$. Pode-se aceitar a afirmação do fabricante, ao nível de 5%?"
   ]
  },
  {
   "cell_type": "code",
   "execution_count": 18,
   "id": "46281c0d",
   "metadata": {
    "id": "46281c0d"
   },
   "outputs": [
    {
     "data": {
      "text/plain": [
       "20.45"
      ]
     },
     "execution_count": 18,
     "metadata": {},
     "output_type": "execute_result"
    }
   ],
   "source": [
    "amostra = [22, 19, 21, 22, 20, 18, 27, 20, 21, 19, 20, 22, 17, 20, 21,18, 25, 16, 20, 21]\n",
    "media_mostra = sum(amostra)/len(amostra)\n",
    "\n",
    "\n",
    "media_fab = 20\n",
    "nivel_aceitacao = 0.05\n",
    "variancia = 4\n",
    "media_mostra"
   ]
  },
  {
   "cell_type": "code",
   "execution_count": 21,
   "id": "5e0d3117-82ba-424a-bdac-8efbc88e2d3c",
   "metadata": {
    "tags": []
   },
   "outputs": [
    {
     "data": {
      "text/plain": [
       "2.4591665254715878"
      ]
     },
     "execution_count": 21,
     "metadata": {},
     "output_type": "execute_result"
    }
   ],
   "source": [
    "# Desvio padrão\n",
    "import numpy as np\n",
    "import math\n",
    "\n",
    "desvio_padrao = np.sqrt(variancia) # pela variancia\n",
    "desvio_padrao_amostra = np.std(amostra) # Pela .std()\n",
    "desvio_padrao_math = math.sqrt(variancia)\n",
    "desvio_padrao_na_mao = variancia ** 0.5\n"
   ]
  },
  {
   "cell_type": "code",
   "execution_count": null,
   "id": "e25f86a5-2755-4991-a472-04a6db7a2654",
   "metadata": {},
   "outputs": [],
   "source": [
    "# H0 == media_mostra = 20\n",
    "# H1 == Media_amostra < 20\n",
    "\n",
    "\n"
   ]
  },
  {
   "cell_type": "code",
   "execution_count": 22,
   "id": "2bf7352d-a5bb-4731-aa85-19656f5771fe",
   "metadata": {
    "tags": []
   },
   "outputs": [
    {
     "name": "stdout",
     "output_type": "stream",
     "text": [
      "Não rejeitamos a hipótese nula. Não há evidências para suportar a alegação do fabricante.\n"
     ]
    }
   ],
   "source": [
    "from scipy.stats import norm\n",
    "import numpy as np\n",
    "\n",
    "# Amostra\n",
    "amostra = [22, 19, 21, 22, 20, 18, 27, 20, 21, 19, 20, 22, 17, 20, 21, 18, 25, 16, 20, 21]\n",
    "\n",
    "# média o desvio padrão da amostra\n",
    "media_amostra = np.mean(amostra)\n",
    "desvio_padrao_amostra = np.std(amostra, ddof=1)  # Usamos ddof=1 para calcular a variância amostral\n",
    "\n",
    "# Parâmetros do fabricante\n",
    "media_fabricante = 20\n",
    "nivel_significancia = 0.05\n",
    "variancia_fabricante = 4\n",
    "\n",
    "# H0: A média da amostra é igual à média do fabricante (20 mg)\n",
    "# H1: A média da amostra é menor que a média do fabricante\n",
    "\n",
    "# Calculando a estatística de teste z\n",
    "z = (media_amostra - media_fabricante) / (desvio_padrao_amostra / np.sqrt(len(amostra)))\n",
    "\n",
    "# Calculando o valor crítico para o nível de significância especificado\n",
    "valor_critico = norm.ppf(nivel_significancia)\n",
    "\n",
    "# Decidindo se rejeitamos ou não a hipótese nula\n",
    "if z < valor_critico:\n",
    "    print(\"Rejeitamos a hipótese nula. Há evidências para suportar a alegação do fabricante.\")\n",
    "else:\n",
    "    print(\"Não rejeitamos a hipótese nula. Não há evidências para suportar a alegação do fabricante.\")\n"
   ]
  }
 ],
 "metadata": {
  "colab": {
   "name": "L3 - Estatística II.ipynb",
   "provenance": []
  },
  "kernelspec": {
   "display_name": "Python 3 (ipykernel)",
   "language": "python",
   "name": "python3"
  },
  "language_info": {
   "codemirror_mode": {
    "name": "ipython",
    "version": 3
   },
   "file_extension": ".py",
   "mimetype": "text/x-python",
   "name": "python",
   "nbconvert_exporter": "python",
   "pygments_lexer": "ipython3",
   "version": "3.11.5"
  },
  "varInspector": {
   "cols": {
    "lenName": 16,
    "lenType": 16,
    "lenVar": 40
   },
   "kernels_config": {
    "python": {
     "delete_cmd_postfix": "",
     "delete_cmd_prefix": "del ",
     "library": "var_list.py",
     "varRefreshCmd": "print(var_dic_list())"
    },
    "r": {
     "delete_cmd_postfix": ") ",
     "delete_cmd_prefix": "rm(",
     "library": "var_list.r",
     "varRefreshCmd": "cat(var_dic_list()) "
    }
   },
   "types_to_exclude": [
    "module",
    "function",
    "builtin_function_or_method",
    "instance",
    "_Feature"
   ],
   "window_display": false
  }
 },
 "nbformat": 4,
 "nbformat_minor": 5
}
