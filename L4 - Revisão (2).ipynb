{
 "cells": [
  {
   "cell_type": "markdown",
   "id": "ac207226",
   "metadata": {},
   "source": [
    "## Exercícios de consolidação de conteúdo"
   ]
  },
  {
   "cell_type": "code",
   "execution_count": 6,
   "id": "18031be7",
   "metadata": {},
   "outputs": [],
   "source": [
    "import pandas as pd\n",
    "from sklearn.linear_model import LinearRegression\n",
    "import seaborn as sns\n",
    "import statsmodels.api as sm\n",
    "import numpy as np\n",
    "import matplotlib.pyplot as plt"
   ]
  },
  {
   "cell_type": "code",
   "execution_count": 77,
   "id": "1155228b",
   "metadata": {},
   "outputs": [],
   "source": []
  },
  {
   "cell_type": "code",
   "execution_count": null,
   "id": "1d859884",
   "metadata": {},
   "outputs": [],
   "source": []
  },
  {
   "cell_type": "markdown",
   "id": "55f9a04c",
   "metadata": {},
   "source": [
    "1) Uma companhia multinacional tem três fábricas que produzem o\n",
    "mesmo tipo de produto. A fábrica I é responsável por 30% do total\n",
    "produzido, a fábrica II produz 45% do total, e o restante vem da\n",
    "fábrica III. Cada uma das fábricas, no entanto, produz uma\n",
    "proporção de produtos que não atendem aos padrões estabelecidos\n",
    "pelas normas internacionais. Tais produtos são considerados\n",
    "“defeituosos” e correspondem a 1%, 2% e 1,5%, respectivamente,\n",
    "dos totais produzidos por fábrica.\n",
    "No centro de distribuição é feito o controle de qualidade da\n",
    "produção combinada das fábricas.\n",
    "\n",
    "- a) Qual é a probabilidade de se encontrar um produto defeituoso durante uma inspeção?\n",
    "\n",
    "- b) Se durante a inspeção encontrarmos um produto defeituoso, qual é a probabilidade que ele tenha sido produzido pela fábrica II? E da I? E da III?\n"
   ]
  },
  {
   "cell_type": "markdown",
   "id": "654dc9fc",
   "metadata": {},
   "source": [
    "2) Um centro de pesquisa afirma que mais de 55% dos\n",
    "adultos americanos acham que é essencial que os Estados\n",
    "Unidos continuem a ser um líder mundial na\n",
    "exploração espacial. Em uma amostra aleatória de 25\n",
    "adultos americanos, 64% acham que é essencial que\n",
    "os Estados Unidos continuem a ser um líder mundial\n",
    "na exploração espacial. Para o nível de significância\n",
    "$\\alpha = 0,05$, há evidência suficiente para concordar com a\n",
    "afirmação do centro de pesquisa? "
   ]
  },
  {
   "cell_type": "code",
   "execution_count": null,
   "id": "d7664001",
   "metadata": {},
   "outputs": [],
   "source": []
  },
  {
   "cell_type": "markdown",
   "id": "8d0e3a4d",
   "metadata": {},
   "source": [
    "3) Quais são as características de uma série temporal estacionária? "
   ]
  },
  {
   "cell_type": "code",
   "execution_count": null,
   "id": "7373fc48",
   "metadata": {},
   "outputs": [],
   "source": []
  }
 ],
 "metadata": {
  "kernelspec": {
   "display_name": "Python 3 (ipykernel)",
   "language": "python",
   "name": "python3"
  },
  "language_info": {
   "codemirror_mode": {
    "name": "ipython",
    "version": 3
   },
   "file_extension": ".py",
   "mimetype": "text/x-python",
   "name": "python",
   "nbconvert_exporter": "python",
   "pygments_lexer": "ipython3",
   "version": "3.11.5"
  }
 },
 "nbformat": 4,
 "nbformat_minor": 5
}
