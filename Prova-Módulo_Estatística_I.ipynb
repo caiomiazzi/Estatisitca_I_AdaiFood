{
 "cells": [
  {
   "cell_type": "markdown",
   "id": "0723563b",
   "metadata": {},
   "source": [
    "<div style=\"background-color: lightgreen; padding: 18px;\">\n",
    "    <h1> Aulas 8 e 9| Estatística I\n",
    "</div>"
   ]
  },
  {
   "cell_type": "markdown",
   "id": "fc8b6c18",
   "metadata": {},
   "source": [
    "<div style=\"background-color: lightblue; padding: 10px;\">\n",
    "    <h2> Avaliação Final\n",
    "</div>\n",
    "    \n",
    "- Substituir em \"Prova-Módulo_Estatística_I\" o seu nome   \n",
    "    \n",
    "- Entregar, hoje, pelo menos 6 questões e subir no drive:  \n",
    "    https://drive.google.com/drive/folders/1mkyBMcY08fSAt4O_-FurWCtMGDkH7oOx?usp=drive_link \n",
    "\n",
    "- As outras questões deverão ser entregues no mesmo drive até 21h de sexta-feira, dua 23/02/2024.  \n",
    "    "
   ]
  },
  {
   "cell_type": "markdown",
   "id": "cbbdea97",
   "metadata": {},
   "source": [
    "## Questões da Prova"
   ]
  },
  {
   "cell_type": "markdown",
   "id": "233f5f3c",
   "metadata": {},
   "source": [
    "### Estatística Descritiva"
   ]
  },
  {
   "cell_type": "markdown",
   "id": "9cf75454",
   "metadata": {},
   "source": [
    "__1)__ Identifique nas alternativas abaixo, a opção que contenha apenas __métricas de posição__:\n",
    "    \n",
    "a) média, desvio padrão<br>\n",
    "b) mediana, moda<br>\n",
    "c) variância, mediana<br>\n",
    "d) desvio padrão, variância<br>\n",
    "e) média, correlação de Pearson<br>"
   ]
  },
  {
   "cell_type": "markdown",
   "id": "64f17229",
   "metadata": {},
   "source": [
    "### Resposta comentada 1):\n",
    "\n"
   ]
  },
  {
   "cell_type": "markdown",
   "id": "0b649ae6-7140-4e4d-b826-a7d3c1ac1437",
   "metadata": {},
   "source": [
    "A resposta é a opção:\n",
    "- b) mediana, moda."
   ]
  },
  {
   "cell_type": "markdown",
   "id": "7e8a0613-5d85-4e3d-8984-144aa14ef38e",
   "metadata": {},
   "source": [
    "Acredito que as 3 metricas de posição são a media, mediana e moda."
   ]
  },
  {
   "cell_type": "markdown",
   "id": "9d96bd30",
   "metadata": {},
   "source": [
    "## "
   ]
  },
  {
   "cell_type": "markdown",
   "id": "219cdba6",
   "metadata": {},
   "source": [
    "__2)__ Dado o boxplot conforme a figura abaixo:\n",
    "\n",
    "<img src=\"https://i0.wp.com/www.abgconsultoria.com.br/blog/wp-content/uploads/boxplot-1-1024x664.png?resize=1024%2C664\" width=400>\n",
    "\n",
    "Como é definida a fórmula para os limites __superior__ e __inferior__ do boxplot que separar os dados da distribuição dos prováveis _outliers_?\n",
    "\n",
    "a) Q1 + 1.5*(Q3 - Q1), Q3 - 1.5*(Q3 - Q1) <br>\n",
    "b) Q3 + 1*(Q3 - Q1), Q1 - 1*(Q3 - Q1) <br>\n",
    "c) Q3 - 1.5*(Q3 - Q1), Q1 + 1.5*(Q3 - Q1) <br>\n",
    "d) Q3 + 1.5*(Q3 - Q1), Q1 - 1.5*(Q3 - Q1) <br>\n",
    "e) 1.5*Q3 + (Q3 - Q1), 1.5*Q1 - (Q3 - Q1) <br>\n"
   ]
  },
  {
   "cell_type": "markdown",
   "id": "511bcd01",
   "metadata": {},
   "source": [
    "### Resposta comentada 2):\n"
   ]
  },
  {
   "cell_type": "markdown",
   "id": "8b518609-d81b-42f2-8f3e-00a8751a671f",
   "metadata": {},
   "source": [
    "A alternativa correta é a:\n",
    "- C)  Q3 - 1.5*(Q3 - Q1), Q1 + 1.5*(Q3 - Q1)"
   ]
  },
  {
   "cell_type": "markdown",
   "id": "680e1728-5018-4c02-9d6e-c005409a258f",
   "metadata": {},
   "source": [
    "Podemos chegar a esta conclusão pois a formula comum seria:\n",
    "- Upper outliers: Q3 + 1,5(IQR)\n",
    "- Lower outliers: Q1 - 1,5(IQR)\n",
    "\n",
    "no caso acima da questão apenas o IQR está substituido pela sua formula que seria:\n",
    "- IQR (interquartile range) = Q3 – Q1"
   ]
  },
  {
   "cell_type": "markdown",
   "id": "4317559e",
   "metadata": {},
   "source": [
    "## "
   ]
  },
  {
   "cell_type": "markdown",
   "id": "42257347",
   "metadata": {},
   "source": [
    "### Probabilidade"
   ]
  },
  {
   "cell_type": "markdown",
   "id": "0a01e568",
   "metadata": {},
   "source": [
    "__3)__ Rafael queria levar dinheiro na escola para comprar balas, mas sua mãe só deixou que ele leva-se duas moedas para a escola. Sabendo que dentro do cofre do Rafael, temos as seguintes moedas:\n",
    "\n",
    "- 10 centavos = 5 moedas\n",
    "- 25 centavos = 3 moedas\n",
    "- 50 centavos = 10 moedas\n",
    "- 01 real     = 2 moedas\n",
    "\n",
    "Qual a probabilidade de Rafael retirar respectivamente uma moeda de __1 real__ e uma moeda de __25 centavos__?\n",
    "\n",
    "a) 30,0 %  <br>\n",
    "b) 10,0 %  <br>\n",
    "c) 31,6 %  <br>\n",
    "d)  5,3 % <br>\n",
    "e) 3,2 % <br>"
   ]
  },
  {
   "cell_type": "markdown",
   "id": "b525e4a3",
   "metadata": {},
   "source": [
    "### Resposta comentada 3):"
   ]
  },
  {
   "cell_type": "markdown",
   "id": "9fe3a075-bd2d-4f45-9ccc-0a01db7ba14a",
   "metadata": {
    "tags": []
   },
   "source": [
    "Temos que:\n",
    "10 centavos = 5 moedas \n",
    "25 centavos = 3 moedas\n",
    "50 centavos = 10 moedas\n",
    "01 real = 2 moedas\n",
    "\n",
    "Total de moedas = 20\n",
    "\n",
    "probabilidades:\n",
    "10_cents = 5/20\n",
    "25_cents = 3/20\n",
    "50_cents = 10/20\n",
    "100_cents = 2/20"
   ]
  },
  {
   "cell_type": "code",
   "execution_count": 4,
   "id": "df0002c6-44b2-4278-8528-fdbabde3ccbf",
   "metadata": {
    "tags": []
   },
   "outputs": [
    {
     "data": {
      "text/plain": [
       "0.015789473684210527"
      ]
     },
     "execution_count": 4,
     "metadata": {},
     "output_type": "execute_result"
    }
   ],
   "source": [
    "p_100centrs = 2/20\n",
    "p_25cents = 3/19\n",
    "\n",
    "\n",
    "P_25cents_100cents = p_100centrs * p_25cents\n",
    "P_25cents_100cents"
   ]
  },
  {
   "cell_type": "code",
   "execution_count": null,
   "id": "b6056fb6",
   "metadata": {},
   "outputs": [],
   "source": []
  },
  {
   "cell_type": "markdown",
   "id": "8700bf3a",
   "metadata": {},
   "source": [
    "### Distribuições"
   ]
  },
  {
   "cell_type": "markdown",
   "id": "f71b5b27",
   "metadata": {},
   "source": [
    "__4)__ Em uma filial de um banco, 40% dos clientes que vão ao caixa eletrônico sacma dinheiro do caixa. Utilizando de uma distribuição binomial, qual é a probabilidade de no máximo 12 clientes sacaram dinheiro em um dia que tivemos 30 clientes no caixa eletrônico?\n",
    "\n",
    "a) 57,8 % <br>\n",
    "b) 40,0 % <br>\n",
    "c) 52,2 % <br>\n",
    "d) 42,2 % <br>\n",
    "e) 47,8 % <br>"
   ]
  },
  {
   "cell_type": "markdown",
   "id": "67db83fc",
   "metadata": {},
   "source": [
    "### Resposta comentada 4):"
   ]
  },
  {
   "cell_type": "code",
   "execution_count": 5,
   "id": "03a7c67b",
   "metadata": {},
   "outputs": [],
   "source": []
  },
  {
   "cell_type": "code",
   "execution_count": null,
   "id": "c17f03ec",
   "metadata": {},
   "outputs": [],
   "source": []
  },
  {
   "cell_type": "markdown",
   "id": "b9721408",
   "metadata": {},
   "source": [
    "## "
   ]
  },
  {
   "cell_type": "markdown",
   "id": "47827929",
   "metadata": {},
   "source": [
    "__5)__ Em um centro de distribuição logístico da Amazon, chegam cerca de 1.440 produtos por dia. Sabendo que segue uma distribuição de Poisson, qual a probabilidade de que em um minuto cheguem 3 produtos?\n",
    "\n",
    "a) 36,8 % <br>\n",
    "b) 18,4 % <br>\n",
    "c) 6,1 %  <br>\n",
    "d) 24,5 %  <br>\n",
    "e) 55,2 %  <br>"
   ]
  },
  {
   "cell_type": "markdown",
   "id": "514f570d",
   "metadata": {},
   "source": [
    "### Resposta comentada 5):"
   ]
  },
  {
   "cell_type": "code",
   "execution_count": null,
   "id": "b21016d0",
   "metadata": {},
   "outputs": [],
   "source": []
  },
  {
   "cell_type": "code",
   "execution_count": null,
   "id": "6bd1ad94",
   "metadata": {},
   "outputs": [],
   "source": []
  },
  {
   "cell_type": "markdown",
   "id": "0db05ca9",
   "metadata": {},
   "source": [
    "## "
   ]
  },
  {
   "cell_type": "markdown",
   "id": "80b7ea20",
   "metadata": {},
   "source": [
    "__6)__ Suponha que 60% das mulheres que compram kits de gravidez instantâneos estejam, de fato, grávidas. Para um kit de uma marca específica, se a mulher estiver grávida, o teste fornecerá resultado positivo 96% das vezes e negativo 4% das vezes (um “falso negativo\"). Se ela não estiver grávida, o teste resultará positivo em 1% das vezes (um “falso positivo”) e\n",
    "negativo 99% das vezes . Suponha que um teste resulte positivo. Qual a probabilidade de que a mulher esteja realmente grávida?\n",
    "\n",
    "a) 77,7 %  <br>\n",
    "b) 39,4 % <br>\n",
    "c) 63,2 %  <br>\n",
    "d) 86,4 % <br>\n",
    "e) 93,5 % <br>\n",
    "\n",
    "__Obs.:__ Torema de Bayes: $P(grávida | positivo) =  \\frac{P(positivo | grávida) * P(grávida)} {P(positivo | grávida) * P(grávida) + P(positivo | não-grávida) * P(não-grávida)} $"
   ]
  },
  {
   "cell_type": "markdown",
   "id": "4fa2f196",
   "metadata": {},
   "source": [
    "### Resposta comentada 6):"
   ]
  },
  {
   "cell_type": "code",
   "execution_count": null,
   "id": "77acec88",
   "metadata": {},
   "outputs": [],
   "source": []
  },
  {
   "cell_type": "code",
   "execution_count": null,
   "id": "0d5cae25",
   "metadata": {
    "ExecuteTime": {
     "end_time": "2021-10-24T20:41:33.898942Z",
     "start_time": "2021-10-24T20:41:33.876002Z"
    }
   },
   "outputs": [],
   "source": []
  },
  {
   "cell_type": "markdown",
   "id": "594e6f4f",
   "metadata": {},
   "source": [
    "## "
   ]
  },
  {
   "cell_type": "markdown",
   "id": "58459bdc",
   "metadata": {},
   "source": [
    "### Distribuição Normal"
   ]
  },
  {
   "cell_type": "markdown",
   "id": "5844dc4c",
   "metadata": {},
   "source": [
    "__7)__ Uma máquina de sorvete está regulada de modo a servir uma média de 80g por casquinha. Se a quantidade servida por casquinha seguir uma distribuição normal com desvio padrão de 8g, qual a porcentagem de casquinhas que conterão mais de 90g de sorvete?\n",
    "\n",
    "a) 26,6 % <br>\n",
    "b) 10,6 % <br>\n",
    "d) 50,0 % <br>\n",
    "c) 73,4 % <br>\n",
    "e) 89,4 % <br>"
   ]
  },
  {
   "cell_type": "markdown",
   "id": "47975331",
   "metadata": {},
   "source": [
    "### Resposta comentada 7):"
   ]
  },
  {
   "cell_type": "code",
   "execution_count": null,
   "id": "96005854",
   "metadata": {},
   "outputs": [],
   "source": []
  },
  {
   "cell_type": "code",
   "execution_count": null,
   "id": "d69446c2",
   "metadata": {},
   "outputs": [],
   "source": []
  },
  {
   "cell_type": "markdown",
   "id": "15b3b807",
   "metadata": {},
   "source": [
    "__8)__ O tempo para fabricar um perfume em uma empresa é descrito por uma variável aleatória X, medida em horas, com distribuição normal de média $\\mu$ = 7 e desvio padrão $\\sigma$ = 2. Qual a probabilidade de que um perfume será finalizado entre 4 e 11 horas?\n",
    "\n",
    "a) 91,0 % <br>\n",
    "b) 93,4 % <br>\n",
    "c) 2,3 % <br>\n",
    "d) 97,7 % <br>\n",
    "e) 9,0 % <br>"
   ]
  },
  {
   "cell_type": "markdown",
   "id": "50f17873",
   "metadata": {},
   "source": [
    "### Resposta comentada 8):"
   ]
  },
  {
   "cell_type": "code",
   "execution_count": null,
   "id": "cd05935d",
   "metadata": {},
   "outputs": [],
   "source": []
  },
  {
   "cell_type": "code",
   "execution_count": null,
   "id": "3888508d",
   "metadata": {},
   "outputs": [],
   "source": []
  },
  {
   "cell_type": "markdown",
   "id": "17e930d9",
   "metadata": {},
   "source": [
    "## "
   ]
  },
  {
   "cell_type": "markdown",
   "id": "fe78f648",
   "metadata": {},
   "source": [
    "### Amostragem"
   ]
  },
  {
   "cell_type": "markdown",
   "id": "3d7d1fe9",
   "metadata": {},
   "source": [
    "__9)__ Dados os tipos de amostragem e as definições dos mesmos, assinale a alternativa que indique cada tipo de amostragem com a respectiva definição:\n",
    "\n",
    "Tipos de Amostragem:\n",
    "\n",
    "1 - Amostragem Aleatória Simples\n",
    "2 - Amostragem Estratificada\n",
    "3 - Amostragem por Conglomerado\n",
    "\n",
    "Definições:\n",
    "\n",
    "I - Método de amostragem onde a população é dividida em grupos (estratos) segundo algumas características conhecidas sobre a população em estudo;\n",
    "II - Método de amostragem que divide em subpopulações (conglomerados), onde escolhem aleatóriamente por amostragem simples as subpopulações e todos os elementos de uma subpopulação irão fazer parte da amostra;\n",
    "III - Método de amostragem mais simples onde serão escolhidos aleatoriamente elementos com ou sem reposição.\n",
    "\n",
    "a) 1-II, 2-I, 3-III  <br>\n",
    "b) 1-III, 2-II, 3-I  <br>\n",
    "c) 1-II, 2-III, 3-I  <br>\n",
    "d) 1-III, 2-I, 3-II  <br>\n",
    "e) 1-I, 2-II, 3-III"
   ]
  },
  {
   "cell_type": "markdown",
   "id": "eed5637f",
   "metadata": {},
   "source": [
    "### Resposta comentada 9):"
   ]
  },
  {
   "cell_type": "code",
   "execution_count": null,
   "id": "a60b93a7",
   "metadata": {},
   "outputs": [],
   "source": []
  },
  {
   "cell_type": "code",
   "execution_count": null,
   "id": "1033930b",
   "metadata": {},
   "outputs": [],
   "source": []
  },
  {
   "cell_type": "markdown",
   "id": "d9911fce",
   "metadata": {},
   "source": [
    "## "
   ]
  },
  {
   "cell_type": "markdown",
   "id": "eceaab61",
   "metadata": {},
   "source": [
    "### Teste de Hipóteses"
   ]
  },
  {
   "cell_type": "markdown",
   "id": "8b779de2",
   "metadata": {},
   "source": [
    "__10)__ Uma fabricante de refrigerante anunciou que o índice de cafeína do seu refrigerante de cola  é igual ou menor a 35mg por lata. Um laboratório realizou 20 análises do índice de cafeína obtendo os resultados (37, 34, 36, 37, 35, 32, 30, 35, 34, 36, 39, 38, 34, 35, 31, 30, 33, 35, 36, 31). Sabe-se que o índice de cafeína do refrigerante de cola dessa marca se distribui normalmente com variância igual a 4. Responda respectivamente a conclusão sobre o teste e o valor crítico para este teste com nível de significância de 5%?\n",
    "\n",
    "a) Aceita $H_0$, $X_{critico}$ = 34,40 mg <br>\n",
    "b) Rejeita $H_0$, $X_{critico}$ = 35,74 mg <br>\n",
    "c) Rejeita $H_0$, $X_{critico}$ = 34,40 mg <br>\n",
    "d) Aceita $H_0$, $X_{critico}$ = 35,74 mg <br>"
   ]
  },
  {
   "cell_type": "markdown",
   "id": "48feb070",
   "metadata": {},
   "source": [
    "### Resposta comentada 10):"
   ]
  },
  {
   "cell_type": "code",
   "execution_count": null,
   "id": "9563a268",
   "metadata": {},
   "outputs": [],
   "source": []
  },
  {
   "cell_type": "code",
   "execution_count": null,
   "id": "c102d6c4",
   "metadata": {},
   "outputs": [],
   "source": []
  },
  {
   "cell_type": "code",
   "execution_count": null,
   "id": "cc120043",
   "metadata": {},
   "outputs": [],
   "source": []
  }
 ],
 "metadata": {
  "kernelspec": {
   "display_name": "Python 3 (ipykernel)",
   "language": "python",
   "name": "python3"
  },
  "language_info": {
   "codemirror_mode": {
    "name": "ipython",
    "version": 3
   },
   "file_extension": ".py",
   "mimetype": "text/x-python",
   "name": "python",
   "nbconvert_exporter": "python",
   "pygments_lexer": "ipython3",
   "version": "3.11.5"
  },
  "varInspector": {
   "cols": {
    "lenName": 16,
    "lenType": 16,
    "lenVar": 40
   },
   "kernels_config": {
    "python": {
     "delete_cmd_postfix": "",
     "delete_cmd_prefix": "del ",
     "library": "var_list.py",
     "varRefreshCmd": "print(var_dic_list())"
    },
    "r": {
     "delete_cmd_postfix": ") ",
     "delete_cmd_prefix": "rm(",
     "library": "var_list.r",
     "varRefreshCmd": "cat(var_dic_list()) "
    }
   },
   "types_to_exclude": [
    "module",
    "function",
    "builtin_function_or_method",
    "instance",
    "_Feature"
   ],
   "window_display": false
  }
 },
 "nbformat": 4,
 "nbformat_minor": 5
}
