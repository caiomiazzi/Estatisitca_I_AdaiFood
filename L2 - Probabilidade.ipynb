{
 "cells": [
  {
   "cell_type": "markdown",
   "id": "ab3dfefb",
   "metadata": {},
   "source": [
    "# Exercícios - Probabilidade"
   ]
  },
  {
   "cell_type": "markdown",
   "id": "65123c45",
   "metadata": {},
   "source": [
    "### Questão 1"
   ]
  },
  {
   "cell_type": "markdown",
   "id": "f36953b8",
   "metadata": {},
   "source": [
    "Um teste para COVID-19 possui uma taxa de 5% de falso positivo e 1% de falso negativo, ou seja, em 5% dos não-infectados acusa como infectados, e em 1% dos infectados acusa como não infectados. Sabendo que atualmente 1% da população está infectada, calcule a probabilidade de um paciente cujo teste apontou positivo estar realmente infectado."
   ]
  },
  {
   "cell_type": "markdown",
   "id": "ddd7f0ba-e2ef-4c13-b1fc-e9eeafde3b92",
   "metadata": {},
   "source": [
    "|              | Infectados | Não-infectados |\n",
    "|--------------|------------|----------------|\n",
    "| Teste Positivo | 99%        | 5%             |\n",
    "| Teste Negativo | 1%         | 95%            |\n",
    "\n",
    "\n",
    "\n",
    "-----------------------------------------------------------\n",
    "\n",
    "\n",
    "|             | infectadas  | Não Infectadas |\n",
    "|-------------|-------------|----------------|\n",
    "| População   |     1%      |  99%           |"
   ]
  },
  {
   "cell_type": "code",
   "execution_count": 1,
   "id": "0f8a1054",
   "metadata": {},
   "outputs": [
    {
     "data": {
      "text/plain": [
       "0.16666666666666669"
      ]
     },
     "execution_count": 1,
     "metadata": {},
     "output_type": "execute_result"
    }
   ],
   "source": [
    "P_EstarDoente_Dado_testePositivo = (0.99*0.01)/((0.99*0.01)+(0.05*0.99))\n",
    "\n",
    "\n",
    "P_EstarDoente_Dado_testePositivo"
   ]
  },
  {
   "cell_type": "code",
   "execution_count": 4,
   "id": "688c03e4-d154-461c-a396-f2145ffed6e0",
   "metadata": {
    "tags": []
   },
   "outputs": [
    {
     "name": "stdout",
     "output_type": "stream",
     "text": [
      "Probabilidade de um paciente estar realmente infectado dado que o teste apontou positivo: 0.17%\n"
     ]
    }
   ],
   "source": [
    "# Probabilidade pré-teste de estar infectado\n",
    "P_I = 0.01\n",
    "\n",
    "# Probabilidade pré-teste de não estar infectado\n",
    "P_not_I = 1 - P_I\n",
    "\n",
    "# Probabilidade de um teste ser positivo dado que o paciente está infectado\n",
    "P_Pos_given_I = 1 - 0.01\n",
    "\n",
    "# Probabilidade de um teste ser negativo dado que o paciente não está infectado\n",
    "P_Neg_given_not_I = 1 - 0.05\n",
    "\n",
    "# Probabilidade de um teste ser positivo\n",
    "P_Pos = P_Pos_given_I * P_I + (1 - P_Neg_given_not_I) * P_not_I\n",
    "\n",
    "# Probabilidade de um paciente estar realmente infectado dado que o teste apontou positivo\n",
    "P_I_given_Pos = (P_Pos_given_I * P_I) / P_Pos\n",
    "\n",
    "print(f\"Probabilidade de um paciente estar realmente infectado dado que o teste apontou positivo: {round(P_I_given_Pos,2)}%\")"
   ]
  },
  {
   "cell_type": "markdown",
   "id": "e1e8b03b",
   "metadata": {},
   "source": [
    "### Questão 2"
   ]
  },
  {
   "cell_type": "markdown",
   "id": "9b42655a",
   "metadata": {},
   "source": [
    "A probabilidade de dado honesto é conhecido e igual a $1/6$, mas quando vamos testar isso com um dado físico, não necessariamente vai cair uma vez cada face do dado (se eu lançar ele 6 vezes). A ideia é que conforme fazermos vários testes a tendência é que a probabilidade de cada face irá convergir pro valor esperado. \n",
    "\n",
    "Vamos testar este conceito utilizando da programação seguintes os itens abaixo:]\n",
    "\n",
    "__A)__ Desenvolva uma função que receba um valor n, onde n é a quantidade de elementos e o objetivo da função é retorna uma _Series_ com n elementos sendo esses elementos números variando de 1 e 6;\n",
    "\n",
    "__B)__ Teste a função para n igual a 10, 100, 1.000, 10.000 e 100.000 casos e para cada um deles calcule a proporção de vezes que aparece cada número;\n",
    "\n",
    "__DIca.:__ utilize a função do _Pandas_ `.value_counts`\n",
    "\n",
    "__C)__ O que podermos dizer sobre a afirmação do enunciado, a tendência é que as probabilidades irâo convergir para $1/6$?"
   ]
  },
  {
   "cell_type": "code",
   "execution_count": null,
   "id": "200494e5",
   "metadata": {},
   "outputs": [],
   "source": []
  },
  {
   "cell_type": "markdown",
   "id": "8ed593e2",
   "metadata": {},
   "source": [
    "### Questão 3"
   ]
  },
  {
   "cell_type": "markdown",
   "id": "f9102e3c",
   "metadata": {},
   "source": [
    "Na casa de Luiza e Rafael tem um pote de balas de diferentes cores. Certo dia a mamãe deles contou quantas balas tinha de cada uma das cores:\n",
    "\n",
    "- 14 balas azuis;\n",
    "- 22 balas vermelhas;\n",
    "- 17 balas amarelas.\n",
    "\n",
    "A mamãe deles deixou que cada um pegasse 3 balas começando pela Luiza e depois o Rafael. Dado isso resolva os item abaixo:\n",
    "\n",
    "__A)__ Qual a probabilidade da Luiza pegar uma bala de cada na ordem da contagem e o Rafael pegar 2 azuis e uma vermelha, dado que é um evento sem reposição?\n",
    "\n",
    "__B)__ Luiza decidiu ficar só com a bala amarela e devolveu as demais para o pote antes que o Rafael pegasse suas balas. Como que ficaria a probabilidade para o Rafael agora?"
   ]
  },
  {
   "cell_type": "code",
   "execution_count": null,
   "id": "1c7f914e-fd76-4b3d-a402-c5f837ed416c",
   "metadata": {
    "tags": []
   },
   "outputs": [],
   "source": [
    "# Definindo o número de balas de cada cor\n",
    "balas_azuis = 14\n",
    "balas_vermelhas = 22\n",
    "balas_amarelas = 17\n",
    "\n",
    "# Probabilidade de Luiza pegar uma bala de cada cor\n",
    "prob_luiza = (balas_azuis / (balas_azuis + balas_vermelhas + balas_amarelas)) * \\\n",
    "             ((balas_vermelhas / (balas_azuis + balas_vermelhas + balas_amarelas - 1)) * \\\n",
    "             (balas_amarelas / (balas_azuis + balas_vermelhas + balas_amarelas - 2)))\n",
    "\n",
    "# Probabilidade de Rafael pegar 2 balas azuis e uma vermelha, dado que Luiza pegou uma bala de cada cor\n",
    "prob_rafael = ((balas_azuis - 1) / (balas_azuis + balas_vermelhas + balas_amarelas - 3)) * \\\n",
    "              ((balas_azuis - 2) / (balas_azuis + balas_vermelhas + balas_amarelas - 4)) * \\\n",
    "              ((balas_vermelhas - 1) / (balas_azuis + balas_vermelhas + balas_amarelas - 5))\n",
    "\n",
    "# Probabilidade total\n",
    "probabilidade_total = prob_luiza * prob_rafael\n",
    "\n",
    "print(\"A) Probabilidade total:\", probabilidade_total)\n"
   ]
  },
  {
   "cell_type": "code",
   "execution_count": 4,
   "id": "8567d548",
   "metadata": {
    "tags": []
   },
   "outputs": [
    {
     "data": {
      "text/plain": [
       "0.0010177793904209"
      ]
     },
     "execution_count": 4,
     "metadata": {},
     "output_type": "execute_result"
    }
   ],
   "source": [
    "#A) Qual a probabilidade da Luiza pegar uma bala de cada na ordem da contagem e o Rafael pegar 2 azuis e uma vermelha, dado que é um evento sem reposição?\n",
    "\n",
    "balas_azuis, balas_vermelhas, balas_amarelas = 14, 22, 17\n",
    "\n",
    "total_balas = balas_azuis + balas_vermelhas + balas_amarelas\n",
    "\n",
    "\n",
    "p_luiza = (balas_azuis / total_balas) * (balas_vermelhas / (total_balas -1) ) * (balas_amarelas / (total_balas -1)) \n",
    "\n",
    "p_rafael = ((balas_azuis-1)/(total_balas-3)) * ((balas_azuis-2)/(total_balas-4)) * ((balas_vermelhas - 1)/(total_balas - 5))\n",
    "\n",
    "p_total = p_luiza * p_rafael\n",
    "p_total\n",
    "\n"
   ]
  },
  {
   "cell_type": "code",
   "execution_count": 7,
   "id": "0784266c-3a7a-4660-908a-0a0c4c503abe",
   "metadata": {
    "tags": []
   },
   "outputs": [
    {
     "data": {
      "text/plain": [
       "0.030196078431372547"
      ]
     },
     "execution_count": 7,
     "metadata": {},
     "output_type": "execute_result"
    }
   ],
   "source": [
    "# B) Luiza decidiu ficar só com a bala amarela e devolveu as demais para o pote antes que o Rafael pegasse suas balas.\n",
    "# Como que ficaria a probabilidade para o Rafael agora?\n",
    "\n",
    "balas_azuis, balas_vermelhas, balas_amarelas = 14, 22, 17\n",
    "\n",
    "balas_amarelas -= 1\n",
    "\n",
    "p2_rafael = ((balas_azuis)/(total_balas-1)) * ((balas_azuis-1)/(total_balas-2)) * ((balas_vermelhas)/(total_balas -3))\n",
    "p2_rafael"
   ]
  },
  {
   "cell_type": "code",
   "execution_count": 8,
   "id": "9c06e9f1-434f-4260-9428-8e4fae859c6e",
   "metadata": {
    "tags": []
   },
   "outputs": [
    {
     "name": "stdout",
     "output_type": "stream",
     "text": [
      "B) Probabilidade para Rafael agora: 0.02533936651583711\n"
     ]
    }
   ],
   "source": [
    "# Probabilidade de Rafael pegar 3 balas amarelas, dado que Luiza já escolheu uma bala de cada cor\n",
    "probabilidade_rafael = (balas_amarelas / (balas_azuis + balas_vermelhas + balas_amarelas)) * \\\n",
    "                        ((balas_amarelas - 1) / (balas_azuis + balas_vermelhas + balas_amarelas - 1)) * \\\n",
    "                        ((balas_amarelas - 2) / (balas_azuis + balas_vermelhas + balas_amarelas - 2))\n",
    "\n",
    "print(\"B) Probabilidade para Rafael agora:\", probabilidade_rafael)\n"
   ]
  },
  {
   "cell_type": "markdown",
   "id": "efcd759a",
   "metadata": {},
   "source": [
    "### Questão 4"
   ]
  },
  {
   "cell_type": "markdown",
   "id": "a944ffa2-0f57-45e9-ad4c-c844ef2dc9ef",
   "metadata": {
    "tags": []
   },
   "source": [
    "Um programa de computador gera uma pontuação aleatória para cada usuário, sendo que:\n",
    "\n",
    "- Em 1/2 dos casos, gera 0.5;\n",
    "- Em 1/4 dos casos, gera 0.25;\n",
    "- Em 1/8 dos casos, gera 0.125.\n",
    "\n",
    "E essa lógica segue assim por diante. Resolva os itens a seguir:\n",
    "\n",
    "__A)__ Calcule o __valor esperado__ utilizando apenas os 3 primeiros casos;\n",
    "\n",
    "__B)__ Faça um _loop_ para calcular o __valor esperado__ para 100 casos e avalie se só com os 3 primeiros casos temos uma boa aproximação ou não.\n",
    "\n",
    "\n"
   ]
  },
  {
   "cell_type": "code",
   "execution_count": 16,
   "id": "1b0ecdfc-d428-4c10-b795-b69525087253",
   "metadata": {
    "tags": []
   },
   "outputs": [
    {
     "data": {
      "text/plain": [
       "0.328125"
      ]
     },
     "execution_count": 16,
     "metadata": {},
     "output_type": "execute_result"
    }
   ],
   "source": [
    "# A) Calcule o valor esperado utilizando apenas os 3 primeiros casos;\n",
    "\n",
    "caso1, caso2, caso3 = (1/2 * 0.5),(1/4 * 0.25),(1/8 * 0.125)\n",
    "\n",
    "# caso1 = 1/2 * 0.5\n",
    "# caso2 = 1/4 * 0.25\n",
    "# caso3 = 1/8 * 0.125\n",
    "valor_esperado = caso1+caso2+caso3\n",
    "valor_esperado"
   ]
  },
  {
   "cell_type": "code",
   "execution_count": 31,
   "id": "d6eb9cb4-e57c-4744-89ac-1a0a14c74a80",
   "metadata": {
    "tags": []
   },
   "outputs": [
    {
     "name": "stdout",
     "output_type": "stream",
     "text": [
      "Valor esperado para 3 casos: 0.328125\n",
      "Valor esperado para 100 casos: 0.3333333333333333\n"
     ]
    }
   ],
   "source": [
    "# B) Faça um loop para calcular o valor esperado para 100 casos e avalie se só com os 3 primeiros casos temos uma boa aproximação ou não.\n",
    "\n",
    "def valorEsperado_para_nCasos(n):\n",
    "    valor_esperado = 0\n",
    "\n",
    "    for i in range(1, (n+1)):\n",
    "        valor = 1 / (2 ** i)\n",
    "        prob = 1 / (2 ** i)  \n",
    "        valor_esperado += prob * valor\n",
    "\n",
    "    return valor_esperado\n",
    "\n",
    "print(\"Valor esperado para 3 casos:\", valorEsperado_para_nCasos(3))\n",
    "print(\"Valor esperado para 100 casos:\", valorEsperado_para_nCasos(100))\n"
   ]
  },
  {
   "cell_type": "markdown",
   "id": "57a9dba0",
   "metadata": {},
   "source": [
    "### Questão 5"
   ]
  },
  {
   "cell_type": "markdown",
   "id": "03ce87d4",
   "metadata": {},
   "source": [
    "Em um programa de auditório, havia 3 portas (A, B, C), dentro da qual uma continha um prêmio. O participante escolheu a porta A e antes de abrir a porta o apresentador abriu a porta C, na qual não havia nada. O participante aumentará a probabilidade de acertar a porta caso mude a escolha dele da porta A para a B?"
   ]
  },
  {
   "cell_type": "code",
   "execution_count": 32,
   "id": "cb736e05",
   "metadata": {
    "tags": []
   },
   "outputs": [],
   "source": [
    "import random\n",
    "\n",
    "portas = ['A', 'B', 'C']\n",
    "\n",
    "def jogo(porta_escolhida, mudar_escolha = False):\n",
    "    premio = random.choice(portas)\n",
    "    porta_aberta = random.choice([porta for porta in portas if porta != premio and porta != porta_escolhida])\n",
    "    \n",
    "    if mudar_escolha:\n",
    "        porta_escolhida = [porta for porta in portas if porta != porta_escolhida and porta != porta_aberta][0]\n",
    "        \n",
    "        \n",
    "    return porta_escolhida == premio"
   ]
  },
  {
   "cell_type": "code",
   "execution_count": 55,
   "id": "634ed409-72bd-47d1-864b-87c1ddfdcec4",
   "metadata": {
    "tags": []
   },
   "outputs": [
    {
     "name": "stdout",
     "output_type": "stream",
     "text": [
      "Probabilidade de ganhar sem mudar a porta: 35.4%\n",
      "\n",
      "Probabilidade de ganhar mudando a porta: 67.5%\n"
     ]
    }
   ],
   "source": [
    "vitoria_sem_mudar = sum(jogo('A') for _ in range(1000))\n",
    "\n",
    "virotia_mudando_porta = sum(jogo('A', mudar_escolha = True) for _ in range(1000))\n",
    "\n",
    "print(f'Probabilidade de ganhar sem mudar a porta: {(vitoria_sem_mudar/1000)*100}%\\n\\nProbabilidade de ganhar mudando a porta: {(virotia_mudando_porta/1000)*100}%')"
   ]
  }
 ],
 "metadata": {
  "kernelspec": {
   "display_name": "Python 3 (ipykernel)",
   "language": "python",
   "name": "python3"
  },
  "language_info": {
   "codemirror_mode": {
    "name": "ipython",
    "version": 3
   },
   "file_extension": ".py",
   "mimetype": "text/x-python",
   "name": "python",
   "nbconvert_exporter": "python",
   "pygments_lexer": "ipython3",
   "version": "3.11.5"
  },
  "varInspector": {
   "cols": {
    "lenName": 16,
    "lenType": 16,
    "lenVar": 40
   },
   "kernels_config": {
    "python": {
     "delete_cmd_postfix": "",
     "delete_cmd_prefix": "del ",
     "library": "var_list.py",
     "varRefreshCmd": "print(var_dic_list())"
    },
    "r": {
     "delete_cmd_postfix": ") ",
     "delete_cmd_prefix": "rm(",
     "library": "var_list.r",
     "varRefreshCmd": "cat(var_dic_list()) "
    }
   },
   "types_to_exclude": [
    "module",
    "function",
    "builtin_function_or_method",
    "instance",
    "_Feature"
   ],
   "window_display": false
  }
 },
 "nbformat": 4,
 "nbformat_minor": 5
}
