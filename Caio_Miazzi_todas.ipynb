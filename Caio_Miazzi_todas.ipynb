{
 "cells": [
  {
   "cell_type": "markdown",
   "id": "57e8601c",
   "metadata": {},
   "source": [
    "<div style=\"background-color: lightgreen; padding: 18px;\">\n",
    "    <h1> Aulas 8 e 9| Estatística I\n",
    "</div>"
   ]
  },
  {
   "cell_type": "markdown",
   "id": "aa62d2c5",
   "metadata": {},
   "source": [
    "<div style=\"background-color: lightblue; padding: 10px;\">\n",
    "    <h2> Avaliação Final\n",
    "</div>\n",
    "    \n",
    "- Substituir em \"Prova-Módulo_Estatística_I\" o seu nome   \n",
    "    \n",
    "- Entregar, hoje, pelo menos 6 questões e subir no drive:  \n",
    "    https://drive.google.com/drive/folders/1mkyBMcY08fSAt4O_-FurWCtMGDkH7oOx?usp=drive_link \n",
    "\n",
    "- As outras questões deverão ser entregues no mesmo drive até 21h de sexta-feira, dia 23/02/2024.  \n",
    "    "
   ]
  },
  {
   "cell_type": "markdown",
   "id": "cbbdea97",
   "metadata": {},
   "source": [
    "## Questões da Prova"
   ]
  },
  {
   "cell_type": "markdown",
   "id": "233f5f3c",
   "metadata": {},
   "source": [
    "### Estatística Descritiva"
   ]
  },
  {
   "cell_type": "markdown",
   "id": "9cf75454",
   "metadata": {},
   "source": [
    "__1)__ Identifique, nas alternativas abaixo, a opção que contenha apenas __métricas de posição__:\n",
    "    \n",
    "a) média, desvio padrão<br>\n",
    "b) mediana, moda<br>\n",
    "c) variância, mediana<br>\n",
    "d) desvio padrão, variância<br>\n",
    "e) média, correlação de Pearson<br>"
   ]
  },
  {
   "cell_type": "markdown",
   "id": "64f17229",
   "metadata": {},
   "source": [
    "### Resposta comentada 1):\n",
    "\n"
   ]
  },
  {
   "cell_type": "markdown",
   "id": "83227689-0e71-4bc7-ae6b-bf4df69499d8",
   "metadata": {},
   "source": [
    "A resposta é a opção:\n",
    "- b) mediana, moda."
   ]
  },
  {
   "cell_type": "markdown",
   "id": "426540f7-5e4e-449d-a933-1c083dda7e35",
   "metadata": {},
   "source": [
    "Acredito que as 3 metricas de posição são a media, mediana e moda."
   ]
  },
  {
   "cell_type": "markdown",
   "id": "9d96bd30",
   "metadata": {},
   "source": [
    "## "
   ]
  },
  {
   "cell_type": "markdown",
   "id": "219cdba6",
   "metadata": {},
   "source": [
    "__2)__ Dado o boxplot conforme a figura abaixo:\n",
    "\n",
    "<img src=\"https://i0.wp.com/www.abgconsultoria.com.br/blog/wp-content/uploads/boxplot-1-1024x664.png?resize=1024%2C664\" width=400>\n",
    "\n",
    "Como é definida a fórmula para os limites __superior__ e __inferior__ do boxplot que separa os dados da distribuição dos prováveis _outliers_?\n",
    "\n",
    "a) Q1 + 1.5*(Q3 - Q1), Q3 - 1.5*(Q3 - Q1) <br>\n",
    "b) Q3 + 1*(Q3 - Q1), Q1 - 1*(Q3 - Q1) <br>\n",
    "c) Q3 - 1.5*(Q3 - Q1), Q1 + 1.5*(Q3 - Q1) <br>\n",
    "d) Q3 + 1.5*(Q3 - Q1), Q1 - 1.5*(Q3 - Q1) <br>\n",
    "e) 1.5*Q3 + (Q3 - Q1), 1.5*Q1 - (Q3 - Q1) <br>\n"
   ]
  },
  {
   "cell_type": "markdown",
   "id": "511bcd01",
   "metadata": {},
   "source": [
    "### Resposta comentada 2):\n"
   ]
  },
  {
   "cell_type": "markdown",
   "id": "05613648-ec74-4fda-a883-b073bd4ffb53",
   "metadata": {},
   "source": [
    "A alternativa correta é a:\n",
    "- d) Q3 + 1.5*(Q3 - Q1), Q1 - 1.5*(Q3 - Q1)\n",
    "\n",
    "Errei, não olhei o sinal direito.\n",
    "- C)  Q3 - 1.5*(Q3 - Q1), Q1 + 1.5*(Q3 - Q1)"
   ]
  },
  {
   "cell_type": "markdown",
   "id": "e7f75f26-e4a6-448a-96a3-d4533777f26b",
   "metadata": {},
   "source": [
    "Podemos chegar a esta conclusão pois a formula comum seria:\n",
    "- Upper outliers: Q3 + 1,5(IQR)\n",
    "- Lower outliers: Q1 - 1,5(IQR)\n",
    "\n",
    "no caso acima da questão apenas o IQR está substituido pela sua formula que seria:\n",
    "- IQR (interquartile range) = Q3 – Q1"
   ]
  },
  {
   "cell_type": "markdown",
   "id": "4317559e",
   "metadata": {},
   "source": [
    "## "
   ]
  },
  {
   "cell_type": "markdown",
   "id": "42257347",
   "metadata": {},
   "source": [
    "### Probabilidade"
   ]
  },
  {
   "cell_type": "markdown",
   "id": "0a01e568",
   "metadata": {},
   "source": [
    "__3)__ Rafael queria levar dinheiro na escola para comprar balas, mas sua mãe só deixou que ele levasse duas moedas para a escola. Sabendo que, dentro do cofre do Rafael, temos as seguintes moedas:\n",
    "\n",
    "- 10 centavos = 5 moedas\n",
    "- 25 centavos = 3 moedas\n",
    "- 50 centavos = 10 moedas\n",
    "- 01 real     = 2 moedas\n",
    "\n",
    "Qual a probabilidade de Rafael retirar respectivamente uma moeda de __1 real__ e uma moeda de __25 centavos__?\n",
    "\n",
    "a) 30,0 %  <br>\n",
    "b) 10,0 %  <br>\n",
    "c) 31,6 %  <br>\n",
    "d)  5,3 % <br>\n",
    "e) 3,2 % <br>"
   ]
  },
  {
   "cell_type": "markdown",
   "id": "b525e4a3",
   "metadata": {},
   "source": [
    "### Resposta comentada 3):"
   ]
  },
  {
   "cell_type": "markdown",
   "id": "0744c1a2-3ee5-4a18-9d62-ecced3bfeca6",
   "metadata": {},
   "source": [
    "Temos que:\n",
    "10 centavos = 5 moedas \n",
    "25 centavos = 3 moedas\n",
    "50 centavos = 10 moedas\n",
    "01 real = 2 moedas\n",
    "\n",
    "Total de moedas = 20\n",
    "\n",
    "probabilidades:\n",
    "10_cents = 5/20\n",
    "25_cents = 3/20\n",
    "50_cents = 10/20\n",
    "100_cents = 2/20"
   ]
  },
  {
   "cell_type": "code",
   "execution_count": 16,
   "id": "f8accbe1",
   "metadata": {
    "tags": []
   },
   "outputs": [
    {
     "data": {
      "text/plain": [
       "0.015789473684210527"
      ]
     },
     "execution_count": 16,
     "metadata": {},
     "output_type": "execute_result"
    }
   ],
   "source": [
    "p_100centrs = 2/20\n",
    "p_25cents = 3/19\n",
    "\n",
    "\n",
    "P_25cents_100cents = p_100centrs * p_25cents\n",
    "P_25cents_100cents\n",
    "\n",
    "p_resposta = (2/20) * (3/19)\n",
    "p_resposta"
   ]
  },
  {
   "cell_type": "code",
   "execution_count": 3,
   "id": "3984450f-a939-41b4-a997-56bb934a2342",
   "metadata": {},
   "outputs": [
    {
     "name": "stdout",
     "output_type": "stream",
     "text": [
      "Não rejeitamos a hipótese nula.\n"
     ]
    }
   ],
   "source": [
    "import numpy as np\n",
    "from scipy.stats import norm\n",
    "\n",
    "# Valor observado\n",
    "P_encontrado = 2/20 * 3/19\n",
    "\n",
    "# Valor esperado sob H0 (3,2% em forma decimal)\n",
    "P_gabarito = 0.032\n",
    "\n",
    "# Erro padrão da proporção (esse eu precisei de ajuda)\n",
    "ErroPadrao_prop = np.sqrt((P_gabarito * (1 - P_gabarito)) / (20 * 19))\n",
    "\n",
    "# Estatistica do teste Z\n",
    "Z = (P_encontrado - P_gabarito) / ErroPadrao_prop\n",
    "\n",
    "#significância\n",
    "alpha = 0.05\n",
    "\n",
    "#  valor crítico\n",
    "z_critico = norm.ppf(1 - alpha/2)  # bicaudal\n",
    "\n",
    "# Teste de hipótese\n",
    "if Z > z_critico or Z < -z_critico:\n",
    "    print(\"Rejeitamos a hipótese nula.\")\n",
    "else:\n",
    "    print(\"Não rejeitamos a hipótese nula.\")\n"
   ]
  },
  {
   "cell_type": "markdown",
   "id": "8700bf3a",
   "metadata": {},
   "source": [
    "### Distribuições"
   ]
  },
  {
   "cell_type": "markdown",
   "id": "f71b5b27",
   "metadata": {},
   "source": [
    "__4)__ Em uma filial de um banco, 40% dos clientes que vão ao caixa eletrônico sacam dinheiro do caixa. Utilizando a distribuição binomial, qual é a probabilidade de, no máximo, 12 clientes sacarem dinheiro em um dia que tivemos 30 clientes no caixa eletrônico?\n",
    "\n",
    "a) 57,8 % <br>\n",
    "b) 40,0 % <br>\n",
    "c) 52,2 % <br>\n",
    "d) 42,2 % <br>\n",
    "e) 47,8 % <br>"
   ]
  },
  {
   "cell_type": "markdown",
   "id": "67db83fc",
   "metadata": {},
   "source": [
    "### Resposta comentada 4):"
   ]
  },
  {
   "cell_type": "markdown",
   "id": "abca5508-0d4c-4b3e-9375-b93b00548fad",
   "metadata": {},
   "source": [
    "A alternativa correta é a :\n",
    "- d) 42,2 %"
   ]
  },
  {
   "cell_type": "markdown",
   "id": "e255cf94-2d88-4af4-b5bb-c055b12a7767",
   "metadata": {},
   "source": [
    "40% sacam dinheiro. = p (prob de sucesso)\n",
    "30 clientes = n\n",
    "numero de clientes que sacam dinheiro é 12 = k\n",
    "\n",
    "agora basta importar do scipy.stats o binom e usar a 1-cdf ou a sf pra pegar a probabilidade."
   ]
  },
  {
   "cell_type": "code",
   "execution_count": 6,
   "id": "c17f03ec",
   "metadata": {
    "tags": []
   },
   "outputs": [
    {
     "name": "stdout",
     "output_type": "stream",
     "text": [
      " A probabilidade maxima de 12 clientes sacarem dinheiro é de: 57.8%\n"
     ]
    }
   ],
   "source": [
    "from scipy.stats import binom\n",
    "\n",
    "p = 0.4\n",
    "n = 30\n",
    "k = 12\n",
    "\n",
    "probabilidade = (binom.cdf(k, n, p)*100)\n",
    "print(f' A probabilidade maxima de 12 clientes sacarem dinheiro é de: {round(probabilidade,1)}%')\n",
    "\n",
    "\n",
    "# errei essa, era o acumulado e portanto era para usar o cdf, e não o sf"
   ]
  },
  {
   "cell_type": "markdown",
   "id": "b9721408",
   "metadata": {},
   "source": [
    "## "
   ]
  },
  {
   "cell_type": "markdown",
   "id": "47827929",
   "metadata": {},
   "source": [
    "__5)__ Em um centro de distribuição logístico da Amazon, chegam cerca de 1.440 produtos por dia. Sabendo que segue uma distribuição de Poisson, qual a probabilidade de que, em um minuto, cheguem 3 produtos?\n",
    "\n",
    "a) 36,8 % <br>\n",
    "b) 18,4 % <br>\n",
    "c) 6,1 %  <br>\n",
    "d) 24,5 %  <br>\n",
    "e) 55,2 %  <br>"
   ]
  },
  {
   "cell_type": "markdown",
   "id": "514f570d",
   "metadata": {},
   "source": [
    "### Resposta comentada 5):"
   ]
  },
  {
   "cell_type": "markdown",
   "id": "dceff61c-61f1-4845-9613-84c8a75d6c28",
   "metadata": {},
   "source": [
    "A alternativa correta é a:\n",
    "- c) 6,1 %"
   ]
  },
  {
   "cell_type": "markdown",
   "id": "253e3063-9edd-498a-afc6-f9aa024eba7d",
   "metadata": {},
   "source": [
    "O B.O. dessa questão acredito é ajustar a taxa de chegada pra minuto antes de tascar o scipy.stats poisson.\n",
    "\n",
    "Fazendo isso acredito que depois fica tranquilão."
   ]
  },
  {
   "cell_type": "code",
   "execution_count": 15,
   "id": "662cca81",
   "metadata": {
    "tags": []
   },
   "outputs": [
    {
     "name": "stdout",
     "output_type": "stream",
     "text": [
      "A probabilidade de que cheguem 3 produtos em um minuto é de aproximadamente: 6.1%\n"
     ]
    }
   ],
   "source": [
    "from scipy.stats import poisson\n",
    "\n",
    "chegada_por_dia = 1440\n",
    "chegada_por_minuto = chegada_por_dia/(24*60)\n",
    "\n",
    "num_prod = 3\n",
    "\n",
    "probabilidaae = poisson.pmf(num_prod, chegada_por_minuto)\n",
    "\n",
    "print(f'A probabilidade de que cheguem 3 produtos em um minuto é de aproximadamente: {round(probabilidaae*100,1)}%')"
   ]
  },
  {
   "cell_type": "markdown",
   "id": "0db05ca9",
   "metadata": {},
   "source": [
    "## "
   ]
  },
  {
   "cell_type": "markdown",
   "id": "80b7ea20",
   "metadata": {},
   "source": [
    "__6)__ Suponha que 60% das mulheres que comprem kits de gravidez instantâneos estejam, de fato, grávidas. Para um kit de uma marca específica, se a mulher estiver grávida, o teste fornecerá resultado positivo 96% das vezes e negativo 4% das vezes (um “falso negativo\"). Se ela não estiver grávida, o teste resultará positivo em 1% das vezes (um “falso positivo”) e\n",
    "negativo 99% das vezes . Suponha que um teste resulte positivo. Qual a probabilidade de que a mulher esteja realmente grávida?\n",
    "\n",
    "a) 77,7 %  <br>\n",
    "b) 39,4 % <br>\n",
    "c) 63,2 %  <br>\n",
    "d) 86,4 % <br>\n",
    "e) 93,5 % <br>\n",
    "\n",
    "__Obs.:__ Torema de Bayes: $P(grávida | positivo) =  \\frac{P(positivo | grávida) * P(grávida)} {P(positivo | grávida) * P(grávida) + P(positivo | não-grávida) * P(não-grávida)} $"
   ]
  },
  {
   "cell_type": "markdown",
   "id": "4fa2f196",
   "metadata": {},
   "source": [
    "### Resposta comentada 6):"
   ]
  },
  {
   "cell_type": "markdown",
   "id": "7f73eadd-eb82-46c6-8b30-1e894eba7755",
   "metadata": {
    "tags": []
   },
   "source": [
    "Infelizmente e insatisfeito, acredito que a alternativa correta seja a:\n",
    "- e) 93,5 %"
   ]
  },
  {
   "cell_type": "markdown",
   "id": "98a42407-67d7-4fa9-b9a4-9663e31c30d5",
   "metadata": {},
   "source": [
    "mulheres que compram o kit: 60% estão gravidas | 40% não estão.\n",
    "\n",
    "\n",
    "teste em mulheres gravidas = 96% positivo | 4% falso negativo\n",
    "teste mulheres não gravidas = 99% negativo | 1% falso positivo\n",
    "\n",
    "uma mulher fez o teste e deu positivo, qual a probabilidade de estar gravida.\n",
    "\n",
    "\n"
   ]
  },
  {
   "cell_type": "code",
   "execution_count": 17,
   "id": "0d5cae25",
   "metadata": {
    "ExecuteTime": {
     "end_time": "2021-10-24T20:41:33.898942Z",
     "start_time": "2021-10-24T20:41:33.876002Z"
    },
    "tags": []
   },
   "outputs": [
    {
     "data": {
      "text/plain": [
       "0.993103448275862"
      ]
     },
     "execution_count": 17,
     "metadata": {},
     "output_type": "execute_result"
    }
   ],
   "source": [
    "p_positivo_gravida = 0.96\n",
    "p_gravida = 0.6\n",
    "p_positivo_NaoGravida = 0.01\n",
    "p_NaoGravida = 0.4\n",
    "\n",
    "Probabilidade_gravida_dado_TestePositivo = (p_positivo_gravida*p_gravida)/ ((p_positivo_gravida*p_gravida) + (p_positivo_NaoGravida * p_NaoGravida))\n",
    "Probabilidade_gravida_dado_TestePositivo"
   ]
  },
  {
   "cell_type": "code",
   "execution_count": 18,
   "id": "a1e25d6d-c785-477c-8cd3-c423fd5e69bf",
   "metadata": {
    "tags": []
   },
   "outputs": [
    {
     "data": {
      "text/plain": [
       "0.993103448275862"
      ]
     },
     "execution_count": 18,
     "metadata": {},
     "output_type": "execute_result"
    }
   ],
   "source": [
    "p_resposta5 = (0.96*0.6)/((0.96*0.6)+(0.01*0.4))\n",
    "p_resposta5"
   ]
  },
  {
   "cell_type": "code",
   "execution_count": 3,
   "id": "00b74450-7bf5-435a-90be-e07f0dfeff48",
   "metadata": {
    "tags": []
   },
   "outputs": [
    {
     "name": "stdout",
     "output_type": "stream",
     "text": [
      "Não rejeitamos a hipótese nula.\n"
     ]
    }
   ],
   "source": [
    "from scipy.stats import norm\n",
    "import numpy as np\n",
    "\n",
    "# Valores observados e esperados\n",
    "prop_encontrada = 0.993103448275862\n",
    "prop_gabarito = 0.935\n",
    "\n",
    "# Erro padrão da proporção\n",
    "ErroPadrao_prop = np.sqrt((prop_gabarito * (1 - prop_gabarito)))\n",
    "\n",
    "# Estatística de teste Z\n",
    "Z = (prop_encontrada - prop_gabarito) / ErroPadrao_prop\n",
    "\n",
    "# significância alpha = 0.05\n",
    "alpha = 0.05\n",
    "\n",
    "# Valor crítico Z\n",
    "z_critico = norm.ppf(1 - alpha/2)  # bicaudal\n",
    "\n",
    "# Teste de hipótese\n",
    "if Z > z_critico or Z < -z_critico:\n",
    "    print(\"Rejeitamos a hipótese nula.\")\n",
    "else:\n",
    "    print(\"Não rejeitamos a hipótese nula.\")\n"
   ]
  },
  {
   "cell_type": "markdown",
   "id": "594e6f4f",
   "metadata": {},
   "source": [
    "## "
   ]
  },
  {
   "cell_type": "markdown",
   "id": "58459bdc",
   "metadata": {},
   "source": [
    "### Distribuição Normal"
   ]
  },
  {
   "cell_type": "markdown",
   "id": "5844dc4c",
   "metadata": {},
   "source": [
    "__7)__ Uma máquina de sorvete está regulada de modo a servir uma média de 80g por casquinha. Se a quantidade servida por casquinha seguir uma distribuição normal, com desvio padrão de 8g, qual a porcentagem de casquinhas que conterão mais de 90g de sorvete?\n",
    "\n",
    "a) 26,6 % <br>\n",
    "b) 10,6 % <br>\n",
    "d) 50,0 % <br>\n",
    "c) 73,4 % <br>\n",
    "e) 89,4 % <br>"
   ]
  },
  {
   "cell_type": "markdown",
   "id": "47975331",
   "metadata": {},
   "source": [
    "### Resposta comentada 7):"
   ]
  },
  {
   "cell_type": "markdown",
   "id": "0ecaf0bd-310a-4339-b858-6ca3c3a95f78",
   "metadata": {},
   "source": [
    "A alternativa correta é a:\n",
    "- b) 10,6 %"
   ]
  },
  {
   "cell_type": "markdown",
   "id": "a6781a84-f0f2-4291-a986-dbb4f6fb3e5d",
   "metadata": {},
   "source": [
    "media = 80\n",
    "desvio_p = 8\n",
    "casquinha_premiada = 90\n",
    "\n",
    "preciso calcular o z, e depois tascale 1-cdf ou só a sf\n"
   ]
  },
  {
   "cell_type": "code",
   "execution_count": 28,
   "id": "d69446c2",
   "metadata": {
    "tags": []
   },
   "outputs": [
    {
     "name": "stdout",
     "output_type": "stream",
     "text": [
      "A probabilidade de uma casquinha conter mais de 90g de sorvete é de aproximadamente: 10.56%\n"
     ]
    }
   ],
   "source": [
    "from scipy.stats import norm\n",
    "\n",
    "media = 80\n",
    "desvio_p = 8\n",
    "premio = 90\n",
    "\n",
    "z = (premio - media)/desvio_p\n",
    "\n",
    "probabilidade_premio = norm.sf(z)\n",
    "prob_premio2 = 1-norm.cdf(z)\n",
    "\n",
    "\n",
    "probabilidade_premio\n",
    "print(f\"A probabilidade de uma casquinha conter mais de 90g de sorvete é de aproximadamente: {round(probabilidade_premio * 100,2)}%\")"
   ]
  },
  {
   "cell_type": "code",
   "execution_count": 29,
   "id": "9390efd5-8b3f-4405-9d53-b791fde1bf2c",
   "metadata": {
    "tags": []
   },
   "outputs": [
    {
     "data": {
      "text/plain": [
       "0.10564977366685535"
      ]
     },
     "execution_count": 29,
     "metadata": {},
     "output_type": "execute_result"
    }
   ],
   "source": [
    "prob_premio2"
   ]
  },
  {
   "cell_type": "markdown",
   "id": "15b3b807",
   "metadata": {},
   "source": [
    "__8)__ O tempo para fabricar um perfume, em uma empresa, é descrito por uma variável aleatória X, medida em horas, com distribuição normal de média $\\mu$ = 7 e desvio padrão $\\sigma$ = 2. Qual a probabilidade de que um perfume será finalizado entre 4 e 11 horas?\n",
    "\n",
    "a) 91,0 % <br>\n",
    "b) 93,4 % <br>\n",
    "c) 2,3 % <br>\n",
    "d) 97,7 % <br>\n",
    "e) 9,0 % <br>"
   ]
  },
  {
   "cell_type": "markdown",
   "id": "50f17873",
   "metadata": {},
   "source": [
    "### Resposta comentada 8):"
   ]
  },
  {
   "cell_type": "markdown",
   "id": "688d7a04-14f3-4cee-96b2-629ab8910759",
   "metadata": {},
   "source": [
    "A alternativa correta é a:\n",
    "- a) 91,0 %"
   ]
  },
  {
   "cell_type": "markdown",
   "id": "282c4e0f-bb74-469c-aaee-346b7334d767",
   "metadata": {},
   "source": [
    "media = 7\n",
    "desvio_p = 2\n",
    "lim_inf = 4\n",
    "lim_sup = 11\n",
    "\n",
    "Achar o z dos dois limites, jogar na cdf e subtrais um do outro."
   ]
  },
  {
   "cell_type": "code",
   "execution_count": 33,
   "id": "3888508d",
   "metadata": {
    "tags": []
   },
   "outputs": [
    {
     "data": {
      "text/plain": [
       "0.9104426667829627"
      ]
     },
     "execution_count": 33,
     "metadata": {},
     "output_type": "execute_result"
    }
   ],
   "source": [
    "from scipy.stats import norm\n",
    "\n",
    "media = 7\n",
    "desvio_p = 2\n",
    "lim_inf = 4\n",
    "lim_sup = 11\n",
    "\n",
    "z_inf = (lim_inf - media)/desvio_p\n",
    "z_sup = (lim_sup - media)/desvio_p\n",
    "\n",
    "pro_inf = norm.cdf(z_inf)\n",
    "pro_sup = norm.cdf(z_sup)\n",
    "\n",
    "prob_entre = pro_sup - pro_inf\n",
    "prob_entre"
   ]
  },
  {
   "cell_type": "markdown",
   "id": "17e930d9",
   "metadata": {},
   "source": [
    "## "
   ]
  },
  {
   "cell_type": "markdown",
   "id": "fe78f648",
   "metadata": {},
   "source": [
    "### Amostragem"
   ]
  },
  {
   "cell_type": "markdown",
   "id": "3d7d1fe9",
   "metadata": {},
   "source": [
    "__9)__ Dados os tipos de amostragem e as definições dos mesmos, assinale a alternativa que indique cada tipo de amostragem com a respectiva definição:\n",
    "\n",
    "Tipos de Amostragem:\n",
    "\n",
    "1 - Amostragem Aleatória Simples  \n",
    "2 - Amostragem Estratificada  \n",
    "3 - Amostragem por Conglomerado  \n",
    "\n",
    "Definições:\n",
    "\n",
    "I - Método de amostragem onde a população é dividida em grupos (estratos) segundo algumas características conhecidas sobre a população em estudo;  \n",
    "II - Método de amostragem que divide em subpopulações (conglomerados), onde escolhem aleatoriamente por amostragem simples as subpopulações e todos os elementos de uma subpopulação irão fazer parte da amostra;  \n",
    "III - Método de amostragem mais simples onde serão escolhidos aleatoriamente elementos com ou sem reposição.  \n",
    "\n",
    "a) 1-II, 2-I, 3-III  <br>\n",
    "b) 1-III, 2-II, 3-I  <br>\n",
    "c) 1-II, 2-III, 3-I  <br>\n",
    "d) 1-III, 2-I, 3-II  <br>\n",
    "e) 1-I, 2-II, 3-III"
   ]
  },
  {
   "cell_type": "markdown",
   "id": "2bb03321",
   "metadata": {},
   "source": [
    "### Resposta comentada 9):"
   ]
  },
  {
   "cell_type": "code",
   "execution_count": null,
   "id": "03a094cc",
   "metadata": {},
   "outputs": [],
   "source": [
    "# d) 1-III, 2-I, 3-II"
   ]
  },
  {
   "cell_type": "code",
   "execution_count": null,
   "id": "7bda148b",
   "metadata": {},
   "outputs": [],
   "source": []
  },
  {
   "cell_type": "markdown",
   "id": "d9911fce",
   "metadata": {},
   "source": [
    "## "
   ]
  },
  {
   "cell_type": "markdown",
   "id": "eceaab61",
   "metadata": {},
   "source": [
    "### Teste de Hipóteses"
   ]
  },
  {
   "cell_type": "markdown",
   "id": "8b779de2",
   "metadata": {},
   "source": [
    "__10)__ Uma fabricante de refrigerante anunciou que o índice de cafeína do seu refrigerante de cola  é igual ou menor a 35mg por lata. Um laboratório realizou 20 análises do índice de cafeína obtendo os resultados (37, 34, 36, 37, 35, 32, 30, 35, 34, 36, 39, 38, 34, 35, 31, 30, 33, 35, 36, 31). Sabe-se que o índice de cafeína do refrigerante de cola dessa marca se distribui normalmente com variância igual a 4. Responda, respectivamente, a conclusão sobre o teste e o valor crítico para este teste com nível de significância de 5%?\n",
    "\n",
    "a) Aceita $H_0$, $X_{critico}$ = 34,40 mg <br>\n",
    "b) Rejeita $H_0$, $X_{critico}$ = 35,74 mg <br>\n",
    "c) Rejeita $H_0$, $X_{critico}$ = 34,40 mg <br>\n",
    "d) Aceita $H_0$, $X_{critico}$ = 35,74 mg <br>"
   ]
  },
  {
   "cell_type": "markdown",
   "id": "48feb070",
   "metadata": {},
   "source": [
    "### Resposta comentada 10):"
   ]
  },
  {
   "cell_type": "code",
   "execution_count": 9,
   "id": "a0a9e405",
   "metadata": {},
   "outputs": [
    {
     "name": "stdout",
     "output_type": "stream",
     "text": [
      "Não rejeitamos a hipótese nula.\n",
      "O valor critico é: 35.74 mg\n"
     ]
    }
   ],
   "source": [
    "import numpy as np\n",
    "from scipy.stats import norm\n",
    "\n",
    "amostra = np.array([37, 34, 36, 37, 35, 32, 30, 35, 34, 36, 39, 38, 34, 35, 31, 30, 33, 35, 36, 31])\n",
    "media_amostra = amostra.mean()\n",
    "variancia = 4\n",
    "desvio_padrao = np.sqrt(variancia)\n",
    "n = len(amostra)\n",
    "\n",
    "mu = 35  # cafeina <= 35\n",
    "significancia = 0.05\n",
    "\n",
    "# estatística do teste Z\n",
    "Z_mostra = (media_amostra - mu) / (desvio_padrao / np.sqrt(n))\n",
    "Z_Critico = norm.ppf(1 - significancia)\n",
    "\n",
    "#valor crítico em mg\n",
    "valor_critico_mg = Z_Critico * (desvio_padrao / np.sqrt(n)) + mu\n",
    "\n",
    "\n",
    "if Z_mostra > Z_Critico:\n",
    "    conclusao = \"Rejeitamos a hipótese nula.\"\n",
    "else:\n",
    "    conclusao = \"Não rejeitamos a hipótese nula.\"\n",
    "\n",
    "\n",
    "print(f'{conclusao}\\nO valor critico é: {round(valor_critico_mg,2)} mg')\n"
   ]
  },
  {
   "cell_type": "markdown",
   "id": "203d68bf-37ae-48cf-85e7-d59c6d281f02",
   "metadata": {},
   "source": [
    "A alternatica correta é:\n",
    "- d) Não rejeita  𝐻0,  𝑋𝑐𝑟𝑖𝑡𝑖𝑐𝑜 = 35,74 mg"
   ]
  },
  {
   "cell_type": "markdown",
   "id": "f3588881-2d8f-47d9-b084-7622a7ea1461",
   "metadata": {},
   "source": [
    "# Professor eu gostaria de refazer a 3, a 6, a 9 e a 10"
   ]
  }
 ],
 "metadata": {
  "kernelspec": {
   "display_name": "Python 3 (ipykernel)",
   "language": "python",
   "name": "python3"
  },
  "language_info": {
   "codemirror_mode": {
    "name": "ipython",
    "version": 3
   },
   "file_extension": ".py",
   "mimetype": "text/x-python",
   "name": "python",
   "nbconvert_exporter": "python",
   "pygments_lexer": "ipython3",
   "version": "3.11.5"
  },
  "varInspector": {
   "cols": {
    "lenName": 16,
    "lenType": 16,
    "lenVar": 40
   },
   "kernels_config": {
    "python": {
     "delete_cmd_postfix": "",
     "delete_cmd_prefix": "del ",
     "library": "var_list.py",
     "varRefreshCmd": "print(var_dic_list())"
    },
    "r": {
     "delete_cmd_postfix": ") ",
     "delete_cmd_prefix": "rm(",
     "library": "var_list.r",
     "varRefreshCmd": "cat(var_dic_list()) "
    }
   },
   "types_to_exclude": [
    "module",
    "function",
    "builtin_function_or_method",
    "instance",
    "_Feature"
   ],
   "window_display": false
  }
 },
 "nbformat": 4,
 "nbformat_minor": 5
}
