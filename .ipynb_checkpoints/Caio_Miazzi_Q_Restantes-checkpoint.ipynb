{
 "cells": [
  {
   "cell_type": "markdown",
   "id": "57e8601c",
   "metadata": {},
   "source": [
    "<div style=\"background-color: lightgreen; padding: 18px;\">\n",
    "    <h1> Aulas 8 e 9| Estatística I\n",
    "</div>"
   ]
  },
  {
   "cell_type": "markdown",
   "id": "aa62d2c5",
   "metadata": {},
   "source": [
    "<div style=\"background-color: lightblue; padding: 10px;\">\n",
    "    <h2> Avaliação Final\n",
    "</div>\n",
    "    \n",
    "- Substituir em \"Prova-Módulo_Estatística_I\" o seu nome   \n",
    "    \n",
    "- Entregar, hoje, pelo menos 6 questões e subir no drive:  \n",
    "    https://drive.google.com/drive/folders/1mkyBMcY08fSAt4O_-FurWCtMGDkH7oOx?usp=drive_link \n",
    "\n",
    "- As outras questões deverão ser entregues no mesmo drive até 21h de sexta-feira, dia 23/02/2024.  \n",
    "    "
   ]
  },
  {
   "cell_type": "markdown",
   "id": "4317559e",
   "metadata": {},
   "source": [
    "## "
   ]
  },
  {
   "cell_type": "markdown",
   "id": "42257347",
   "metadata": {},
   "source": [
    "### Probabilidade"
   ]
  },
  {
   "cell_type": "markdown",
   "id": "0a01e568",
   "metadata": {},
   "source": [
    "__3)__ Rafael queria levar dinheiro na escola para comprar balas, mas sua mãe só deixou que ele levasse duas moedas para a escola. Sabendo que, dentro do cofre do Rafael, temos as seguintes moedas:\n",
    "\n",
    "- 10 centavos = 5 moedas\n",
    "- 25 centavos = 3 moedas\n",
    "- 50 centavos = 10 moedas\n",
    "- 01 real     = 2 moedas\n",
    "\n",
    "Qual a probabilidade de Rafael retirar respectivamente uma moeda de __1 real__ e uma moeda de __25 centavos__?\n",
    "\n",
    "a) 30,0 %  <br>\n",
    "b) 10,0 %  <br>\n",
    "c) 31,6 %  <br>\n",
    "d)  5,3 % <br>\n",
    "e) 3,2 % <br>"
   ]
  },
  {
   "cell_type": "markdown",
   "id": "5289c8e5-2b14-4d1c-a189-e08dd3bea398",
   "metadata": {},
   "source": [
    "A alternativa correta é:\n",
    "- e) 3,2 %\n",
    "\n",
    "Pois, após chegar a uma probabilidade de mais ou menos 1,57% eu tentei fazer um teste para verificar se 1,57 pode ser considerado 3,2% considerando uma distribuição normal, com significancia de 5%. E aparentemente, sim, então vamos lá né."
   ]
  },
  {
   "cell_type": "markdown",
   "id": "b525e4a3",
   "metadata": {},
   "source": [
    "### Resposta comentada 3):"
   ]
  },
  {
   "cell_type": "markdown",
   "id": "0744c1a2-3ee5-4a18-9d62-ecced3bfeca6",
   "metadata": {},
   "source": [
    "Temos que:\n",
    "10 centavos = 5 moedas \n",
    "25 centavos = 3 moedas\n",
    "50 centavos = 10 moedas\n",
    "01 real = 2 moedas\n",
    "\n",
    "Total de moedas = 20\n",
    "\n",
    "probabilidades:\n",
    "10_cents = 5/20\n",
    "25_cents = 3/20\n",
    "50_cents = 10/20\n",
    "100_cents = 2/20"
   ]
  },
  {
   "cell_type": "code",
   "execution_count": 20,
   "id": "f8accbe1",
   "metadata": {
    "tags": []
   },
   "outputs": [
    {
     "data": {
      "text/plain": [
       "0.015789473684210527"
      ]
     },
     "execution_count": 20,
     "metadata": {},
     "output_type": "execute_result"
    }
   ],
   "source": [
    "p_100centrs = 2/20\n",
    "p_25cents = 3/19\n",
    "\n",
    "\n",
    "P_25cents_100cents = p_100centrs * p_25cents\n",
    "P_25cents_100cents\n",
    "\n",
    "p_resposta = (2/20) * (3/19)\n",
    "p_resposta"
   ]
  },
  {
   "cell_type": "code",
   "execution_count": 21,
   "id": "ca2bafc3-63ec-45ce-b988-00e4430b9d6f",
   "metadata": {
    "tags": []
   },
   "outputs": [
    {
     "name": "stdout",
     "output_type": "stream",
     "text": [
      "Não rejeitamos a hipótese nula.\n"
     ]
    }
   ],
   "source": [
    "from scipy.stats import norm\n",
    "\n",
    "# Valor encontrado\n",
    "P_encontrado = 2/20 * 3/19\n",
    "\n",
    "# Valor esperado sob H0 (3,2% em forma decimal)\n",
    "P_gabarito = 0.032\n",
    "\n",
    "# Erro padrão da proporção (esse eu precisei de ajuda)\n",
    "ErroPadrao_prop = np.sqrt((P_gabarito * (1 - P_gabarito)) / (20 * 19))\n",
    "\n",
    "\n",
    "Z = (P_encontrado - P_gabarito) / ErroPadrao_prop\n",
    "\n",
    "\n",
    "alpha = 0.05\n",
    "\n",
    "\n",
    "z_critico = norm.ppf(1 - alpha/2)  # bicaudal\n",
    "\n",
    "# Teste de hipótese\n",
    "if Z > z_critico or Z < -z_critico:\n",
    "    print(\"Rejeitamos a hipótese nula.\")\n",
    "else:\n",
    "    print(\"Não rejeitamos a hipótese nula.\")\n"
   ]
  },
  {
   "cell_type": "markdown",
   "id": "0db05ca9",
   "metadata": {},
   "source": [
    "## "
   ]
  },
  {
   "cell_type": "markdown",
   "id": "80b7ea20",
   "metadata": {},
   "source": [
    "__6)__ Suponha que 60% das mulheres que comprem kits de gravidez instantâneos estejam, de fato, grávidas. Para um kit de uma marca específica, se a mulher estiver grávida, o teste fornecerá resultado positivo 96% das vezes e negativo 4% das vezes (um “falso negativo\"). Se ela não estiver grávida, o teste resultará positivo em 1% das vezes (um “falso positivo”) e\n",
    "negativo 99% das vezes . Suponha que um teste resulte positivo. Qual a probabilidade de que a mulher esteja realmente grávida?\n",
    "\n",
    "a) 77,7 %  <br>\n",
    "b) 39,4 % <br>\n",
    "c) 63,2 %  <br>\n",
    "d) 86,4 % <br>\n",
    "e) 93,5 % <br>\n",
    "\n",
    "__Obs.:__ Torema de Bayes: $P(grávida | positivo) =  \\frac{P(positivo | grávida) * P(grávida)} {P(positivo | grávida) * P(grávida) + P(positivo | não-grávida) * P(não-grávida)} $"
   ]
  },
  {
   "cell_type": "markdown",
   "id": "4fa2f196",
   "metadata": {},
   "source": [
    "### Resposta comentada 6):"
   ]
  },
  {
   "cell_type": "markdown",
   "id": "7f73eadd-eb82-46c6-8b30-1e894eba7755",
   "metadata": {
    "tags": []
   },
   "source": [
    "Infelizmente e insatisfeito, acredito que a alternativa correta seja a:\n",
    "- e) 93,5 %\n",
    "\n",
    "E após tentar fazer mais um teste de hipotese, acredito que seja isso mesmo."
   ]
  },
  {
   "cell_type": "markdown",
   "id": "98a42407-67d7-4fa9-b9a4-9663e31c30d5",
   "metadata": {},
   "source": [
    "mulheres que compram o kit: 60% estão gravidas | 40% não estão.\n",
    "\n",
    "\n",
    "teste em mulheres gravidas = 96% positivo | 4% falso negativo\n",
    "teste mulheres não gravidas = 99% negativo | 1% falso positivo\n",
    "\n",
    "uma mulher fez o teste e deu positivo, qual a probabilidade de estar gravida.\n",
    "\n",
    "\n"
   ]
  },
  {
   "cell_type": "code",
   "execution_count": 22,
   "id": "0d5cae25",
   "metadata": {
    "ExecuteTime": {
     "end_time": "2021-10-24T20:41:33.898942Z",
     "start_time": "2021-10-24T20:41:33.876002Z"
    },
    "tags": []
   },
   "outputs": [
    {
     "data": {
      "text/plain": [
       "0.993103448275862"
      ]
     },
     "execution_count": 22,
     "metadata": {},
     "output_type": "execute_result"
    }
   ],
   "source": [
    "p_positivo_gravida = 0.96\n",
    "p_gravida = 0.6\n",
    "p_positivo_NaoGravida = 0.01\n",
    "p_NaoGravida = 0.4\n",
    "\n",
    "Probabilidade_gravida_dado_TestePositivo = (p_positivo_gravida*p_gravida)/ ((p_positivo_gravida*p_gravida) + (p_positivo_NaoGravida * p_NaoGravida))\n",
    "Probabilidade_gravida_dado_TestePositivo"
   ]
  },
  {
   "cell_type": "code",
   "execution_count": 23,
   "id": "a1e25d6d-c785-477c-8cd3-c423fd5e69bf",
   "metadata": {
    "tags": []
   },
   "outputs": [
    {
     "data": {
      "text/plain": [
       "0.993103448275862"
      ]
     },
     "execution_count": 23,
     "metadata": {},
     "output_type": "execute_result"
    }
   ],
   "source": [
    "p_resposta5 = (0.96*0.6)/((0.96*0.6)+(0.01*0.4))\n",
    "p_resposta5"
   ]
  },
  {
   "cell_type": "code",
   "execution_count": 24,
   "id": "90414b5e-e359-48c3-aec9-b57aad0160b2",
   "metadata": {
    "tags": []
   },
   "outputs": [
    {
     "name": "stdout",
     "output_type": "stream",
     "text": [
      "Não rejeitamos a hipótese nula.\n"
     ]
    }
   ],
   "source": [
    "from scipy.stats import norm\n",
    "import numpy as np\n",
    "\n",
    "# Valores encontrado e esperados\n",
    "prop_encontrada = 0.993103448275862\n",
    "prop_gabarito = 0.935\n",
    "\n",
    "\n",
    "ErroPadrao_prop = np.sqrt((prop_gabarito * (1 - prop_gabarito)))\n",
    "\n",
    "# Estatística de teste Z\n",
    "Z = (prop_encontrada - prop_gabarito) / ErroPadrao_prop\n",
    "\n",
    "\n",
    "alpha = 0.05\n",
    "\n",
    "\n",
    "z_critico = norm.ppf(1 - alpha/2)  # bicaudal\n",
    "\n",
    "\n",
    "if Z > z_critico or Z < -z_critico:\n",
    "    print(\"Rejeitamos a hipótese nula.\")\n",
    "else:\n",
    "    print(\"Não rejeitamos a hipótese nula.\")\n"
   ]
  },
  {
   "cell_type": "markdown",
   "id": "594e6f4f",
   "metadata": {},
   "source": [
    "## "
   ]
  },
  {
   "cell_type": "markdown",
   "id": "17e930d9",
   "metadata": {},
   "source": [
    "## "
   ]
  },
  {
   "cell_type": "markdown",
   "id": "fe78f648",
   "metadata": {},
   "source": [
    "### Amostragem"
   ]
  },
  {
   "cell_type": "markdown",
   "id": "3d7d1fe9",
   "metadata": {},
   "source": [
    "__9)__ Dados os tipos de amostragem e as definições dos mesmos, assinale a alternativa que indique cada tipo de amostragem com a respectiva definição:\n",
    "\n",
    "Tipos de Amostragem:\n",
    "\n",
    "1 - Amostragem Aleatória Simples  \n",
    "2 - Amostragem Estratificada  \n",
    "3 - Amostragem por Conglomerado  \n",
    "\n",
    "Definições:\n",
    "\n",
    "I - Método de amostragem onde a população é dividida em grupos (estratos) segundo algumas características conhecidas sobre a população em estudo;  \n",
    "II - Método de amostragem que divide em subpopulações (conglomerados), onde escolhem aleatoriamente por amostragem simples as subpopulações e todos os elementos de uma subpopulação irão fazer parte da amostra;  \n",
    "III - Método de amostragem mais simples onde serão escolhidos aleatoriamente elementos com ou sem reposição.  \n",
    "\n",
    "a) 1-II, 2-I, 3-III  <br>\n",
    "b) 1-III, 2-II, 3-I  <br>\n",
    "c) 1-II, 2-III, 3-I  <br>\n",
    "d) 1-III, 2-I, 3-II  <br>\n",
    "e) 1-I, 2-II, 3-III"
   ]
  },
  {
   "cell_type": "markdown",
   "id": "2bb03321",
   "metadata": {},
   "source": [
    "### Resposta comentada 9):"
   ]
  },
  {
   "cell_type": "markdown",
   "id": "b7076c19-2ca8-4e03-9ba4-947343e21438",
   "metadata": {},
   "source": [
    "A alternativa correta é:\n",
    "- b) 1-III, 2-II, 3-I"
   ]
  },
  {
   "cell_type": "code",
   "execution_count": null,
   "id": "7bda148b",
   "metadata": {},
   "outputs": [],
   "source": []
  },
  {
   "cell_type": "markdown",
   "id": "d9911fce",
   "metadata": {},
   "source": [
    "## "
   ]
  },
  {
   "cell_type": "markdown",
   "id": "eceaab61",
   "metadata": {},
   "source": [
    "### Teste de Hipóteses"
   ]
  },
  {
   "cell_type": "markdown",
   "id": "8b779de2",
   "metadata": {},
   "source": [
    "__10)__ Uma fabricante de refrigerante anunciou que o índice de cafeína do seu refrigerante de cola  é igual ou menor a 35mg por lata. Um laboratório realizou 20 análises do índice de cafeína obtendo os resultados (37, 34, 36, 37, 35, 32, 30, 35, 34, 36, 39, 38, 34, 35, 31, 30, 33, 35, 36, 31). Sabe-se que o índice de cafeína do refrigerante de cola dessa marca se distribui normalmente com variância igual a 4. Responda, respectivamente, a conclusão sobre o teste e o valor crítico para este teste com nível de significância de 5%?\n",
    "\n",
    "a) Aceita $H_0$, $X_{critico}$ = 34,40 mg <br>\n",
    "b) Rejeita $H_0$, $X_{critico}$ = 35,74 mg <br>\n",
    "c) Rejeita $H_0$, $X_{critico}$ = 34,40 mg <br>\n",
    "d) Aceita $H_0$, $X_{critico}$ = 35,74 mg <br>"
   ]
  },
  {
   "cell_type": "markdown",
   "id": "48feb070",
   "metadata": {},
   "source": [
    "### Resposta comentada 10):"
   ]
  },
  {
   "cell_type": "code",
   "execution_count": 26,
   "id": "a0a9e405",
   "metadata": {},
   "outputs": [
    {
     "name": "stdout",
     "output_type": "stream",
     "text": [
      "Não rejeitamos a hipótese nula.\n",
      " O valor critico é: 35.74mg\n"
     ]
    }
   ],
   "source": [
    "import numpy as np\n",
    "from scipy.stats import norm\n",
    "\n",
    "amostra = np.array([37, 34, 36, 37, 35, 32, 30, 35, 34, 36, 39, 38, 34, 35, 31, 30, 33, 35, 36, 31])\n",
    "media_amostra = amostra.mean()\n",
    "variancia = 4\n",
    "desvio_padrao = np.sqrt(variancia)\n",
    "n = len(amostra)\n",
    "\n",
    "mu = 35  # cafeina <= 35\n",
    "significancia = 0.05\n",
    "\n",
    "# estatística do teste Z\n",
    "Z_mostra = (media_amostra - mu) / (desvio_padrao / np.sqrt(n))\n",
    "Z_Critico = norm.ppf(1 - significancia)\n",
    "\n",
    "#valor crítico em mg\n",
    "valor_critico_mg = Z_Critico * (desvio_padrao / np.sqrt(n)) + mu\n",
    "\n",
    "\n",
    "if Z_mostra > Z_Critico:\n",
    "    conclusao = \"Rejeitamos a hipótese nula.\"\n",
    "else:\n",
    "    conclusao = \"Não rejeitamos a hipótese nula.\"\n",
    "\n",
    "\n",
    "print(f'{conclusao}\\n O valor critico é: {round(valor_critico_mg, 2)}mg')\n",
    "\n",
    "\n",
    "\n",
    "\n",
    "\n"
   ]
  },
  {
   "cell_type": "markdown",
   "id": "da32880a-361e-45ca-8db5-c838572f7801",
   "metadata": {},
   "source": [
    "A alternatica correta é:\n",
    "- d) Não rejeita  𝐻0,  𝑋𝑐𝑟𝑖𝑡𝑖𝑐𝑜 = 35,74 mg"
   ]
  },
  {
   "cell_type": "markdown",
   "id": "f3588881-2d8f-47d9-b084-7622a7ea1461",
   "metadata": {},
   "source": [
    "# Professor eu gostaria de refazer a 3, a 6, a 9 e a 10"
   ]
  }
 ],
 "metadata": {
  "kernelspec": {
   "display_name": "Python 3 (ipykernel)",
   "language": "python",
   "name": "python3"
  },
  "language_info": {
   "codemirror_mode": {
    "name": "ipython",
    "version": 3
   },
   "file_extension": ".py",
   "mimetype": "text/x-python",
   "name": "python",
   "nbconvert_exporter": "python",
   "pygments_lexer": "ipython3",
   "version": "3.11.5"
  },
  "varInspector": {
   "cols": {
    "lenName": 16,
    "lenType": 16,
    "lenVar": 40
   },
   "kernels_config": {
    "python": {
     "delete_cmd_postfix": "",
     "delete_cmd_prefix": "del ",
     "library": "var_list.py",
     "varRefreshCmd": "print(var_dic_list())"
    },
    "r": {
     "delete_cmd_postfix": ") ",
     "delete_cmd_prefix": "rm(",
     "library": "var_list.r",
     "varRefreshCmd": "cat(var_dic_list()) "
    }
   },
   "types_to_exclude": [
    "module",
    "function",
    "builtin_function_or_method",
    "instance",
    "_Feature"
   ],
   "window_display": false
  }
 },
 "nbformat": 4,
 "nbformat_minor": 5
}
