{
 "cells": [
  {
   "cell_type": "markdown",
   "id": "d97b65a6",
   "metadata": {},
   "source": [
    "<div style=\"background-color: lightgreen; padding: 18px;\">\n",
    "    <h1> Aula 4| Estatística I\n",
    "</div>"
   ]
  },
  {
   "cell_type": "markdown",
   "id": "1139a086",
   "metadata": {},
   "source": [
    "<div style=\"background-color: lightblue; padding: 10px;\">\n",
    "    <h2> Tópicos da aula 4\n",
    "</div>\n",
    "\n",
    "- Variável aleatória\n",
    "- Esperança e variância\n",
    "- Propriedades da esperança e variância\n",
    "- Distribuições de probabilidade discretas\n",
    "    - Bernoulli\n",
    "    - Binomial\n",
    "    - Poisson\n",
    "    - Uniforme\n",
    "- Distribuições de probabilidades contínuas\n",
    "    - Uniforme\n",
    "    - Exponencial\n",
    "    - Normal\n",
    "  \n",
    "\n"
   ]
  },
  {
   "cell_type": "markdown",
   "id": "b3f9605c",
   "metadata": {},
   "source": [
    "# Modelos Probabilísticos"
   ]
  },
  {
   "cell_type": "code",
   "execution_count": 1,
   "id": "06fdcb8c",
   "metadata": {
    "ExecuteTime": {
     "end_time": "2021-12-03T08:02:49.645714Z",
     "start_time": "2021-12-03T08:02:49.630142Z"
    },
    "tags": []
   },
   "outputs": [],
   "source": [
    "#Bibliotecas utilizadas\n",
    "import matplotlib.pyplot as plt\n",
    "import seaborn as sns\n",
    "import numpy as np\n",
    "import math\n",
    "from scipy import stats\n",
    "\n",
    "\n",
    "\n",
    "\n",
    "\n"
   ]
  },
  {
   "cell_type": "markdown",
   "id": "ea3ac378",
   "metadata": {},
   "source": [
    "## Variável aleatória\n",
    "\n",
    "Uma quantidade X, associado a cada possível resultado do espaço amostral é denominado de **variável aleatória discreta** se assume valores num conjunto enumerável, com certa probabilidade. Por outro lado será denominado **variável aleatória contínua** se seu conjunto de valores é qualquer intervalo dos números reais, associando uma probabilidade nesse intervalo.\n",
    "\n",
    "Exemplo:\n",
    "\n",
    "1) Lançamento de 2 moedas simultâneas\n",
    "\n",
    "Espaço amostral: S={ (cara, cara), (cara, coroa), (coroa, coroa), (coroa, cara) }\n",
    "\n",
    "A variável aleatória X é o número de caras\n",
    "\n",
    "| Ponto Amostral | X |\n",
    "|----------------|---|\n",
    "| (cara, cara)   | 2 |\n",
    "| (cara, coroa)  | 1 |\n",
    "| (coroa, cara)  | 1 |\n",
    "| (coroa, coroa) | 0 |"
   ]
  },
  {
   "cell_type": "markdown",
   "id": "2ce26aa2",
   "metadata": {},
   "source": [
    "2) Considere a distribuição de frequências relativa ao número de acidentes diários em um estacionamento:\n",
    "\n",
    "espaço amostral: S = {nenhum acidente, 1 acidente, 2 acidentes, 3 acidentes}\n",
    "\n",
    "| Número de acidentes | Frequências |\n",
    "|---------------------|-------------|\n",
    "| 0                   | 22          |\n",
    "| 1                   | 5           |\n",
    "| 2                   | 2           |\n",
    "| 3                   | 1           |\n",
    "\n",
    "Em um dia a probabilidade de:\n",
    "\n",
    "- não ocorrer acidente é:\n",
    "    \n",
    "    p = 22/30 = 0.73\n",
    "    \n",
    "- ocorrer 1 acidente é:\n",
    "\n",
    "    p = 5/30 = 0.17\n",
    "    \n",
    "- ocorrer 2 acidentes é:\n",
    " \n",
    "     p = 2/30 = 0.07\n",
    "     \n",
    "- ocorrer 3 acidentes é:\n",
    "\n",
    "    p = 1/30 = 0.03\n",
    "    \n",
    "    \n",
    "| Número de acidentes | Probabilidades |\n",
    "|---------------------|----------------|\n",
    "| 0                   | 0.73           |\n",
    "| 1                   | 0.17           |\n",
    "| 2                   | 0.07           |\n",
    "| 3                   | 0.03           |\n",
    "|                     | **Soma = 1**   |\n",
    "\n",
    "Essa tabela é denominada **distribuição de probabilidade**\n",
    "\n",
    "\n",
    "A relação entre a variável aleatória X e os valores da variável P é denominada função de probabilidade:\n",
    "  \n",
    "**$f(x_i) = P(X = x_i)$**\n",
    "  \n",
    "A função $P(X = x_i)$ determina a distribuição de probabilidade da variável aleatória X."
   ]
  },
  {
   "cell_type": "markdown",
   "id": "e11ae13b",
   "metadata": {},
   "source": [
    "Voltando no exemplo das moedas:\n",
    "\n",
    "Espaço amostral de uma moeda S={cara, coroa}   \n",
    "A probabilidade de aparecer uma cara é $p = \\frac{1}{2}$\n",
    "\n",
    "Espaço amostral de 2 moedas S={ (cara, cara), (cara, coroa), (coroa, coroa), (coroa, cara) }.\n",
    "Qual a probabilidade de aparecer (cara, cara)? Resposta $p = \\frac{1}{4}$\n",
    "\n",
    "    \n",
    "| Ponto Amostral | X | P(X)            |\n",
    "|----------------|---|-----------------|\n",
    "| (cara, cara)   | 2 |  1/4 ou 1/2* 1/2=1/4|\n",
    "| (cara, coroa)  | 1 |  1/4           |\n",
    "| (coroa, cara)  | 1 |  1/4            |\n",
    "| (coroa, coroa) | 0 |  1/4            |\n",
    "|                |   |                 |\n",
    "\n",
    "Essa tabela é a distribuição de probabilidade:\n",
    "\n",
    "| Número de caras | X        |\n",
    "|-----------------|----------|\n",
    "| 2               |  1/4     |\n",
    "| 1               |  2/4=1/2  |\n",
    "| 0               |  1/4    |\n",
    "|                 | **soma = 1** |"
   ]
  },
  {
   "cell_type": "markdown",
   "id": "7ebfdb6c",
   "metadata": {},
   "source": [
    "Represetação gráfica da tabela de distribuição de probabilidade"
   ]
  },
  {
   "cell_type": "code",
   "execution_count": 2,
   "id": "6b41fe34",
   "metadata": {
    "ExecuteTime": {
     "end_time": "2021-12-03T21:49:58.092250Z",
     "start_time": "2021-12-03T21:49:57.709595Z"
    }
   },
   "outputs": [
    {
     "data": {
      "image/png": "[encoded data removed]",
      "text/plain": [
       "<Figure size 640x480 with 1 Axes>"
      ]
     },
     "metadata": {},
     "output_type": "display_data"
    }
   ],
   "source": [
    "plt.bar(x=[0,1,2], height=[1/4,1/2,1/4])\n",
    "plt.title('Distribuição de Probabilidade do lançamento de 2 moedas simultaneamente')\n",
    "plt.ylabel('Probabilidade')\n",
    "plt.xlabel('Variável Aleatória')\n",
    "plt.show()"
   ]
  },
  {
   "cell_type": "markdown",
   "id": "13135654",
   "metadata": {},
   "source": [
    "Experimento que mostra a distribuição de probabilidade:\n",
    "\n",
    "https://www.youtube.com/watch?v=Vo9Esp1yaC8"
   ]
  },
  {
   "cell_type": "markdown",
   "id": "19a9a99e",
   "metadata": {},
   "source": [
    "No caso de uma variável aleatória contínua, valores pontuais são dados pela **função densidade de probabilidade** (fdp). Os valores pontuais são associados a um valor de probabilidade nulo. As probabilidades são calculadas por meio da função densidade de probabilidade, sempre considerada em um intervalo. Graficamente, probabilidade é dada pela área sob a curva (fdp) no intervalo dado (pode ser calculado pela _integral_ da fdp)"
   ]
  },
  {
   "attachments": {
    "integral_VA.png": {
     "image/png": "[encoded data removed]"
    }
   },
   "cell_type": "markdown",
   "id": "183ff2ff",
   "metadata": {},
   "source": [
    "![integral_VA.png](attachment:integral_VA.png)"
   ]
  },
  {
   "cell_type": "markdown",
   "id": "b7e5e0ba",
   "metadata": {},
   "source": [
    "## Esperança e variância de uma variável aleatória discreta\n",
    "\n",
    "Em Estatística, em teoria das probabilidades, o valor esperado, também chamado esperança matemática ou expectância, de uma variável aleatória é a soma do produto de cada probabilidade de saída da experiência pelo seu respectivo valor.\n",
    "\n",
    "\n",
    "A média, valor esperado ou esperança de uma variável X é dada pela expressão:\n",
    "\\\\[ E(X) = \\sum_{i=1}^{k} x_{i} p_{i}\\\\]\n",
    "\n",
    "\n",
    "A variância já foi apresentada como:\n",
    "$$ Var(X) = \\sum_{i=1}^{n}\\frac{(x_i-\\mu)^{2}}{n} = \\sum_{i=1}^{m} p_{i}(x_i-\\mu)^{2}$$\n",
    "\n",
    "Uma forma alternativa para calcular a variância, utilizando a Esperança, é:\n",
    "\n",
    "\\\\[ Var(X) = E(X^2) - [E(X)]^2 \\\\]"
   ]
  },
  {
   "cell_type": "markdown",
   "id": "5c8a8219",
   "metadata": {},
   "source": [
    "Exemplo:\n",
    "    \n",
    "Um grupo de amigos compra um cartão de rifa a cada mês e que todo mês são vendidos mil bilhetes do sorteio por 1,00 real cada. Cada bilhete tem uma chance igual de ganhar o prêmio, sendo o primeiro prêmio de 300,00 reais, o segundo de 200,00 reais e o terceiro de 100,00 reais. Qual o ganho líquido potencial ao se comprar um desses bilhetes, ou seja, qual será o valor esperado de X?\n",
    "\n",
    "\n",
    "|  X | P(X) |\n",
    "|---|---|\n",
    "| 300 - 1 = 299  | 1/1000  |\n",
    "| 200 - 1 = 199  | 1/1000  |\n",
    "| 100 - 1 = 99  | 1/1000  |\n",
    "|  0 - 1 = -1 | 997/1000  |\n",
    "\n",
    "O valor esperado da rifa é:\n",
    "\n",
    "E(X) = (299 * 0.001) + (199 * 0.001) + (99 * 0.001) + ((-1) * 0.997) = - 0.4\n",
    "\n",
    "Sabendo que:\n",
    "\n",
    "\\\\[E(X^2) = (299^2 * 0.001) + (199^2 * 0.001) + (99^2 * 0.001) + ((-1)^2 * 0.997)) = 139.8\\\\]\n",
    "\n",
    "A variância da rifa será:\n",
    "\n",
    "\\\\[Var(X) = E(X^2) - [E(X)]^2 = 139.8 - (-0.4)^2 = 139.64 \\\\]\n",
    "\n",
    "Calculando o desvio padrão:\n",
    "\n",
    "$$ Dp(X) = \\sqrt{Var(X)} = \\sqrt{139.64} \\approx 11.82$$"
   ]
  },
  {
   "cell_type": "markdown",
   "id": "34ee7aec",
   "metadata": {},
   "source": []
  },
  {
   "cell_type": "code",
   "execution_count": 5,
   "id": "58bd6137",
   "metadata": {},
   "outputs": [
    {
     "name": "stdout",
     "output_type": "stream",
     "text": [
      "Esperança =  -0.4\n",
      "1) Var(X) = 139.64\n",
      "2) Var(X) =  139.64\n",
      "DP(X) =  11.82\n"
     ]
    }
   ],
   "source": [
    "#Calculando a Esperança e a variância\n",
    "\n",
    "p = [1/1000, 1/1000, 1/1000, 997/1000]\n",
    "\n",
    "X = [299, 199, 99, -1]\n",
    "\n",
    "#Calculando a esperança de X\n",
    "esperanca = 0\n",
    "for i in range(len(X)):\n",
    "    esperanca += p[i]*X[i]\n",
    "\n",
    "print(f'Esperança =  {esperanca}')\n",
    "\n",
    "#Calculando a variância de X\n",
    "#Primeira maneira    \n",
    "variancia = 0\n",
    "for i in range(len(X)):\n",
    "    variancia += p[i]*(X[i] - esperanca)**2\n",
    "\n",
    "print(f'1) Var(X) = {variancia}')\n",
    "\n",
    "#Segunda maneira\n",
    "variancia = 0\n",
    "ex2 = 0\n",
    "for i in range(len(X)):\n",
    "    ex2 += p[i]*(X[i])**2\n",
    "\n",
    "variancia = ex2 - (esperanca)**2\n",
    "print(f'2) Var(X) = {variancia: .2f}')\n",
    "print(f'DP(X) = {variancia ** 0.5: .2f}')\n"
   ]
  },
  {
   "cell_type": "code",
   "execution_count": null,
   "id": "288938dc",
   "metadata": {},
   "outputs": [],
   "source": []
  },
  {
   "cell_type": "code",
   "execution_count": null,
   "id": "d2157d55",
   "metadata": {},
   "outputs": [],
   "source": []
  },
  {
   "cell_type": "markdown",
   "id": "c2ebcfe4",
   "metadata": {},
   "source": [
    "## Propriedades de uma variável aleatória"
   ]
  },
  {
   "cell_type": "markdown",
   "id": "6d48d9e3",
   "metadata": {},
   "source": [
    "#### Média/Esperança de uma variável aleatória\n",
    "\n",
    "$E(X) = \\sum_i^n x_i P(x_i)$ $\\rightarrow$  v.a. discreta\n",
    "\n",
    "\n",
    "$E(X) = \\int_{-\\infty}^{\\infty} x f(x)dx$ $\\rightarrow$  v.a. contínua"
   ]
  },
  {
   "cell_type": "markdown",
   "id": "dab34c86",
   "metadata": {},
   "source": [
    "#### Variância de uma variável aleatória\n",
    "\n",
    "$var(X) = \\sigma^2 = \\sum_i^n (x_i - \\mu)^2 P(x_i)$ $\\rightarrow$  v.a. discreta\n",
    "\n",
    "\n",
    "\n",
    "$var(X) = \\sigma^2 = \\int_{-\\infty}^{\\infty} (x - \\mu)^2 f(x)dx$ $\\rightarrow$  v.a. contínua"
   ]
  },
  {
   "cell_type": "markdown",
   "id": "53fa2a36",
   "metadata": {},
   "source": [
    "#### Combinando variáveis aleatórias X e Y ( $\\alpha$ e $K$ constantes)\n",
    "------------------------\n",
    "Esperança: \n",
    "\n",
    "$E(X \\pm Y) = E(X) \\pm E(Y)$\n",
    "\n",
    "$E(X \\pm K) = E(X) \\pm K$\n",
    "\n",
    "$E(\\alpha X) = \\alpha E(X)$\n",
    "\n",
    "\n",
    "-------------------------\n",
    "Variância\n",
    "\n",
    "$var(X \\pm Y) = var(X) + var(Y)$ $\\rightarrow$ Em alguns casos:  $var(X \\pm Y) = var(X) + var(Y) \\pm 2cov(X,Y)$\n",
    "\n",
    "$var(X \\pm K) = var(X)$\n",
    "\n",
    "$var(\\alpha X) =\\alpha^2 var(X)$"
   ]
  },
  {
   "cell_type": "code",
   "execution_count": null,
   "id": "7d51dae4",
   "metadata": {},
   "outputs": [],
   "source": []
  },
  {
   "cell_type": "code",
   "execution_count": null,
   "id": "812b167e",
   "metadata": {},
   "outputs": [],
   "source": []
  },
  {
   "cell_type": "markdown",
   "id": "dd0b52c6",
   "metadata": {},
   "source": [
    "## Distribuições de Probabilidade\n",
    "\n",
    "Uma **distribuição de probabilidade** é uma função que descreve o comportamento aleatório de um fenômeno dependente do acaso.\n",
    "\n",
    "A distribuição de probabilidade pode **modelar incertezas** e descrever fenômenos físicos, biológicos, econômicos, entre outros.\n",
    "\n",
    "Para representar a distribuição matematicamente, frequentemente utilizamos a função de probabilidade (variáveis aleatórias discretas) ou [função densidade de probabilidade](https://en.wikipedia.org/wiki/Probability_density_function) (variáveis aleatórias contínuas) .\n",
    "\n",
    "Há muitas distribuições de probabilidade diferentes.\n",
    "\n",
    "Entre as distribuições de probabilidade, a **distribuição normal** tem uma importância particular. "
   ]
  },
  {
   "cell_type": "code",
   "execution_count": null,
   "id": "b8c14bcd",
   "metadata": {},
   "outputs": [],
   "source": []
  },
  {
   "cell_type": "code",
   "execution_count": null,
   "id": "42aafa58",
   "metadata": {},
   "outputs": [],
   "source": []
  },
  {
   "cell_type": "code",
   "execution_count": null,
   "id": "d6a9f652",
   "metadata": {},
   "outputs": [],
   "source": []
  },
  {
   "cell_type": "markdown",
   "id": "01f52da8",
   "metadata": {},
   "source": [
    "## Principais modelos discretos :\n",
    "\n",
    "\n",
    "#### **Bernoulli** \n",
    "\n",
    "\n",
    "Uma **distribuição de Bernoulli** tem apenas dois resultados possíveis, a saber 1 *(sucesso)* e 0 *(falha)*, e uma única tentativa, por exemplo, um sorteio. Portanto, a variável aleatória X que tem uma distribuição de Bernoulli pode assumir o valor 1 com a probabilidade de sucesso, p, e o valor 0 com a probabilidade de falha, q ou 1-p. As probabilidades de sucesso e fracasso não precisam ser igualmente prováveis. \n",
    "\n",
    "\\\\[  P(X=x) = p^{x} * (1-p) ^{1-x}\\\\]\n"
   ]
  },
  {
   "cell_type": "code",
   "execution_count": 2,
   "id": "784e43d7",
   "metadata": {
    "ExecuteTime": {
     "end_time": "2021-12-03T08:03:12.625185Z",
     "start_time": "2021-12-03T08:03:10.139189Z"
    },
    "tags": []
   },
   "outputs": [
    {
     "name": "stderr",
     "output_type": "stream",
     "text": [
      "D:\\T.I\\Anaconda\\Lib\\site-packages\\seaborn\\axisgrid.py:118: UserWarning: The figure layout has changed to tight\n",
      "  self._figure.tight_layout(*args, **kwargs)\n"
     ]
    },
    {
     "data": {
      "text/plain": [
       "Text(-12.805555555555555, 0.5, 'Frequência')"
      ]
     },
     "execution_count": 2,
     "metadata": {},
     "output_type": "execute_result"
    },
    {
     "data": {
      "image/png": "[encoded data removed]",
      "text/plain": [
       "<Figure size 500x500 with 1 Axes>"
      ]
     },
     "metadata": {},
     "output_type": "display_data"
    }
   ],
   "source": [
    "from scipy.stats import bernoulli\n",
    "X = bernoulli(0.6) #40% falha e 60% de sucesso\n",
    "X_samples = X.rvs(100000) #random variates sample\n",
    "sns.displot(X_samples, kind='hist', discrete=True, shrink=0.2)\n",
    "plt.xlabel('Distribuição Bernoulli')\n",
    "plt.ylabel('Frequência')"
   ]
  },
  {
   "cell_type": "markdown",
   "id": "e041df5e",
   "metadata": {},
   "source": [
    "Esperança (média): $$ E(X) = p$$\n",
    "\n",
    "Variância: $$Var(X) = p(1 - p)$$\n"
   ]
  },
  {
   "cell_type": "markdown",
   "id": "612cb193-626f-4d98-92b5-72106502f970",
   "metadata": {},
   "source": [
    "Sobre o binomial abaixo o (nK) da formula(que esta o n em cima do k) é a combinação normal, vista no ensino médio."
   ]
  },
  {
   "cell_type": "markdown",
   "id": "bab7d798",
   "metadata": {},
   "source": [
    "#### **Binomial**\n",
    "\n",
    "Uma distribuição em que apenas dois resultados são possíveis, como sucesso ou fracasso, ganho ou perda, vitória ou perda e em que a probabilidade de sucesso e fracasso é a mesma para todas as tentativas é chamada de Distribuição Binomial. No entanto, os resultados não precisam ser igualmente prováveis e cada estudo é independente um do outro. Os parâmetros de uma distribuição binomial são **n** e **p** onde n é o número total de tentativas e p é a probabilidade de sucesso em cada tentativa. Sua função de distribuição de probabilidade é dada por:\n",
    "\n",
    "\n",
    "\n",
    "\\\\[f(k, n, p)  =  \\binom{n}{k} \\cdot p^k(1-p)^{n-k}\\\\]\n",
    "\n",
    "\n",
    "- k sucessos e n-k insucessos\n",
    "- probabilidade de sucesso é p e a probabilidade de insucesso q = 1 - p"
   ]
  },
  {
   "cell_type": "markdown",
   "id": "63a7afe2",
   "metadata": {},
   "source": [
    "Esperança (média): $$ E(X) = np$$\n",
    "\n",
    "Variância: $$Var(X) = np(1 - p)$$\n"
   ]
  },
  {
   "cell_type": "code",
   "execution_count": 12,
   "id": "d336fd42",
   "metadata": {
    "ExecuteTime": {
     "end_time": "2021-12-03T21:19:43.072500Z",
     "start_time": "2021-12-03T21:19:42.885161Z"
    }
   },
   "outputs": [
    {
     "data": {
      "text/plain": [
       "<seaborn.axisgrid.FacetGrid at 0x215deac4460>"
      ]
     },
     "execution_count": 12,
     "metadata": {},
     "output_type": "execute_result"
    },
    {
     "data": {
      "image/png": "[encoded data removed]",
      "text/plain": [
       "<Figure size 500x500 with 1 Axes>"
      ]
     },
     "metadata": {},
     "output_type": "display_data"
    }
   ],
   "source": [
    "#from scipy.stats import binom\n",
    "\n",
    "from numpy.random import binomial\n",
    "\n",
    "data_binom = binomial(n=5, p=0.68, size=80000)\n",
    "\n",
    "ax = sns.displot(\n",
    "    data_binom,\n",
    "    kind='hist',\n",
    "    color='skyblue',\n",
    ")\n",
    "ax.set(xlabel='Distribuição Binomial', ylabel='Frequência')"
   ]
  },
  {
   "cell_type": "markdown",
   "id": "7b30fa23",
   "metadata": {},
   "source": [
    "**Exercício**: Uma prova de Estatística contém 6 questões, cada um contendo 5 alternativas e apenas uma correta. Qual a probabilidade de alguém, no chute, acertar pelo menos 3 questões?  "
   ]
  },
  {
   "cell_type": "code",
   "execution_count": 7,
   "id": "1c89d44f",
   "metadata": {
    "tags": []
   },
   "outputs": [],
   "source": [
    "# Código em aula, fazendo na mão\n",
    "def my_fat():\n",
    "    prod = 1\n",
    "    if n == 0:\n",
    "        return 1\n",
    "    else:\n",
    "        for i in range(n, 0, -1):\n",
    "            prod *= i\n",
    "    return prod\n",
    "\n",
    "\n",
    "def my_comb(n, k):\n",
    "    return my_fat(n) / (my_fat(k) * my_fat(n-k))\n",
    "\n",
    "def my_binom(k, n, p):\n",
    "    return my_comb(n, k) * (p**k) * (1-p)**(n-k)\n",
    "\n",
    "\n"
   ]
  },
  {
   "cell_type": "code",
   "execution_count": null,
   "id": "9ac17626-1728-4a81-bd9f-5a6fd9bf0a26",
   "metadata": {
    "tags": []
   },
   "outputs": [],
   "source": [
    "k, n, p = 3, 6, 0.2\n",
    "round(binom.pmf(k, n, p),4), round(my_binom(k,n,p), 4)"
   ]
  },
  {
   "cell_type": "code",
   "execution_count": 4,
   "id": "0f1d6463",
   "metadata": {
    "tags": []
   },
   "outputs": [
    {
     "name": "stdout",
     "output_type": "stream",
     "text": [
      "0.09888\n",
      "0.09888000000000008\n",
      "0.09888000000000005\n"
     ]
    }
   ],
   "source": [
    "from scipy.stats import binom\n",
    "\n",
    "n = 6\n",
    "p = 0.2\n",
    "k = [3, 4, 5, 6]\n",
    "\n",
    "#Calculando cada parcela\n",
    "print(binom.pmf(3, n, p) + binom.pmf(4, n, p) + binom.pmf(5, n, p)+ binom.pmf(6, n, p))\n",
    "\n",
    "#Utilizando a função cdf (acumulado do menor até um certo valor)\n",
    "print(1 - binom.cdf(2, n, p)) #usando o complementar\n",
    "\n",
    "#Utilizando a função sf\n",
    "print(binom.sf(2, n, p))"
   ]
  },
  {
   "cell_type": "markdown",
   "id": "68eb5da0",
   "metadata": {},
   "source": [
    "### **Modelo Poisson**\n",
    "\n",
    "Dizemos que um modelo tem distribuição de Poisson se \n",
    "\n",
    "\\\\[ P(X=k) = \\frac{e^{-\\lambda}\\lambda^{k}}{k!} \\\\]\n",
    " \n",
    "onde $\\lambda$ é o número de ocorrência por unidade de tempo.\n",
    "\n",
    "Esse modelo descreve experimentos onde a probabilidade de ocorrência de k eventos em um determinado intervalo de tempo é independente da ocorrência do último evento. \n",
    " \n"
   ]
  },
  {
   "cell_type": "markdown",
   "id": "800306da",
   "metadata": {},
   "source": [
    "Esperança (média): $$ E(X) = \\lambda$$\n",
    "\n",
    "Variância: $$Var(X) = \\lambda$$\n",
    "\n",
    "Função acumulada: $$ \n",
    "F(x) = P(X < x) = e^{-\\lambda} \\sum_{i=0}^{x} \\frac{\\lambda^i}{i!} $$"
   ]
  },
  {
   "cell_type": "code",
   "execution_count": 13,
   "id": "f7c90e26",
   "metadata": {
    "ExecuteTime": {
     "end_time": "2021-12-03T21:22:15.121327Z",
     "start_time": "2021-12-03T21:22:14.850444Z"
    }
   },
   "outputs": [
    {
     "data": {
      "text/plain": [
       "<seaborn.axisgrid.FacetGrid at 0x215debf9ee0>"
      ]
     },
     "execution_count": 13,
     "metadata": {},
     "output_type": "execute_result"
    },
    {
     "data": {
      "image/png": "[encoded data removed]",
      "text/plain": [
       "<Figure size 500x500 with 1 Axes>"
      ]
     },
     "metadata": {},
     "output_type": "display_data"
    }
   ],
   "source": [
    "\n",
    "from scipy.stats import poisson\n",
    "data_poisson = poisson.rvs(mu=3, size=10000)\n",
    "\n",
    "\n",
    "ax = sns.displot(data_poisson,\n",
    "                  bins=30,\n",
    "                  kde=False,\n",
    "                  color='skyblue',\n",
    "                  )\n",
    "ax.set(xlabel='Distribuição Poisson', ylabel='Frequência')"
   ]
  },
  {
   "cell_type": "markdown",
   "id": "7f7fc8b8",
   "metadata": {},
   "source": [
    "Exercício: O número médio de acidentes por mês, em um certo cruzamento, é três. Qual a probabilidade de, em qualquer mês, ocorrerem quatro acidentes nesse cruzamento?"
   ]
  },
  {
   "cell_type": "code",
   "execution_count": 25,
   "id": "6c7067ef",
   "metadata": {
    "ExecuteTime": {
     "end_time": "2021-12-04T00:00:39.209255Z",
     "start_time": "2021-12-04T00:00:39.187315Z"
    }
   },
   "outputs": [
    {
     "data": {
      "text/plain": [
       "0.16803135574154082"
      ]
     },
     "execution_count": 25,
     "metadata": {},
     "output_type": "execute_result"
    }
   ],
   "source": [
    "#numpy.math.factorial -->outra forma de calcular fatorial\n",
    "\n",
    "def fat(n):\n",
    "    if n == 0 or n == 1:\n",
    "        return 1\n",
    "    else:\n",
    "        return n * fat(n-1)\n",
    "\n",
    "lambda1 = 3\n",
    "k = 4\n",
    "np.exp(-lambda1) * lambda1**k / fat(k)\n"
   ]
  },
  {
   "cell_type": "code",
   "execution_count": 26,
   "id": "d1736925",
   "metadata": {},
   "outputs": [
    {
     "data": {
      "text/plain": [
       "0.16803135574154085"
      ]
     },
     "execution_count": 26,
     "metadata": {},
     "output_type": "execute_result"
    }
   ],
   "source": [
    "poisson.pmf(4,3)"
   ]
  },
  {
   "cell_type": "markdown",
   "id": "448a3799",
   "metadata": {},
   "source": [
    "### Uniforme\n",
    "\n",
    "No lançamento de um dado, a variável aleatória X pode tomar os valores 1,2,3,4,5,6\n",
    "\n",
    "Como cada um desdes valores está associada uma só probabilidade de realização e $\\sum P(x_i)=1$, a função probabilidade resulta da distribuição de probabilidade:\n",
    "\n",
    "\n",
    "| X | P(X) |\n",
    "|---|------|\n",
    "| 1 | 1/6  |\n",
    "| 2 | 1/6  |\n",
    "| 3 | 1/6  |\n",
    "| 4 | 1/6  |\n",
    "| 5 | 1/6  |\n",
    "| 6 | 1/6  |"
   ]
  },
  {
   "cell_type": "markdown",
   "id": "7d0a8138",
   "metadata": {},
   "source": [
    "Esperança (média): $$ E(X) = \\frac{a+b}{2}$$\n",
    "\n",
    "Variância: $$Var(X) = \\frac{(b-a+1)^2+1}{12}$$\n"
   ]
  },
  {
   "cell_type": "code",
   "execution_count": null,
   "id": "2321e33e",
   "metadata": {
    "ExecuteTime": {
     "end_time": "2021-12-03T21:27:00.334077Z",
     "start_time": "2021-12-03T21:27:00.216172Z"
    }
   },
   "outputs": [],
   "source": [
    "plt.bar(x=[1, 2, 3, 4, 5, 6], height=1/6)"
   ]
  },
  {
   "cell_type": "code",
   "execution_count": 81,
   "id": "b4140e68",
   "metadata": {
    "ExecuteTime": {
     "end_time": "2021-12-03T21:29:08.646401Z",
     "start_time": "2021-12-03T21:29:08.377589Z"
    }
   },
   "outputs": [
    {
     "data": {
      "text/plain": [
       "<seaborn.axisgrid.FacetGrid at 0x24236e62a30>"
      ]
     },
     "execution_count": 81,
     "metadata": {},
     "output_type": "execute_result"
    },
    {
     "data": {
      "image/png": "[encoded data removed]",
      "text/plain": [
       "<Figure size 500x500 with 1 Axes>"
      ]
     },
     "metadata": {},
     "output_type": "display_data"
    }
   ],
   "source": [
    "from scipy.stats import uniform\n",
    "# random numbers from uniform distribution\n",
    "n = 1000000\n",
    "start = 1\n",
    "width = 5\n",
    "data_uniform = uniform.rvs(size=n, loc=start, scale=width)\n",
    "\n",
    "ax = sns.displot(data_uniform,\n",
    "                  bins=6,\n",
    "                  kde=True,\n",
    "                  color='skyblue',\n",
    "                  )\n",
    "ax.set(xlabel='Uniform Distribution ', ylabel='Frequency')"
   ]
  },
  {
   "cell_type": "code",
   "execution_count": null,
   "id": "0217f204",
   "metadata": {},
   "outputs": [],
   "source": []
  },
  {
   "cell_type": "markdown",
   "id": "351365e0",
   "metadata": {},
   "source": [
    "**Diversas distribuições de probabilidade**\n",
    "\n",
    "http://ucla.jamesyxu.com/wp-content/uploads/2011/08/A-probability-and-statistics-cheatsheet.pdf\n",
    "\n",
    "https://docs.scipy.org/doc/scipy/reference/stats.html"
   ]
  },
  {
   "cell_type": "markdown",
   "id": "b77a561f",
   "metadata": {
    "ExecuteTime": {
     "end_time": "2021-10-15T23:16:07.672080Z",
     "start_time": "2021-10-15T23:16:07.661109Z"
    }
   },
   "source": [
    "## Principais modelos contínuos :\n",
    "\n",
    "### Modelo Uniforme\n",
    "\n",
    "Uma variável aleatória contínua X tem distribuição uniforme com parâmetros a e b (com a<b) se sua função de densidade de probabilidade é dada por:\n",
    "\n",
    "\\\\[f(x) = \\frac{1}{b-a} \\\\]\n",
    "\n",
    "Se x é maior ou igual a ao valor a e menor ou igual ao valor b, então f(x) = 1. Caso x não pertença ao intervalo entre a e b, então f(x) = 0.\n",
    "\n",
    "\n",
    "<center><img src=https://media.geeksforgeeks.org/wp-content/uploads/probability-distribution-1.jpg width=\"200\" height=\"500\" />"
   ]
  },
  {
   "cell_type": "markdown",
   "id": "aeb85af8",
   "metadata": {},
   "source": [
    "Esperança (média): $$ E(X) = \\frac{a+b}{2}$$\n",
    "\n",
    "Variância: $$Var(X) = \\frac{(b-a)^2}{12}$$\n",
    "\n",
    "Função acumulada: $$ \n",
    "F(x) = P(X < x) = \n",
    "  \\begin{cases}\n",
    "      0, & x<a \\\\\n",
    "      \\frac{x-a}{b-a}, & a \\le x \\leq b \\\\\n",
    "      1, & x > b\n",
    "  \\end{cases}\n",
    "$$"
   ]
  },
  {
   "cell_type": "code",
   "execution_count": null,
   "id": "aa86f3f1",
   "metadata": {},
   "outputs": [],
   "source": []
  },
  {
   "cell_type": "markdown",
   "id": "8ffdb8c2",
   "metadata": {},
   "source": [
    "## Distribuição exponencial\n",
    "\n",
    "Uma variável aleatória contínua X tem distribuição exponecial com parâmetro $\\lambda$ se sua função de densidade de probabilidade for dada por:\n",
    "\n",
    "$$\n",
    "f(x) = \n",
    "\\begin{cases}\n",
    "      \\lambda e^{-\\lambda x}, & x \\ge 0 \\\\\n",
    "      0, & x<0 \n",
    "  \\end{cases}\n",
    "$$\n"
   ]
  },
  {
   "cell_type": "code",
   "execution_count": 82,
   "id": "313eb299",
   "metadata": {},
   "outputs": [
    {
     "data": {
      "image/png": "[encoded data removed]",
      "text/plain": [
       "<Figure size 640x480 with 1 Axes>"
      ]
     },
     "metadata": {},
     "output_type": "display_data"
    }
   ],
   "source": [
    "x = np.linspace(0,3,100)\n",
    "alpha = 1\n",
    "alpha2 = 2\n",
    "alpha3 = 3\n",
    "y = alpha * np.exp(-alpha * x)\n",
    "y2 = alpha2 * np.exp(-alpha2 * x)\n",
    "y3 = alpha3 * np.exp(-alpha3 * x)\n",
    "ax = plt.figure()\n",
    "plt.plot(x,y, label='lambda = 1')\n",
    "plt.plot(x,y2, label='lambda = 2')\n",
    "plt.plot(x,y3, label='lambda = 3')\n",
    "plt.legend()\n",
    "plt.title('Distribuição exponencial')\n",
    "plt.grid()"
   ]
  },
  {
   "cell_type": "markdown",
   "id": "083758aa",
   "metadata": {},
   "source": [
    "Esperança (média): $$ E(X) = \\frac{1}{\\lambda}$$\n",
    "\n",
    "Variância: $$Var(X) = \\frac{1}{\\lambda^2}$$\n",
    "\n",
    "Função acumulada: \n",
    "$$\n",
    "F(x) = \n",
    "\\begin{cases}\n",
    "      1 -  e^{-\\lambda x}, & x \\ge 0 \\\\\n",
    "      0, & x<0 \n",
    "  \\end{cases}\n",
    "$$\n",
    "\n",
    "Ausência de memória:\n",
    "$$\n",
    "P(X > s + t | X > s) = P(X>t)\n",
    "$$"
   ]
  },
  {
   "cell_type": "code",
   "execution_count": null,
   "id": "00138a95",
   "metadata": {},
   "outputs": [],
   "source": []
  },
  {
   "cell_type": "markdown",
   "id": "d85a404e",
   "metadata": {},
   "source": [
    "## Distribuição Normal\n",
    "\n",
    "É representada por uma **curva simétrica em torno do seu ponto médio**, apresentando assim seu famoso formato de **sino** (bell shape).  \n",
    "\n",
    "A curva de distribuição normal representa o comportamento de **diversos processos e fenômenos comuns**, como por exemplo: altura ou peso de uma população, a pressão sanguínea de um grupo de pessoas, o tempo que um grupo de estudantes gasta para realizar uma prova, etc.\n",
    "\n",
    "A distribuição normal serve também como base para a inferência estatística clássica, sendo a premissa em diversos modelos e métodos.\n",
    "\n",
    "Na distribuição normal, a média, mediana e moda dos dados possuem o mesmo valor. \n",
    "\n",
    "<img src=\"https://dietassessmentprimer.cancer.gov/images/learn/distribution1.jpg\">\n",
    "\n",
    "Usaremos a notação X ~ N($\\mu$,$\\sigma^2$) para representar uma variável aleatória **com distribuição normal** de média $\\mu$ e variância $\\sigma^2$.\n",
    "\n",
    "<img src=\"https://upload.wikimedia.org/wikipedia/commons/thumb/7/74/Normal_Distribution_PDF.svg/1280px-Normal_Distribution_PDF.svg.png\" width=500>\n",
    "\n",
    "A equação da distribuição normal é:\n",
    "\n",
    "<img src=\"https://www.onlinemathlearning.com/image-files/normal-distribution-formula.png\" width=200>\n",
    "\n"
   ]
  },
  {
   "cell_type": "markdown",
   "id": "73b25029",
   "metadata": {},
   "source": [
    "Em resumo, a distribuição normal (distribuição teórica da variável aleatória contínua):\n",
    "- formato em sino\n",
    "- simétrica em torno do x (média), ou seja, a média, moda e mediana estão no mesmo ponto\n",
    "- a curva normal ou curva de Gauss\n",
    "- Área sob a curva é igual a 1\n",
    "- assintótica nas abcissas, ou seja, aproxima do eixo mas não toca\n"
   ]
  },
  {
   "cell_type": "markdown",
   "id": "218f734e",
   "metadata": {},
   "source": [
    "## Z-Score\n",
    "\n",
    "O **z-score** de uma observação nada mais é que **o número de desvios padrões que a obervação está com relação à média**:\n",
    "\n",
    "$$ Z = \\frac{X - \\mu}{\\sigma} $$\n",
    "\n",
    "$$ Z \\sigma = X - \\mu $$\n",
    "\n",
    "$$  X = \\mu + Z \\sigma  $$\n",
    "\n",
    "Como vimos acima, em uma distribuição normal, 99.73% das observações são esperadas de estar entre 3 desvios-padrão da média. Assim, obervações para além desta faixa são muito improváveis de ocorrer (0.27% de chance), de forma que podem ser consideradas outliers.\n",
    "\n",
    "Assim, é comum considerar outliers os pontos tais que $|z| > 3$ (embora seja comum também variar este z-score limite, para 2.5 o, 3.5, etc.)\n",
    "\n",
    "**OBS.: naturalmente, este método é altamente dependente da hipótese de que seus dados são normalmente distribuídos! Por isso, funciona apenas aproximadamente para outros casos. Mas é uma boa aproximação, em geral.**"
   ]
  },
  {
   "cell_type": "code",
   "execution_count": 23,
   "id": "5af5c417",
   "metadata": {},
   "outputs": [
    {
     "name": "stdout",
     "output_type": "stream",
     "text": [
      "0.6826894921370859\n",
      "0.9544997361036416\n",
      "0.9973002039367398\n",
      "0.9999366575163338\n"
     ]
    }
   ],
   "source": [
    "#Área no intervalo -1 < z < 1\n",
    "print(stats.norm.cdf(1) - stats.norm.cdf(-1))\n",
    "\n",
    "#Área no intervalo -2 < z < 2\n",
    "print(stats.norm.cdf(2) - stats.norm.cdf(-2))\n",
    "\n",
    "#Área no intervalo -3 < z < 3\n",
    "print(stats.norm.cdf(3) - stats.norm.cdf(-3))\n",
    "\n",
    "#Área no intervalo -4 < z < 4\n",
    "print(stats.norm.cdf(4) - stats.norm.cdf(-4))"
   ]
  },
  {
   "cell_type": "markdown",
   "id": "774ea0d6",
   "metadata": {},
   "source": [
    "Exercícios:\n",
    "\n",
    "1) Encontre a área acumulada que corresponde a um z-score de 1.23"
   ]
  },
  {
   "cell_type": "code",
   "execution_count": null,
   "id": "b0f548f0",
   "metadata": {},
   "outputs": [],
   "source": []
  },
  {
   "cell_type": "markdown",
   "id": "3a2b0852",
   "metadata": {},
   "source": [
    "2) Encontre a área acumulada que corresponde a um z-score de -0.83"
   ]
  },
  {
   "cell_type": "code",
   "execution_count": null,
   "id": "385652c8",
   "metadata": {},
   "outputs": [],
   "source": []
  },
  {
   "cell_type": "markdown",
   "id": "da749a59",
   "metadata": {},
   "source": [
    "3) Calcule o z-score que resulta em uma área de 0.38 acima (a partir do z = 0) "
   ]
  },
  {
   "cell_type": "code",
   "execution_count": null,
   "id": "a19ace0a",
   "metadata": {},
   "outputs": [],
   "source": []
  },
  {
   "cell_type": "markdown",
   "id": "458965cb",
   "metadata": {},
   "source": [
    "4) Calcule o z-score que resulta em uma área de 0.38"
   ]
  },
  {
   "cell_type": "code",
   "execution_count": null,
   "id": "19d7188b",
   "metadata": {},
   "outputs": [],
   "source": []
  },
  {
   "cell_type": "markdown",
   "id": "9164a60c",
   "metadata": {},
   "source": [
    "5) As contas de serviços\n",
    "públicos mensais em uma cidade são normalmente distribuídas, com média de $R\\$100$ e desvio padrão de $ R\\$12$.\n",
    "Calcule a probabilidade de que uma conta de serviço público selecionada aleatoriamente tenha valor (a) menor\n",
    "que $ R\\$70$, (b) entre $ R\\$90$ e $ R\\$120$ e (c) maior que $ R\\$140$."
   ]
  },
  {
   "cell_type": "code",
   "execution_count": 27,
   "id": "9490a612",
   "metadata": {},
   "outputs": [],
   "source": [
    "mu = 100\n",
    "sigma = 12\n"
   ]
  },
  {
   "cell_type": "code",
   "execution_count": 1,
   "id": "7293ce1e",
   "metadata": {},
   "outputs": [],
   "source": [
    "#a)\n"
   ]
  },
  {
   "cell_type": "code",
   "execution_count": 2,
   "id": "574aa95f",
   "metadata": {},
   "outputs": [],
   "source": [
    "#b)"
   ]
  },
  {
   "cell_type": "code",
   "execution_count": 3,
   "id": "113e5312",
   "metadata": {},
   "outputs": [],
   "source": [
    "#c)"
   ]
  },
  {
   "cell_type": "code",
   "execution_count": null,
   "id": "599c5083",
   "metadata": {},
   "outputs": [],
   "source": []
  },
  {
   "cell_type": "markdown",
   "id": "11425644",
   "metadata": {},
   "source": [
    "Tabela de Distribuição Normal Padrão"
   ]
  },
  {
   "cell_type": "markdown",
   "id": "5ddc523f",
   "metadata": {},
   "source": [
    "<img src=\"https://bloglosbifes.files.wordpress.com/2013/10/distribuicao_normal_padrao.png\" width=500>\n",
    "     \n",
    "     "
   ]
  },
  {
   "cell_type": "code",
   "execution_count": 5,
   "id": "8f8f8f98",
   "metadata": {},
   "outputs": [],
   "source": [
    "import numpy as np"
   ]
  },
  {
   "cell_type": "code",
   "execution_count": 7,
   "id": "3e7e7b56",
   "metadata": {
    "ExecuteTime": {
     "end_time": "2021-12-01T21:41:31.809707Z",
     "start_time": "2021-12-01T21:41:31.708230Z"
    },
    "scrolled": true
   },
   "outputs": [
    {
     "data": {
      "image/png": "[encoded data removed]",
      "text/plain": [
       "<Figure size 700x300 with 1 Axes>"
      ]
     },
     "metadata": {},
     "output_type": "display_data"
    }
   ],
   "source": [
    "x = np.linspace(-5, 5, 400)\n",
    "\n",
    "mu = 0 #média\n",
    "sigma = 1 #desvio padrão\n",
    "# usando o scipy\n",
    "y = stats.norm(loc=mu, scale=sigma).pdf(x) #probability density function (pdf)\n",
    "\n",
    "plt.figure(figsize = (7,3))\n",
    "plt.plot(x, y)\n",
    "plt.grid()\n",
    "\n",
    "plt.show()"
   ]
  },
  {
   "cell_type": "code",
   "execution_count": 29,
   "id": "e0b6ec8d",
   "metadata": {
    "ExecuteTime": {
     "end_time": "2021-12-01T21:42:03.586799Z",
     "start_time": "2021-12-01T21:42:03.464645Z"
    },
    "scrolled": true
   },
   "outputs": [
    {
     "data": {
      "image/png": "[encoded data removed]",
      "text/plain": [
       "<Figure size 700x300 with 1 Axes>"
      ]
     },
     "metadata": {},
     "output_type": "display_data"
    }
   ],
   "source": [
    "x = np.linspace(-5, 5, 400)\n",
    "\n",
    "mu = 0 #média  \n",
    "sigma = 1 #desvio padrão\n",
    "\n",
    "# definição explícita da curva\n",
    "y = (1 / (sigma * np.sqrt(2*np.pi))) * np.exp(-((x - mu)/sigma)**2 / 2)\n",
    "y2 = stats.norm(loc=mu, scale=sigma).pdf(x) #probability density function (pdf)\n",
    "\n",
    "\n",
    "plt.figure(figsize = (7,3))\n",
    "plt.plot(x, y, label=\"Fórmula matemática\")\n",
    "plt.plot(x, y2, label=\"Função python\")\n",
    "plt.grid()\n",
    "plt.legend()\n",
    "plt.show()"
   ]
  },
  {
   "cell_type": "code",
   "execution_count": 32,
   "id": "dc0beddf",
   "metadata": {
    "ExecuteTime": {
     "end_time": "2021-12-01T21:49:20.413972Z",
     "start_time": "2021-12-01T21:49:20.252798Z"
    }
   },
   "outputs": [
    {
     "name": "stderr",
     "output_type": "stream",
     "text": [
      "C:\\ProgramData\\Anaconda3\\lib\\site-packages\\seaborn\\axisgrid.py:118: UserWarning: The figure layout has changed to tight\n",
      "  self._figure.tight_layout(*args, **kwargs)\n"
     ]
    },
    {
     "data": {
      "image/png": "[encoded data removed]",
      "text/plain": [
       "<Figure size 500x500 with 1 Axes>"
      ]
     },
     "metadata": {},
     "output_type": "display_data"
    }
   ],
   "source": [
    "# utilizando o seaborn\n",
    "\n",
    "N = 100 #número de pontos a serem escolhidos aleatoriamente\n",
    "amostra_normal = np.random.normal(0, 1, N) \n",
    "\n",
    "sns.displot(amostra_normal, kde=True)\n",
    "plt.show()\n"
   ]
  },
  {
   "cell_type": "code",
   "execution_count": null,
   "id": "5c58131a",
   "metadata": {
    "ExecuteTime": {
     "end_time": "2021-12-01T21:35:32.743013Z",
     "start_time": "2021-12-01T21:35:32.547606Z"
    },
    "scrolled": true
   },
   "outputs": [],
   "source": [
    "N = 1000\n",
    "amostra_normal = np.random.normal(0, 1, N)\n",
    "\n",
    "sns.displot(amostra_normal, kde=True)\n",
    "\n",
    "plt.show()"
   ]
  },
  {
   "cell_type": "code",
   "execution_count": null,
   "id": "09879032",
   "metadata": {
    "ExecuteTime": {
     "end_time": "2021-12-01T20:56:23.015050Z",
     "start_time": "2021-12-01T20:56:22.064626Z"
    },
    "scrolled": true
   },
   "outputs": [],
   "source": [
    "N = 10000\n",
    "amostra_normal = np.random.normal(0, 1, N)\n",
    "\n",
    "sns.displot(amostra_normal, kde=True)\n",
    "\n",
    "plt.show()"
   ]
  },
  {
   "cell_type": "markdown",
   "id": "95ba384f",
   "metadata": {},
   "source": [
    "Na distribuição normal, os dados são distribuídos de forma muito particular, tal que o **desvio padrão** determina a proporção de dados em cada faixa:\n",
    "\n",
    "<img src=\"https://miro.medium.com/max/24000/1*IdGgdrY_n_9_YfkaCh-dag.png\" width=500>\n",
    "\n",
    "<img src=\"https://miro.medium.com/max/24000/1*IZ2II2HYKeoMrdLU5jW6Dw.png\" width=500>"
   ]
  },
  {
   "cell_type": "code",
   "execution_count": 20,
   "id": "de7d7cf2",
   "metadata": {
    "ExecuteTime": {
     "end_time": "2021-12-01T21:52:28.504267Z",
     "start_time": "2021-12-01T21:52:28.377593Z"
    }
   },
   "outputs": [
    {
     "data": {
      "text/plain": [
       "[<matplotlib.lines.Line2D at 0x26546153610>]"
      ]
     },
     "execution_count": 20,
     "metadata": {},
     "output_type": "execute_result"
    },
    {
     "data": {
      "image/png": "[encoded data removed]",
      "text/plain": [
       "<Figure size 640x480 with 1 Axes>"
      ]
     },
     "metadata": {},
     "output_type": "display_data"
    }
   ],
   "source": [
    "#Função acumulada\n",
    "y = stats.norm(loc=mu, scale=sigma).cdf(x)\n",
    "\n",
    "plt.plot(x,y)"
   ]
  },
  {
   "cell_type": "code",
   "execution_count": null,
   "id": "33fbe622",
   "metadata": {
    "ExecuteTime": {
     "end_time": "2021-12-01T21:56:29.037730Z",
     "start_time": "2021-12-01T21:56:29.021739Z"
    }
   },
   "outputs": [],
   "source": []
  },
  {
   "cell_type": "code",
   "execution_count": null,
   "id": "39d58ae2",
   "metadata": {},
   "outputs": [],
   "source": []
  },
  {
   "cell_type": "markdown",
   "id": "58b089b2",
   "metadata": {},
   "source": [
    "Diversas distribuições de probabilidade\n",
    "\n",
    "http://ucla.jamesyxu.com/wp-content/uploads/2011/08/A-probability-and-statistics-cheatsheet.pdf"
   ]
  },
  {
   "cell_type": "code",
   "execution_count": null,
   "id": "b7cc7fca",
   "metadata": {},
   "outputs": [],
   "source": []
  },
  {
   "cell_type": "code",
   "execution_count": 23,
   "id": "ce762a16",
   "metadata": {},
   "outputs": [],
   "source": []
  }
 ],
 "metadata": {
  "kernelspec": {
   "display_name": "Python 3 (ipykernel)",
   "language": "python",
   "name": "python3"
  },
  "language_info": {
   "codemirror_mode": {
    "name": "ipython",
    "version": 3
   },
   "file_extension": ".py",
   "mimetype": "text/x-python",
   "name": "python",
   "nbconvert_exporter": "python",
   "pygments_lexer": "ipython3",
   "version": "3.11.5"
  },
  "varInspector": {
   "cols": {
    "lenName": 16,
    "lenType": 16,
    "lenVar": 40
   },
   "kernels_config": {
    "python": {
     "delete_cmd_postfix": "",
     "delete_cmd_prefix": "del ",
     "library": "var_list.py",
     "varRefreshCmd": "print(var_dic_list())"
    },
    "r": {
     "delete_cmd_postfix": ") ",
     "delete_cmd_prefix": "rm(",
     "library": "var_list.r",
     "varRefreshCmd": "cat(var_dic_list()) "
    }
   },
   "types_to_exclude": [
    "module",
    "function",
    "builtin_function_or_method",
    "instance",
    "_Feature"
   ],
   "window_display": false
  }
 },
 "nbformat": 4,
 "nbformat_minor": 5
}
