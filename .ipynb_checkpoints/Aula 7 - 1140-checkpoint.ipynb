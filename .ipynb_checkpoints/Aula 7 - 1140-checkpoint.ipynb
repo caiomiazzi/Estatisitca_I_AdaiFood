{
 "cells": [
  {
   "cell_type": "markdown",
   "id": "184a6dd5",
   "metadata": {},
   "source": [
    "<div style=\"background-color: lightgreen; padding: 18px;\">\n",
    "    <h1> Aula 7 | Lógica de Programação II\n",
    "</div>"
   ]
  },
  {
   "cell_type": "markdown",
   "id": "a9e7afb9",
   "metadata": {},
   "source": [
    "<div style=\"background-color: lightblue; padding: 10px;\">\n",
    "    <h2> Tópicos da aula 7\n",
    "</div>\n",
    "\n",
    "- Funções anônimas (lambda)\n",
    "- map\n",
    "- filter\n",
    "- reduce\n",
    "- Exercícios"
   ]
  },
  {
   "cell_type": "code",
   "execution_count": null,
   "id": "cbb8ab59",
   "metadata": {},
   "outputs": [],
   "source": [
    "# Criando funções\n",
    "def nome(argumentos?):\n",
    "    return ?"
   ]
  },
  {
   "cell_type": "code",
   "execution_count": null,
   "id": "79e92d47",
   "metadata": {},
   "outputs": [],
   "source": [
    "# Criando funções anônimas\n",
    "lambda argumentos: corpo (return)"
   ]
  },
  {
   "cell_type": "code",
   "execution_count": 5,
   "id": "ba93ccc3",
   "metadata": {},
   "outputs": [],
   "source": [
    "# função lambda: exemplo\n",
    "fn = lambda x: 2 * x"
   ]
  },
  {
   "cell_type": "code",
   "execution_count": 6,
   "id": "09bda327",
   "metadata": {},
   "outputs": [
    {
     "data": {
      "text/plain": [
       "46"
      ]
     },
     "execution_count": 6,
     "metadata": {},
     "output_type": "execute_result"
    }
   ],
   "source": [
    "fn(23)"
   ]
  },
  {
   "cell_type": "code",
   "execution_count": 8,
   "id": "97a05a03",
   "metadata": {},
   "outputs": [
    {
     "data": {
      "text/plain": [
       "8"
      ]
     },
     "execution_count": 8,
     "metadata": {},
     "output_type": "execute_result"
    }
   ],
   "source": [
    "# Vários argumentos na função lambda\n",
    "(lambda x, y: x ** y)(2,3)"
   ]
  },
  {
   "cell_type": "code",
   "execution_count": 20,
   "id": "2d58eaa0",
   "metadata": {},
   "outputs": [],
   "source": [
    "# Função que recebe, como argumento, outra função\n",
    "def operacao(funcao, *args):\n",
    "    resultado = funcao(*args)\n",
    "    \n",
    "    return resultado + 1"
   ]
  },
  {
   "cell_type": "code",
   "execution_count": 27,
   "id": "d6f9e5a0",
   "metadata": {},
   "outputs": [
    {
     "data": {
      "text/plain": [
       "9"
      ]
     },
     "execution_count": 27,
     "metadata": {},
     "output_type": "execute_result"
    }
   ],
   "source": [
    "operacao(lambda x, y: x ** y, 2, 3)"
   ]
  },
  {
   "cell_type": "code",
   "execution_count": 24,
   "id": "1359c716",
   "metadata": {},
   "outputs": [],
   "source": [
    "def potencia(x, y):\n",
    "    return x ** y"
   ]
  },
  {
   "cell_type": "code",
   "execution_count": 40,
   "id": "df9b3400",
   "metadata": {},
   "outputs": [
    {
     "data": {
      "text/plain": [
       "9"
      ]
     },
     "execution_count": 40,
     "metadata": {},
     "output_type": "execute_result"
    }
   ],
   "source": [
    "operacao(potencia, 2, 3)"
   ]
  },
  {
   "cell_type": "code",
   "execution_count": 38,
   "id": "e595d836",
   "metadata": {},
   "outputs": [],
   "source": [
    "def teste():\n",
    "    return 'True'"
   ]
  },
  {
   "cell_type": "code",
   "execution_count": 39,
   "id": "c3ad9108",
   "metadata": {},
   "outputs": [
    {
     "data": {
      "text/plain": [
       "(function, str)"
      ]
     },
     "execution_count": 39,
     "metadata": {},
     "output_type": "execute_result"
    }
   ],
   "source": [
    "# Função x Chamada da função\n",
    "type(teste), type(teste())"
   ]
  },
  {
   "cell_type": "code",
   "execution_count": 49,
   "id": "68114ccf",
   "metadata": {},
   "outputs": [],
   "source": [
    "def mapeamento(funcao, lista):\n",
    "    lista_transformada = []\n",
    "    \n",
    "    for elem in lista:\n",
    "        lista_transformada.append(funcao(elem))\n",
    "    \n",
    "    return lista_transformada"
   ]
  },
  {
   "cell_type": "code",
   "execution_count": 42,
   "id": "c598978a",
   "metadata": {},
   "outputs": [],
   "source": [
    "nomes = ['janildo', 'alexandre', 'guilherme', 'julia', 'marcos']"
   ]
  },
  {
   "cell_type": "code",
   "execution_count": 46,
   "id": "9961ab4f",
   "metadata": {},
   "outputs": [
    {
     "data": {
      "text/plain": [
       "['Janildo', 'Alexandre', 'Guilherme', 'Julia', 'Marcos']"
      ]
     },
     "execution_count": 46,
     "metadata": {},
     "output_type": "execute_result"
    }
   ],
   "source": [
    "temp = []\n",
    "for nome in nomes:\n",
    "    temp.append(nome.title())\n",
    "    \n",
    "temp"
   ]
  },
  {
   "cell_type": "code",
   "execution_count": 51,
   "id": "36fcd305",
   "metadata": {},
   "outputs": [
    {
     "data": {
      "text/plain": [
       "['Janildo', 'Alexandre', 'Guilherme', 'Julia', 'Marcos']"
      ]
     },
     "execution_count": 51,
     "metadata": {},
     "output_type": "execute_result"
    }
   ],
   "source": [
    "mapeamento(lambda x: x.title(), nomes)"
   ]
  },
  {
   "cell_type": "code",
   "execution_count": null,
   "id": "1b5b4fab",
   "metadata": {},
   "outputs": [],
   "source": [
    "def primeira_maiscula(texto):\n",
    "    return texto.title()"
   ]
  },
  {
   "cell_type": "code",
   "execution_count": 54,
   "id": "42853373",
   "metadata": {},
   "outputs": [],
   "source": [
    "def maiuscula(texto):\n",
    "    return texto.upper()"
   ]
  },
  {
   "cell_type": "code",
   "execution_count": 53,
   "id": "86ed799e",
   "metadata": {},
   "outputs": [
    {
     "data": {
      "text/plain": [
       "['Janildo', 'Alexandre', 'Guilherme', 'Julia', 'Marcos']"
      ]
     },
     "execution_count": 53,
     "metadata": {},
     "output_type": "execute_result"
    }
   ],
   "source": [
    "mapeamento(primeira_maiscula, nomes)"
   ]
  },
  {
   "cell_type": "code",
   "execution_count": 56,
   "id": "9663c20d",
   "metadata": {},
   "outputs": [
    {
     "data": {
      "text/plain": [
       "['JANILDO', 'ALEXANDRE', 'GUILHERME', 'JULIA', 'MARCOS']"
      ]
     },
     "execution_count": 56,
     "metadata": {},
     "output_type": "execute_result"
    }
   ],
   "source": [
    "mapeamento(maiuscula, nomes)"
   ]
  },
  {
   "cell_type": "code",
   "execution_count": 57,
   "id": "e6c62168",
   "metadata": {},
   "outputs": [
    {
     "data": {
      "text/plain": [
       "[7, 9, 9, 5, 6]"
      ]
     },
     "execution_count": 57,
     "metadata": {},
     "output_type": "execute_result"
    }
   ],
   "source": [
    "mapeamento(len, nomes)"
   ]
  },
  {
   "cell_type": "code",
   "execution_count": 60,
   "id": "afff9671",
   "metadata": {},
   "outputs": [
    {
     "data": {
      "text/plain": [
       "['janildO', 'alexandrE', 'guilhermE', 'juliA', 'marcoS']"
      ]
     },
     "execution_count": 60,
     "metadata": {},
     "output_type": "execute_result"
    }
   ],
   "source": [
    "mapeamento(lambda x: x[:-1]+x[-1].upper(), nomes)"
   ]
  },
  {
   "cell_type": "code",
   "execution_count": 64,
   "id": "8e0674f6",
   "metadata": {},
   "outputs": [],
   "source": [
    "sobrenomes = ['barbosa', 'perfe', 'guimarães', 'dores', 'victor']\n"
   ]
  },
  {
   "cell_type": "code",
   "execution_count": 71,
   "id": "8d6aa8ea",
   "metadata": {},
   "outputs": [
    {
     "data": {
      "text/plain": [
       "'Alexandre - Perfe'"
      ]
     },
     "execution_count": 71,
     "metadata": {},
     "output_type": "execute_result"
    }
   ],
   "source": [
    "# Chamando a função lambda\n",
    "(lambda nome, sep, sobrenome: nome.title()+sep+sobrenome.title())('alexandre', ' - ', 'perfe') "
   ]
  },
  {
   "cell_type": "code",
   "execution_count": 72,
   "id": "333fbb4d",
   "metadata": {},
   "outputs": [
    {
     "data": {
      "text/plain": [
       "['janildo', 'alexandre', 'guilherme', 'julia', 'marcos']"
      ]
     },
     "execution_count": 72,
     "metadata": {},
     "output_type": "execute_result"
    }
   ],
   "source": [
    "lambda x: x.upper()"
   ]
  },
  {
   "cell_type": "code",
   "execution_count": 84,
   "id": "05b47af9",
   "metadata": {},
   "outputs": [
    {
     "data": {
      "text/plain": [
       "[7, 9, 9, 5, 6]"
      ]
     },
     "execution_count": 84,
     "metadata": {},
     "output_type": "execute_result"
    }
   ],
   "source": [
    "# Utilizando a função map\n",
    "list(map(len, nomes))"
   ]
  },
  {
   "cell_type": "code",
   "execution_count": 83,
   "id": "373dfa40",
   "metadata": {},
   "outputs": [
    {
     "data": {
      "text/plain": [
       "['JANILDO Barbosa',\n",
       " 'ALEXANDRE Perfe',\n",
       " 'GUILHERME Guimarães',\n",
       " 'JULIA Dores',\n",
       " 'MARCOS Victor']"
      ]
     },
     "execution_count": 83,
     "metadata": {},
     "output_type": "execute_result"
    }
   ],
   "source": [
    "# Função map com duas listas\n",
    "list(map(lambda x, y: x.upper() +' '+ y.title(), nomes, sobrenomes))"
   ]
  },
  {
   "cell_type": "code",
   "execution_count": 85,
   "id": "3f434904",
   "metadata": {},
   "outputs": [],
   "source": [
    "# Filtrando elementos de uma lista\n",
    "\n",
    "def filtrar(funcao, lista):\n",
    "    lista_filtrada = []\n",
    "    \n",
    "    for elem in lista:\n",
    "        if funcao(elem) == True:\n",
    "            lista_filtrada.append(elem)\n",
    "    \n",
    "    return lista_filtrada"
   ]
  },
  {
   "cell_type": "code",
   "execution_count": null,
   "id": "ffc7cce9",
   "metadata": {},
   "outputs": [],
   "source": [
    "def teste(texto):\n",
    "    if len(texto) <= 6:\n",
    "        return True\n",
    "    else:\n",
    "        return False\n",
    "    "
   ]
  },
  {
   "cell_type": "code",
   "execution_count": 99,
   "id": "2c8faee4",
   "metadata": {},
   "outputs": [],
   "source": [
    "def teste2(texto):\n",
    "    if texto.count('e') > 1:\n",
    "        return True\n",
    "    else:\n",
    "        return False"
   ]
  },
  {
   "cell_type": "code",
   "execution_count": 100,
   "id": "7dd90d35",
   "metadata": {},
   "outputs": [
    {
     "data": {
      "text/plain": [
       "['julia', 'marcos']"
      ]
     },
     "execution_count": 100,
     "metadata": {},
     "output_type": "execute_result"
    }
   ],
   "source": [
    "filtrar(teste, nomes)"
   ]
  },
  {
   "cell_type": "code",
   "execution_count": 101,
   "id": "712b2c2b",
   "metadata": {},
   "outputs": [
    {
     "data": {
      "text/plain": [
       "['alexandre', 'guilherme']"
      ]
     },
     "execution_count": 101,
     "metadata": {},
     "output_type": "execute_result"
    }
   ],
   "source": [
    "filtrar(teste2, nomes)"
   ]
  },
  {
   "cell_type": "code",
   "execution_count": 98,
   "id": "34225631",
   "metadata": {},
   "outputs": [
    {
     "data": {
      "text/plain": [
       "['janildo', 'alexandre', 'guilherme', 'julia', 'marcos']"
      ]
     },
     "execution_count": 98,
     "metadata": {},
     "output_type": "execute_result"
    }
   ],
   "source": [
    "nomes"
   ]
  },
  {
   "cell_type": "code",
   "execution_count": 104,
   "id": "863e6d2c",
   "metadata": {},
   "outputs": [
    {
     "data": {
      "text/plain": [
       "['julia', 'marcos']"
      ]
     },
     "execution_count": 104,
     "metadata": {},
     "output_type": "execute_result"
    }
   ],
   "source": [
    "# Utilizando a função filter\n",
    "\n",
    "list(filter(teste, nomes))"
   ]
  },
  {
   "cell_type": "code",
   "execution_count": 105,
   "id": "c1ee914c",
   "metadata": {},
   "outputs": [
    {
     "data": {
      "text/plain": [
       "['alexandre', 'guilherme']"
      ]
     },
     "execution_count": 105,
     "metadata": {},
     "output_type": "execute_result"
    }
   ],
   "source": [
    "list(filter(teste2, nomes))"
   ]
  },
  {
   "cell_type": "code",
   "execution_count": 110,
   "id": "dfc8a869",
   "metadata": {},
   "outputs": [
    {
     "data": {
      "text/plain": [
       "['julia']"
      ]
     },
     "execution_count": 110,
     "metadata": {},
     "output_type": "execute_result"
    }
   ],
   "source": [
    "list(filter(lambda x: x[-1]=='a', nomes))"
   ]
  },
  {
   "cell_type": "code",
   "execution_count": 112,
   "id": "d268dbd7",
   "metadata": {},
   "outputs": [],
   "source": [
    "import matplotlib.pyplot as plt\n"
   ]
  },
  {
   "cell_type": "code",
   "execution_count": null,
   "id": "956713ac",
   "metadata": {},
   "outputs": [],
   "source": [
    "plt.plot()"
   ]
  },
  {
   "cell_type": "code",
   "execution_count": 118,
   "id": "1faff473",
   "metadata": {},
   "outputs": [],
   "source": [
    "from functools import reduce"
   ]
  },
  {
   "cell_type": "code",
   "execution_count": 130,
   "id": "81f4d9c6",
   "metadata": {},
   "outputs": [
    {
     "data": {
      "text/plain": [
       "0"
      ]
     },
     "execution_count": 130,
     "metadata": {},
     "output_type": "execute_result"
    }
   ],
   "source": [
    "reduce(lambda x, y: x + y, [1, 2, 3, 4, 5], -15)"
   ]
  },
  {
   "cell_type": "code",
   "execution_count": 133,
   "id": "00332dba",
   "metadata": {},
   "outputs": [],
   "source": [
    "def reduzir(funcao, lista, initial=0):\n",
    "    if initial == 0:\n",
    "        temp = lista[0]\n",
    "        lista = lista[1:]\n",
    "    else:\n",
    "        temp = initial\n",
    "        \n",
    "    for elem in lista: \n",
    "        temp = funcao(elem, temp)\n",
    "        \n",
    "    return temp"
   ]
  },
  {
   "cell_type": "code",
   "execution_count": 134,
   "id": "07cf9624",
   "metadata": {},
   "outputs": [
    {
     "data": {
      "text/plain": [
       "120"
      ]
     },
     "execution_count": 134,
     "metadata": {},
     "output_type": "execute_result"
    }
   ],
   "source": [
    "reduzir(lambda x, y: x * y, [1, 2, 3, 4, 5])"
   ]
  },
  {
   "cell_type": "code",
   "execution_count": 135,
   "id": "abff1fe1",
   "metadata": {},
   "outputs": [],
   "source": [
    "# Iteradores/Geradores\n",
    "# Criando nosso iterator\n",
    "meu_iterador = iter([2, 3, 4])"
   ]
  },
  {
   "cell_type": "code",
   "execution_count": 141,
   "id": "a8df784f",
   "metadata": {},
   "outputs": [
    {
     "ename": "StopIteration",
     "evalue": "",
     "output_type": "error",
     "traceback": [
      "\u001b[1;31m---------------------------------------------------------------------------\u001b[0m",
      "\u001b[1;31mStopIteration\u001b[0m                             Traceback (most recent call last)",
      "Cell \u001b[1;32mIn[141], line 2\u001b[0m\n\u001b[0;32m      1\u001b[0m \u001b[38;5;66;03m# Acessando elementos de um iterador: next()\u001b[39;00m\n\u001b[1;32m----> 2\u001b[0m \u001b[38;5;28;43mnext\u001b[39;49m\u001b[43m(\u001b[49m\u001b[43mmeu_iterador\u001b[49m\u001b[43m)\u001b[49m\n",
      "\u001b[1;31mStopIteration\u001b[0m: "
     ]
    }
   ],
   "source": [
    "# Acessando elementos de um iterador: next()\n",
    "next(meu_iterador)"
   ]
  },
  {
   "cell_type": "code",
   "execution_count": 144,
   "id": "e2760a60",
   "metadata": {},
   "outputs": [
    {
     "name": "stdout",
     "output_type": "stream",
     "text": [
      "2\n",
      "3\n"
     ]
    }
   ],
   "source": [
    "# map() retorna um iterator\n",
    "for elem in map(lambda x: x, [2, 3]):\n",
    "    print(elem)\n"
   ]
  },
  {
   "cell_type": "code",
   "execution_count": 148,
   "id": "4f174191",
   "metadata": {},
   "outputs": [
    {
     "name": "stdout",
     "output_type": "stream",
     "text": [
      "2\n",
      "3\n"
     ]
    }
   ],
   "source": [
    "# filter() retorna um  iterator\n",
    "for elem in filter(lambda x: x > 0, [2, 3, 0, -1]):\n",
    "    print(elem)"
   ]
  },
  {
   "cell_type": "code",
   "execution_count": 149,
   "id": "f67d5ae4",
   "metadata": {},
   "outputs": [
    {
     "data": {
      "text/plain": [
       "[6, 8, 10, 12]"
      ]
     },
     "execution_count": 149,
     "metadata": {},
     "output_type": "execute_result"
    }
   ],
   "source": [
    "# list comprehension\n",
    "[2*elem for elem in [3, 4, 5, 6]]"
   ]
  },
  {
   "cell_type": "code",
   "execution_count": 151,
   "id": "5d771fb6",
   "metadata": {},
   "outputs": [],
   "source": [
    "# 'tuple comprehension' --> generator\n",
    "meu_gerador = (2*elem for elem in [3, 4, 5, 6])"
   ]
  },
  {
   "cell_type": "code",
   "execution_count": 156,
   "id": "65d5e464",
   "metadata": {},
   "outputs": [
    {
     "ename": "StopIteration",
     "evalue": "",
     "output_type": "error",
     "traceback": [
      "\u001b[1;31m---------------------------------------------------------------------------\u001b[0m",
      "\u001b[1;31mStopIteration\u001b[0m                             Traceback (most recent call last)",
      "Cell \u001b[1;32mIn[156], line 2\u001b[0m\n\u001b[0;32m      1\u001b[0m \u001b[38;5;66;03m# Acessando elementos do generator\u001b[39;00m\n\u001b[1;32m----> 2\u001b[0m \u001b[38;5;28;43mnext\u001b[39;49m\u001b[43m(\u001b[49m\u001b[43mmeu_gerador\u001b[49m\u001b[43m)\u001b[49m\n",
      "\u001b[1;31mStopIteration\u001b[0m: "
     ]
    }
   ],
   "source": [
    "# Acessando elementos do generator\n",
    "next(meu_gerador)"
   ]
  },
  {
   "cell_type": "code",
   "execution_count": 157,
   "id": "334d728e",
   "metadata": {},
   "outputs": [],
   "source": [
    "# Criando nosso próprio generator: yield\n",
    "\n",
    "def meu_gen(lista):\n",
    "    for elem in lista:\n",
    "        \n",
    "        yield elem"
   ]
  },
  {
   "cell_type": "code",
   "execution_count": 161,
   "id": "5e3a289f",
   "metadata": {},
   "outputs": [],
   "source": [
    "meu_gerador = meu_gen([2, 3, 4, -8])"
   ]
  },
  {
   "cell_type": "code",
   "execution_count": 167,
   "id": "af720f5d",
   "metadata": {},
   "outputs": [
    {
     "ename": "StopIteration",
     "evalue": "",
     "output_type": "error",
     "traceback": [
      "\u001b[1;31m---------------------------------------------------------------------------\u001b[0m",
      "\u001b[1;31mStopIteration\u001b[0m                             Traceback (most recent call last)",
      "Cell \u001b[1;32mIn[167], line 1\u001b[0m\n\u001b[1;32m----> 1\u001b[0m \u001b[38;5;28;43mnext\u001b[39;49m\u001b[43m(\u001b[49m\u001b[43mmeu_gerador\u001b[49m\u001b[43m)\u001b[49m\n",
      "\u001b[1;31mStopIteration\u001b[0m: "
     ]
    }
   ],
   "source": [
    "next(meu_gerador)"
   ]
  },
  {
   "cell_type": "code",
   "execution_count": 168,
   "id": "5e5d5d5c",
   "metadata": {},
   "outputs": [],
   "source": [
    "from sys import getsizeof"
   ]
  },
  {
   "cell_type": "code",
   "execution_count": 176,
   "id": "3d95a711",
   "metadata": {},
   "outputs": [],
   "source": [
    "meu_gerador = meu_gen([2, 3, 4, -8] * 200)"
   ]
  },
  {
   "cell_type": "code",
   "execution_count": 175,
   "id": "23fe7811",
   "metadata": {},
   "outputs": [
    {
     "data": {
      "text/plain": [
       "6456"
      ]
     },
     "execution_count": 175,
     "metadata": {},
     "output_type": "execute_result"
    }
   ],
   "source": [
    "getsizeof([2, 3, 4, -8] * 200)"
   ]
  },
  {
   "cell_type": "code",
   "execution_count": 177,
   "id": "99d42426",
   "metadata": {},
   "outputs": [
    {
     "data": {
      "text/plain": [
       "112"
      ]
     },
     "execution_count": 177,
     "metadata": {},
     "output_type": "execute_result"
    }
   ],
   "source": [
    "getsizeof(meu_gerador)"
   ]
  },
  {
   "cell_type": "code",
   "execution_count": 179,
   "id": "9c8cbe76",
   "metadata": {},
   "outputs": [
    {
     "data": {
      "text/plain": [
       "48"
      ]
     },
     "execution_count": 179,
     "metadata": {},
     "output_type": "execute_result"
    }
   ],
   "source": [
    "getsizeof(iter([2, 3, 4, -8] * 200))"
   ]
  },
  {
   "cell_type": "code",
   "execution_count": 180,
   "id": "b30206c9",
   "metadata": {},
   "outputs": [
    {
     "data": {
      "text/plain": [
       "[2, 3, 4]"
      ]
     },
     "execution_count": 180,
     "metadata": {},
     "output_type": "execute_result"
    }
   ],
   "source": [
    "[elem for elem in iter([2, 3, 4])]"
   ]
  },
  {
   "cell_type": "code",
   "execution_count": 185,
   "id": "fd25b76b",
   "metadata": {},
   "outputs": [
    {
     "name": "stdout",
     "output_type": "stream",
     "text": [
      "0 1 2 3 "
     ]
    }
   ],
   "source": [
    "for i in range(4):\n",
    "    print(i, end=' ')"
   ]
  },
  {
   "cell_type": "code",
   "execution_count": 186,
   "id": "91de342f",
   "metadata": {},
   "outputs": [],
   "source": [
    "def meus_indices():\n",
    "    cont = 0\n",
    "    \n",
    "    while True:\n",
    "        yield cont\n",
    "        cont += 1"
   ]
  },
  {
   "cell_type": "code",
   "execution_count": 187,
   "id": "51a91798",
   "metadata": {},
   "outputs": [],
   "source": [
    "meu_gerador = meus_indices()"
   ]
  },
  {
   "cell_type": "code",
   "execution_count": 208,
   "id": "e0059fde",
   "metadata": {},
   "outputs": [
    {
     "data": {
      "text/plain": [
       "19"
      ]
     },
     "execution_count": 208,
     "metadata": {},
     "output_type": "execute_result"
    }
   ],
   "source": [
    "next(meu_gerador)"
   ]
  },
  {
   "cell_type": "code",
   "execution_count": null,
   "id": "4ec2117c",
   "metadata": {},
   "outputs": [],
   "source": [
    "map()"
   ]
  },
  {
   "attachments": {
    "image.png": {
     "image/png": "[encoded data removed]"
    }
   },
   "cell_type": "markdown",
   "id": "6e3926f6",
   "metadata": {},
   "source": [
    "![image.png](attachment:image.png)"
   ]
  }
 ],
 "metadata": {
  "kernelspec": {
   "display_name": "Python 3 (ipykernel)",
   "language": "python",
   "name": "python3"
  },
  "language_info": {
   "codemirror_mode": {
    "name": "ipython",
    "version": 3
   },
   "file_extension": ".py",
   "mimetype": "text/x-python",
   "name": "python",
   "nbconvert_exporter": "python",
   "pygments_lexer": "ipython3",
   "version": "3.9.18"
  }
 },
 "nbformat": 4,
 "nbformat_minor": 5
}
